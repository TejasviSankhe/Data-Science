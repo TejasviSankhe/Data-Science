{
 "cells": [
  {
   "cell_type": "markdown",
   "metadata": {},
   "source": [
    "### read csv and answer the questions."
   ]
  },
  {
   "cell_type": "code",
   "execution_count": 1,
   "metadata": {
    "collapsed": false
   },
   "outputs": [
    {
     "name": "stderr",
     "output_type": "stream",
     "text": [
      "Installing package into 'C:/Users/tsankhe/Documents/R/win-library/3.3'\n",
      "(as 'lib' is unspecified)\n"
     ]
    },
    {
     "name": "stdout",
     "output_type": "stream",
     "text": [
      "package 'dplyr' successfully unpacked and MD5 sums checked\n",
      "\n",
      "The downloaded binary packages are in\n",
      "\tC:\\Users\\tsankhe\\AppData\\Local\\Temp\\RtmpKeqpvc\\downloaded_packages\n"
     ]
    },
    {
     "name": "stderr",
     "output_type": "stream",
     "text": [
      "Installing package into 'C:/Users/tsankhe/Documents/R/win-library/3.3'\n",
      "(as 'lib' is unspecified)\n"
     ]
    },
    {
     "name": "stdout",
     "output_type": "stream",
     "text": [
      "package 'RSQLite' successfully unpacked and MD5 sums checked\n",
      "\n",
      "The downloaded binary packages are in\n",
      "\tC:\\Users\\tsankhe\\AppData\\Local\\Temp\\RtmpKeqpvc\\downloaded_packages\n"
     ]
    },
    {
     "name": "stderr",
     "output_type": "stream",
     "text": [
      "Installing package into 'C:/Users/tsankhe/Documents/R/win-library/3.3'\n",
      "(as 'lib' is unspecified)\n"
     ]
    },
    {
     "name": "stdout",
     "output_type": "stream",
     "text": [
      "package 'sqldf' successfully unpacked and MD5 sums checked\n",
      "\n",
      "The downloaded binary packages are in\n",
      "\tC:\\Users\\tsankhe\\AppData\\Local\\Temp\\RtmpKeqpvc\\downloaded_packages\n"
     ]
    }
   ],
   "source": [
    "install.packages(\"dplyr\", repos=\"http://cran.rstudio.com/\") \n",
    "install.packages(\"RSQLite\", repos=\"http://cran.rstudio.com/\") \n",
    "install.packages(\"sqldf\", repos=\"http://cran.rstudio.com/\") \n"
   ]
  },
  {
   "cell_type": "code",
   "execution_count": 2,
   "metadata": {
    "collapsed": false
   },
   "outputs": [
    {
     "name": "stderr",
     "output_type": "stream",
     "text": [
      "Warning message:\n",
      "\"package 'dplyr' was built under R version 3.3.3\"\n",
      "Attaching package: 'dplyr'\n",
      "\n",
      "The following objects are masked from 'package:stats':\n",
      "\n",
      "    filter, lag\n",
      "\n",
      "The following objects are masked from 'package:base':\n",
      "\n",
      "    intersect, setdiff, setequal, union\n",
      "\n",
      "Warning message:\n",
      "\"package 'RSQLite' was built under R version 3.3.3\"Warning message:\n",
      "\"package 'sqldf' was built under R version 3.3.3\"Loading required package: gsubfn\n",
      "Loading required package: proto\n",
      "Could not load tcltk.  Will use slower R code instead.\n"
     ]
    }
   ],
   "source": [
    "library(dplyr)\n",
    "library(RSQLite)\n",
    "library(sqldf)"
   ]
  },
  {
   "cell_type": "code",
   "execution_count": 3,
   "metadata": {
    "collapsed": true
   },
   "outputs": [],
   "source": [
    "players<-read.csv(\"Players.csv\")\n",
    "teams<-read.csv(\"Teams.csv\")"
   ]
  },
  {
   "cell_type": "code",
   "execution_count": 4,
   "metadata": {
    "collapsed": false
   },
   "outputs": [
    {
     "data": {
      "text/html": [
       "<table>\n",
       "<thead><tr><th scope=col>X</th><th scope=col>player_api_id</th><th scope=col>player_name</th><th scope=col>date</th><th scope=col>overall_rating</th><th scope=col>gk_overall</th><th scope=col>number_of_appearances</th><th scope=col>number_of_leagues</th></tr></thead>\n",
       "<tbody>\n",
       "\t<tr><td>1                  </td><td>2625               </td><td>Patryk Rachwal,18  </td><td>2012-02-22 00:00:00</td><td>58                 </td><td>45                 </td><td>4                  </td><td>1                  </td></tr>\n",
       "\t<tr><td>2                  </td><td>2625               </td><td>Patryk Rachwal,18  </td><td>2013-03-08 00:00:00</td><td>61                 </td><td>45                 </td><td>4                  </td><td>1                  </td></tr>\n",
       "\t<tr><td>3                  </td><td>2625               </td><td>Patryk Rachwal,18  </td><td>2011-02-22 00:00:00</td><td>59                 </td><td>45                 </td><td>4                  </td><td>1                  </td></tr>\n",
       "\t<tr><td>4                  </td><td>2625               </td><td>Patryk Rachwal,18  </td><td>2014-09-18 00:00:00</td><td>61                 </td><td>45                 </td><td>4                  </td><td>1                  </td></tr>\n",
       "\t<tr><td>5                  </td><td>2625               </td><td>Patryk Rachwal,18  </td><td>2012-08-31 00:00:00</td><td>58                 </td><td>45                 </td><td>4                  </td><td>1                  </td></tr>\n",
       "\t<tr><td>6                  </td><td>2625               </td><td>Patryk Rachwal,18  </td><td>2014-11-07 00:00:00</td><td>61                 </td><td>45                 </td><td>4                  </td><td>1                  </td></tr>\n",
       "</tbody>\n",
       "</table>\n"
      ],
      "text/latex": [
       "\\begin{tabular}{r|llllllll}\n",
       " X & player\\_api\\_id & player\\_name & date & overall\\_rating & gk\\_overall & number\\_of\\_appearances & number\\_of\\_leagues\\\\\n",
       "\\hline\n",
       "\t 1                   & 2625                & Patryk Rachwal,18   & 2012-02-22 00:00:00 & 58                  & 45                  & 4                   & 1                  \\\\\n",
       "\t 2                   & 2625                & Patryk Rachwal,18   & 2013-03-08 00:00:00 & 61                  & 45                  & 4                   & 1                  \\\\\n",
       "\t 3                   & 2625                & Patryk Rachwal,18   & 2011-02-22 00:00:00 & 59                  & 45                  & 4                   & 1                  \\\\\n",
       "\t 4                   & 2625                & Patryk Rachwal,18   & 2014-09-18 00:00:00 & 61                  & 45                  & 4                   & 1                  \\\\\n",
       "\t 5                   & 2625                & Patryk Rachwal,18   & 2012-08-31 00:00:00 & 58                  & 45                  & 4                   & 1                  \\\\\n",
       "\t 6                   & 2625                & Patryk Rachwal,18   & 2014-11-07 00:00:00 & 61                  & 45                  & 4                   & 1                  \\\\\n",
       "\\end{tabular}\n"
      ],
      "text/markdown": [
       "\n",
       "X | player_api_id | player_name | date | overall_rating | gk_overall | number_of_appearances | number_of_leagues | \n",
       "|---|---|---|---|---|---|\n",
       "| 1                   | 2625                | Patryk Rachwal,18   | 2012-02-22 00:00:00 | 58                  | 45                  | 4                   | 1                   | \n",
       "| 2                   | 2625                | Patryk Rachwal,18   | 2013-03-08 00:00:00 | 61                  | 45                  | 4                   | 1                   | \n",
       "| 3                   | 2625                | Patryk Rachwal,18   | 2011-02-22 00:00:00 | 59                  | 45                  | 4                   | 1                   | \n",
       "| 4                   | 2625                | Patryk Rachwal,18   | 2014-09-18 00:00:00 | 61                  | 45                  | 4                   | 1                   | \n",
       "| 5                   | 2625                | Patryk Rachwal,18   | 2012-08-31 00:00:00 | 58                  | 45                  | 4                   | 1                   | \n",
       "| 6                   | 2625                | Patryk Rachwal,18   | 2014-11-07 00:00:00 | 61                  | 45                  | 4                   | 1                   | \n",
       "\n",
       "\n"
      ],
      "text/plain": [
       "  X player_api_id player_name       date                overall_rating\n",
       "1 1 2625          Patryk Rachwal,18 2012-02-22 00:00:00 58            \n",
       "2 2 2625          Patryk Rachwal,18 2013-03-08 00:00:00 61            \n",
       "3 3 2625          Patryk Rachwal,18 2011-02-22 00:00:00 59            \n",
       "4 4 2625          Patryk Rachwal,18 2014-09-18 00:00:00 61            \n",
       "5 5 2625          Patryk Rachwal,18 2012-08-31 00:00:00 58            \n",
       "6 6 2625          Patryk Rachwal,18 2014-11-07 00:00:00 61            \n",
       "  gk_overall number_of_appearances number_of_leagues\n",
       "1 45         4                     1                \n",
       "2 45         4                     1                \n",
       "3 45         4                     1                \n",
       "4 45         4                     1                \n",
       "5 45         4                     1                \n",
       "6 45         4                     1                "
      ]
     },
     "metadata": {},
     "output_type": "display_data"
    },
    {
     "data": {
      "text/html": [
       "<table>\n",
       "<thead><tr><th scope=col>X</th><th scope=col>team_api_id</th><th scope=col>team_long_name</th><th scope=col>date</th><th scope=col>build_up_play</th><th scope=col>chance_creation</th><th scope=col>defence</th><th scope=col>total_goals</th></tr></thead>\n",
       "<tbody>\n",
       "\t<tr><td>1                  </td><td>1601               </td><td>Ruch Chorzów       </td><td>2010-02-22 00:00:00</td><td>  0                </td><td>155                </td><td>175                </td><td>280                </td></tr>\n",
       "\t<tr><td>2                  </td><td>1601               </td><td>Ruch Chorzów       </td><td>2011-02-22 00:00:00</td><td>  0                </td><td>186                </td><td>144                </td><td>280                </td></tr>\n",
       "\t<tr><td>3                  </td><td>1601               </td><td>Ruch Chorzów       </td><td>2012-02-22 00:00:00</td><td>  0                </td><td>159                </td><td>136                </td><td>280                </td></tr>\n",
       "\t<tr><td>4                  </td><td>1601               </td><td>Ruch Chorzów       </td><td>2013-09-20 00:00:00</td><td>  0                </td><td>159                </td><td>136                </td><td>280                </td></tr>\n",
       "\t<tr><td>5                  </td><td>1601               </td><td>Ruch Chorzów       </td><td>2014-09-19 00:00:00</td><td>139                </td><td>181                </td><td>136                </td><td>280                </td></tr>\n",
       "\t<tr><td>6                  </td><td>1601               </td><td>Ruch Chorzów       </td><td>2015-09-10 00:00:00</td><td>133                </td><td>176                </td><td>136                </td><td>280                </td></tr>\n",
       "</tbody>\n",
       "</table>\n"
      ],
      "text/latex": [
       "\\begin{tabular}{r|llllllll}\n",
       " X & team\\_api\\_id & team\\_long\\_name & date & build\\_up\\_play & chance\\_creation & defence & total\\_goals\\\\\n",
       "\\hline\n",
       "\t 1                   & 1601                & Ruch Chorzów        & 2010-02-22 00:00:00 &   0                 & 155                 & 175                 & 280                \\\\\n",
       "\t 2                   & 1601                & Ruch Chorzów        & 2011-02-22 00:00:00 &   0                 & 186                 & 144                 & 280                \\\\\n",
       "\t 3                   & 1601                & Ruch Chorzów        & 2012-02-22 00:00:00 &   0                 & 159                 & 136                 & 280                \\\\\n",
       "\t 4                   & 1601                & Ruch Chorzów        & 2013-09-20 00:00:00 &   0                 & 159                 & 136                 & 280                \\\\\n",
       "\t 5                   & 1601                & Ruch Chorzów        & 2014-09-19 00:00:00 & 139                 & 181                 & 136                 & 280                \\\\\n",
       "\t 6                   & 1601                & Ruch Chorzów        & 2015-09-10 00:00:00 & 133                 & 176                 & 136                 & 280                \\\\\n",
       "\\end{tabular}\n"
      ],
      "text/markdown": [
       "\n",
       "X | team_api_id | team_long_name | date | build_up_play | chance_creation | defence | total_goals | \n",
       "|---|---|---|---|---|---|\n",
       "| 1                   | 1601                | Ruch Chorzów        | 2010-02-22 00:00:00 |   0                 | 155                 | 175                 | 280                 | \n",
       "| 2                   | 1601                | Ruch Chorzów        | 2011-02-22 00:00:00 |   0                 | 186                 | 144                 | 280                 | \n",
       "| 3                   | 1601                | Ruch Chorzów        | 2012-02-22 00:00:00 |   0                 | 159                 | 136                 | 280                 | \n",
       "| 4                   | 1601                | Ruch Chorzów        | 2013-09-20 00:00:00 |   0                 | 159                 | 136                 | 280                 | \n",
       "| 5                   | 1601                | Ruch Chorzów        | 2014-09-19 00:00:00 | 139                 | 181                 | 136                 | 280                 | \n",
       "| 6                   | 1601                | Ruch Chorzów        | 2015-09-10 00:00:00 | 133                 | 176                 | 136                 | 280                 | \n",
       "\n",
       "\n"
      ],
      "text/plain": [
       "  X team_api_id team_long_name date                build_up_play\n",
       "1 1 1601        Ruch Chorzów   2010-02-22 00:00:00   0          \n",
       "2 2 1601        Ruch Chorzów   2011-02-22 00:00:00   0          \n",
       "3 3 1601        Ruch Chorzów   2012-02-22 00:00:00   0          \n",
       "4 4 1601        Ruch Chorzów   2013-09-20 00:00:00   0          \n",
       "5 5 1601        Ruch Chorzów   2014-09-19 00:00:00 139          \n",
       "6 6 1601        Ruch Chorzów   2015-09-10 00:00:00 133          \n",
       "  chance_creation defence total_goals\n",
       "1 155             175     280        \n",
       "2 186             144     280        \n",
       "3 159             136     280        \n",
       "4 159             136     280        \n",
       "5 181             136     280        \n",
       "6 176             136     280        "
      ]
     },
     "metadata": {},
     "output_type": "display_data"
    }
   ],
   "source": [
    "head(players)\n",
    "head(teams)"
   ]
  },
  {
   "cell_type": "markdown",
   "metadata": {},
   "source": [
    "## Which are the top 10 players by overall rating"
   ]
  },
  {
   "cell_type": "code",
   "execution_count": 5,
   "metadata": {
    "collapsed": false
   },
   "outputs": [
    {
     "data": {
      "text/html": [
       "<table>\n",
       "<thead><tr><th scope=col>player_name</th><th scope=col>overall_rating</th></tr></thead>\n",
       "<tbody>\n",
       "\t<tr><td>Lionel Messi     </td><td>94               </td></tr>\n",
       "\t<tr><td>Gianluigi Buffon </td><td>93               </td></tr>\n",
       "\t<tr><td>Wayne Rooney     </td><td>93               </td></tr>\n",
       "\t<tr><td>Cristiano Ronaldo</td><td>93               </td></tr>\n",
       "\t<tr><td>Xavi Hernandez   </td><td>92               </td></tr>\n",
       "\t<tr><td>Gregory Coupet   </td><td>92               </td></tr>\n",
       "\t<tr><td>Thierry Henry    </td><td>91               </td></tr>\n",
       "\t<tr><td>John Terry       </td><td>91               </td></tr>\n",
       "\t<tr><td>Iker Casillas    </td><td>91               </td></tr>\n",
       "\t<tr><td>Alessandro Nesta </td><td>91               </td></tr>\n",
       "</tbody>\n",
       "</table>\n"
      ],
      "text/latex": [
       "\\begin{tabular}{r|ll}\n",
       " player\\_name & overall\\_rating\\\\\n",
       "\\hline\n",
       "\t Lionel Messi      & 94               \\\\\n",
       "\t Gianluigi Buffon  & 93               \\\\\n",
       "\t Wayne Rooney      & 93               \\\\\n",
       "\t Cristiano Ronaldo & 93               \\\\\n",
       "\t Xavi Hernandez    & 92               \\\\\n",
       "\t Gregory Coupet    & 92               \\\\\n",
       "\t Thierry Henry     & 91               \\\\\n",
       "\t John Terry        & 91               \\\\\n",
       "\t Iker Casillas     & 91               \\\\\n",
       "\t Alessandro Nesta  & 91               \\\\\n",
       "\\end{tabular}\n"
      ],
      "text/markdown": [
       "\n",
       "player_name | overall_rating | \n",
       "|---|---|---|---|---|---|---|---|---|---|\n",
       "| Lionel Messi      | 94                | \n",
       "| Gianluigi Buffon  | 93                | \n",
       "| Wayne Rooney      | 93                | \n",
       "| Cristiano Ronaldo | 93                | \n",
       "| Xavi Hernandez    | 92                | \n",
       "| Gregory Coupet    | 92                | \n",
       "| Thierry Henry     | 91                | \n",
       "| John Terry        | 91                | \n",
       "| Iker Casillas     | 91                | \n",
       "| Alessandro Nesta  | 91                | \n",
       "\n",
       "\n"
      ],
      "text/plain": [
       "   player_name       overall_rating\n",
       "1  Lionel Messi      94            \n",
       "2  Gianluigi Buffon  93            \n",
       "3  Wayne Rooney      93            \n",
       "4  Cristiano Ronaldo 93            \n",
       "5  Xavi Hernandez    92            \n",
       "6  Gregory Coupet    92            \n",
       "7  Thierry Henry     91            \n",
       "8  John Terry        91            \n",
       "9  Iker Casillas     91            \n",
       "10 Alessandro Nesta  91            "
      ]
     },
     "metadata": {},
     "output_type": "display_data"
    }
   ],
   "source": [
    "ans<- group_by(players, player_name) %>% distinct(overall_rating) %>% filter(overall_rating==max(overall_rating)) %>%  arrange(desc(overall_rating)) \n",
    "ans<-select(ans, player_name, everything())\n",
    "head(ans, n=10)"
   ]
  },
  {
   "cell_type": "markdown",
   "metadata": {},
   "source": [
    "## Which are the top 10 goalkeepers by sum of gk attributes?"
   ]
  },
  {
   "cell_type": "code",
   "execution_count": 6,
   "metadata": {
    "collapsed": false
   },
   "outputs": [
    {
     "data": {
      "text/html": [
       "<table>\n",
       "<thead><tr><th scope=col>player_name</th><th scope=col>gk_overall</th></tr></thead>\n",
       "<tbody>\n",
       "\t<tr><td>Gianluigi Buffon </td><td>449              </td></tr>\n",
       "\t<tr><td>Gregory Coupet   </td><td>447              </td></tr>\n",
       "\t<tr><td>Petr Cech        </td><td>445              </td></tr>\n",
       "\t<tr><td>Iker Casillas    </td><td>442              </td></tr>\n",
       "\t<tr><td>Manuel Neuer     </td><td>440              </td></tr>\n",
       "\t<tr><td>Sebastian Frey   </td><td>437              </td></tr>\n",
       "\t<tr><td>Edwin van der Sar</td><td>436              </td></tr>\n",
       "\t<tr><td>David De Gea     </td><td>429              </td></tr>\n",
       "\t<tr><td>Pepe Reina       </td><td>428              </td></tr>\n",
       "\t<tr><td>Paul Robinson    </td><td>426              </td></tr>\n",
       "</tbody>\n",
       "</table>\n"
      ],
      "text/latex": [
       "\\begin{tabular}{r|ll}\n",
       " player\\_name & gk\\_overall\\\\\n",
       "\\hline\n",
       "\t Gianluigi Buffon  & 449              \\\\\n",
       "\t Gregory Coupet    & 447              \\\\\n",
       "\t Petr Cech         & 445              \\\\\n",
       "\t Iker Casillas     & 442              \\\\\n",
       "\t Manuel Neuer      & 440              \\\\\n",
       "\t Sebastian Frey    & 437              \\\\\n",
       "\t Edwin van der Sar & 436              \\\\\n",
       "\t David De Gea      & 429              \\\\\n",
       "\t Pepe Reina        & 428              \\\\\n",
       "\t Paul Robinson     & 426              \\\\\n",
       "\\end{tabular}\n"
      ],
      "text/markdown": [
       "\n",
       "player_name | gk_overall | \n",
       "|---|---|---|---|---|---|---|---|---|---|\n",
       "| Gianluigi Buffon  | 449               | \n",
       "| Gregory Coupet    | 447               | \n",
       "| Petr Cech         | 445               | \n",
       "| Iker Casillas     | 442               | \n",
       "| Manuel Neuer      | 440               | \n",
       "| Sebastian Frey    | 437               | \n",
       "| Edwin van der Sar | 436               | \n",
       "| David De Gea      | 429               | \n",
       "| Pepe Reina        | 428               | \n",
       "| Paul Robinson     | 426               | \n",
       "\n",
       "\n"
      ],
      "text/plain": [
       "   player_name       gk_overall\n",
       "1  Gianluigi Buffon  449       \n",
       "2  Gregory Coupet    447       \n",
       "3  Petr Cech         445       \n",
       "4  Iker Casillas     442       \n",
       "5  Manuel Neuer      440       \n",
       "6  Sebastian Frey    437       \n",
       "7  Edwin van der Sar 436       \n",
       "8  David De Gea      429       \n",
       "9  Pepe Reina        428       \n",
       "10 Paul Robinson     426       "
      ]
     },
     "metadata": {},
     "output_type": "display_data"
    }
   ],
   "source": [
    "ans<- group_by(players, player_name) %>% distinct(gk_overall) %>% filter(gk_overall==max(gk_overall)) %>%  arrange(desc(gk_overall)) \n",
    "ans<-select(ans, player_name, everything())\n",
    "head(ans, n=10)"
   ]
  },
  {
   "cell_type": "markdown",
   "metadata": {},
   "source": [
    "## Which are the top 10 players by number of appearances (with any team they played with)?"
   ]
  },
  {
   "cell_type": "code",
   "execution_count": 7,
   "metadata": {
    "collapsed": false
   },
   "outputs": [
    {
     "data": {
      "text/html": [
       "<table>\n",
       "<thead><tr><th scope=col>player_name</th><th scope=col>number_of_appearances</th></tr></thead>\n",
       "<tbody>\n",
       "\t<tr><td>Steve Mandanda      </td><td>289                 </td></tr>\n",
       "\t<tr><td>Tim Howard          </td><td>277                 </td></tr>\n",
       "\t<tr><td>Hugo Lloris         </td><td>274                 </td></tr>\n",
       "\t<tr><td>Stephane Ruffier    </td><td>270                 </td></tr>\n",
       "\t<tr><td>Joe Hart            </td><td>269                 </td></tr>\n",
       "\t<tr><td>Samir Handanovic    </td><td>264                 </td></tr>\n",
       "\t<tr><td>Gorka Iraizoz Moreno</td><td>260                 </td></tr>\n",
       "\t<tr><td>Cedric Carrasso     </td><td>253                 </td></tr>\n",
       "\t<tr><td>Manuel Neuer        </td><td>251                 </td></tr>\n",
       "\t<tr><td>Ryan Shawcross      </td><td>250                 </td></tr>\n",
       "</tbody>\n",
       "</table>\n"
      ],
      "text/latex": [
       "\\begin{tabular}{r|ll}\n",
       " player\\_name & number\\_of\\_appearances\\\\\n",
       "\\hline\n",
       "\t Steve Mandanda       & 289                 \\\\\n",
       "\t Tim Howard           & 277                 \\\\\n",
       "\t Hugo Lloris          & 274                 \\\\\n",
       "\t Stephane Ruffier     & 270                 \\\\\n",
       "\t Joe Hart             & 269                 \\\\\n",
       "\t Samir Handanovic     & 264                 \\\\\n",
       "\t Gorka Iraizoz Moreno & 260                 \\\\\n",
       "\t Cedric Carrasso      & 253                 \\\\\n",
       "\t Manuel Neuer         & 251                 \\\\\n",
       "\t Ryan Shawcross       & 250                 \\\\\n",
       "\\end{tabular}\n"
      ],
      "text/markdown": [
       "\n",
       "player_name | number_of_appearances | \n",
       "|---|---|---|---|---|---|---|---|---|---|\n",
       "| Steve Mandanda       | 289                  | \n",
       "| Tim Howard           | 277                  | \n",
       "| Hugo Lloris          | 274                  | \n",
       "| Stephane Ruffier     | 270                  | \n",
       "| Joe Hart             | 269                  | \n",
       "| Samir Handanovic     | 264                  | \n",
       "| Gorka Iraizoz Moreno | 260                  | \n",
       "| Cedric Carrasso      | 253                  | \n",
       "| Manuel Neuer         | 251                  | \n",
       "| Ryan Shawcross       | 250                  | \n",
       "\n",
       "\n"
      ],
      "text/plain": [
       "   player_name          number_of_appearances\n",
       "1  Steve Mandanda       289                  \n",
       "2  Tim Howard           277                  \n",
       "3  Hugo Lloris          274                  \n",
       "4  Stephane Ruffier     270                  \n",
       "5  Joe Hart             269                  \n",
       "6  Samir Handanovic     264                  \n",
       "7  Gorka Iraizoz Moreno 260                  \n",
       "8  Cedric Carrasso      253                  \n",
       "9  Manuel Neuer         251                  \n",
       "10 Ryan Shawcross       250                  "
      ]
     },
     "metadata": {},
     "output_type": "display_data"
    }
   ],
   "source": [
    "ans<- group_by(players, player_name) %>% distinct(number_of_appearances) %>% filter(number_of_appearances==max(number_of_appearances)) %>%  arrange(desc(number_of_appearances)) \n",
    "ans<-select(ans, player_name, everything())\n",
    "\n",
    "head(ans, n=10)"
   ]
  },
  {
   "cell_type": "markdown",
   "metadata": {},
   "source": [
    "## Which are the top 10 players by number of leagues they played in?"
   ]
  },
  {
   "cell_type": "code",
   "execution_count": 8,
   "metadata": {
    "collapsed": false
   },
   "outputs": [
    {
     "data": {
      "text/html": [
       "<table>\n",
       "<thead><tr><th scope=col>player_name</th><th scope=col>number_of_leagues</th></tr></thead>\n",
       "<tbody>\n",
       "\t<tr><td>Gelson Fernandes     </td><td>6                    </td></tr>\n",
       "\t<tr><td>Ricky van Wolfswinkel</td><td>5                    </td></tr>\n",
       "\t<tr><td>Filip Djuricic       </td><td>5                    </td></tr>\n",
       "\t<tr><td>Radamel Falcao       </td><td>4                    </td></tr>\n",
       "\t<tr><td>Jonathan De Guzman   </td><td>4                    </td></tr>\n",
       "\t<tr><td>Almen Abdi           </td><td>4                    </td></tr>\n",
       "\t<tr><td>Ibrahim Afellay      </td><td>4                    </td></tr>\n",
       "\t<tr><td>Edson Braafheid      </td><td>4                    </td></tr>\n",
       "\t<tr><td>Eljero Elia          </td><td>4                    </td></tr>\n",
       "\t<tr><td>Danijel Pranjic      </td><td>4                    </td></tr>\n",
       "</tbody>\n",
       "</table>\n"
      ],
      "text/latex": [
       "\\begin{tabular}{r|ll}\n",
       " player\\_name & number\\_of\\_leagues\\\\\n",
       "\\hline\n",
       "\t Gelson Fernandes      & 6                    \\\\\n",
       "\t Ricky van Wolfswinkel & 5                    \\\\\n",
       "\t Filip Djuricic        & 5                    \\\\\n",
       "\t Radamel Falcao        & 4                    \\\\\n",
       "\t Jonathan De Guzman    & 4                    \\\\\n",
       "\t Almen Abdi            & 4                    \\\\\n",
       "\t Ibrahim Afellay       & 4                    \\\\\n",
       "\t Edson Braafheid       & 4                    \\\\\n",
       "\t Eljero Elia           & 4                    \\\\\n",
       "\t Danijel Pranjic       & 4                    \\\\\n",
       "\\end{tabular}\n"
      ],
      "text/markdown": [
       "\n",
       "player_name | number_of_leagues | \n",
       "|---|---|---|---|---|---|---|---|---|---|\n",
       "| Gelson Fernandes      | 6                     | \n",
       "| Ricky van Wolfswinkel | 5                     | \n",
       "| Filip Djuricic        | 5                     | \n",
       "| Radamel Falcao        | 4                     | \n",
       "| Jonathan De Guzman    | 4                     | \n",
       "| Almen Abdi            | 4                     | \n",
       "| Ibrahim Afellay       | 4                     | \n",
       "| Edson Braafheid       | 4                     | \n",
       "| Eljero Elia           | 4                     | \n",
       "| Danijel Pranjic       | 4                     | \n",
       "\n",
       "\n"
      ],
      "text/plain": [
       "   player_name           number_of_leagues\n",
       "1  Gelson Fernandes      6                \n",
       "2  Ricky van Wolfswinkel 5                \n",
       "3  Filip Djuricic        5                \n",
       "4  Radamel Falcao        4                \n",
       "5  Jonathan De Guzman    4                \n",
       "6  Almen Abdi            4                \n",
       "7  Ibrahim Afellay       4                \n",
       "8  Edson Braafheid       4                \n",
       "9  Eljero Elia           4                \n",
       "10 Danijel Pranjic       4                "
      ]
     },
     "metadata": {},
     "output_type": "display_data"
    }
   ],
   "source": [
    "ans<- group_by(players, player_name) %>% distinct(number_of_leagues) %>% filter(number_of_leagues==max(number_of_leagues)) %>%  arrange(desc(number_of_leagues)) \n",
    "ans<-select(ans, player_name, everything())\n",
    "head(ans, n=10)"
   ]
  },
  {
   "cell_type": "markdown",
   "metadata": {},
   "source": [
    "## Which are the top 10 teams by sum of build up play attributes?"
   ]
  },
  {
   "cell_type": "code",
   "execution_count": 9,
   "metadata": {
    "collapsed": false
   },
   "outputs": [
    {
     "data": {
      "text/html": [
       "<table>\n",
       "<thead><tr><th scope=col>team_long_name</th><th scope=col>build_up_play</th></tr></thead>\n",
       "<tbody>\n",
       "\t<tr><td>Torino                    </td><td>209                       </td></tr>\n",
       "\t<tr><td>Udinese                   </td><td>205                       </td></tr>\n",
       "\t<tr><td>Fortuna Düsseldorf        </td><td>198                       </td></tr>\n",
       "\t<tr><td>Podbeskidzie Bielsko-Biala</td><td>193                       </td></tr>\n",
       "\t<tr><td>Korona Kielce             </td><td>192                       </td></tr>\n",
       "\t<tr><td>Widzew Lódz               </td><td>190                       </td></tr>\n",
       "\t<tr><td>Carpi                     </td><td>190                       </td></tr>\n",
       "\t<tr><td>FC Nantes                 </td><td>189                       </td></tr>\n",
       "\t<tr><td>Sassuolo                  </td><td>188                       </td></tr>\n",
       "\t<tr><td>Lazio                     </td><td>188                       </td></tr>\n",
       "</tbody>\n",
       "</table>\n"
      ],
      "text/latex": [
       "\\begin{tabular}{r|ll}\n",
       " team\\_long\\_name & build\\_up\\_play\\\\\n",
       "\\hline\n",
       "\t Torino                     & 209                       \\\\\n",
       "\t Udinese                    & 205                       \\\\\n",
       "\t Fortuna Düsseldorf         & 198                       \\\\\n",
       "\t Podbeskidzie Bielsko-Biala & 193                       \\\\\n",
       "\t Korona Kielce              & 192                       \\\\\n",
       "\t Widzew Lódz                & 190                       \\\\\n",
       "\t Carpi                      & 190                       \\\\\n",
       "\t FC Nantes                  & 189                       \\\\\n",
       "\t Sassuolo                   & 188                       \\\\\n",
       "\t Lazio                      & 188                       \\\\\n",
       "\\end{tabular}\n"
      ],
      "text/markdown": [
       "\n",
       "team_long_name | build_up_play | \n",
       "|---|---|---|---|---|---|---|---|---|---|\n",
       "| Torino                     | 209                        | \n",
       "| Udinese                    | 205                        | \n",
       "| Fortuna Düsseldorf         | 198                        | \n",
       "| Podbeskidzie Bielsko-Biala | 193                        | \n",
       "| Korona Kielce              | 192                        | \n",
       "| Widzew Lódz                | 190                        | \n",
       "| Carpi                      | 190                        | \n",
       "| FC Nantes                  | 189                        | \n",
       "| Sassuolo                   | 188                        | \n",
       "| Lazio                      | 188                        | \n",
       "\n",
       "\n"
      ],
      "text/plain": [
       "   team_long_name             build_up_play\n",
       "1  Torino                     209          \n",
       "2  Udinese                    205          \n",
       "3  Fortuna Düsseldorf         198          \n",
       "4  Podbeskidzie Bielsko-Biala 193          \n",
       "5  Korona Kielce              192          \n",
       "6  Widzew Lódz                190          \n",
       "7  Carpi                      190          \n",
       "8  FC Nantes                  189          \n",
       "9  Sassuolo                   188          \n",
       "10 Lazio                      188          "
      ]
     },
     "metadata": {},
     "output_type": "display_data"
    }
   ],
   "source": [
    "ans<- group_by(teams, team_long_name) %>% distinct(build_up_play) %>% filter(build_up_play==max(build_up_play)) %>%  arrange(desc(build_up_play)) \n",
    "ans<-select(ans, team_long_name, everything())\n",
    "head(ans, n=10)"
   ]
  },
  {
   "cell_type": "markdown",
   "metadata": {},
   "source": [
    "## Which are the top 10 teams by sum of chance creation attributes?"
   ]
  },
  {
   "cell_type": "code",
   "execution_count": 10,
   "metadata": {
    "collapsed": false
   },
   "outputs": [
    {
     "data": {
      "text/html": [
       "<table>\n",
       "<thead><tr><th scope=col>team_long_name</th><th scope=col>chance_creation</th></tr></thead>\n",
       "<tbody>\n",
       "\t<tr><td>Lazio              </td><td>220                </td></tr>\n",
       "\t<tr><td>SV Werder Bremen   </td><td>216                </td></tr>\n",
       "\t<tr><td>Napoli             </td><td>215                </td></tr>\n",
       "\t<tr><td>Bayer 04 Leverkusen</td><td>210                </td></tr>\n",
       "\t<tr><td>Burnley            </td><td>210                </td></tr>\n",
       "\t<tr><td>Cardiff City       </td><td>210                </td></tr>\n",
       "\t<tr><td>Manchester City    </td><td>210                </td></tr>\n",
       "\t<tr><td>Aberdeen           </td><td>210                </td></tr>\n",
       "\t<tr><td>Rangers            </td><td>210                </td></tr>\n",
       "\t<tr><td>Tottenham Hotspur  </td><td>210                </td></tr>\n",
       "</tbody>\n",
       "</table>\n"
      ],
      "text/latex": [
       "\\begin{tabular}{r|ll}\n",
       " team\\_long\\_name & chance\\_creation\\\\\n",
       "\\hline\n",
       "\t Lazio               & 220                \\\\\n",
       "\t SV Werder Bremen    & 216                \\\\\n",
       "\t Napoli              & 215                \\\\\n",
       "\t Bayer 04 Leverkusen & 210                \\\\\n",
       "\t Burnley             & 210                \\\\\n",
       "\t Cardiff City        & 210                \\\\\n",
       "\t Manchester City     & 210                \\\\\n",
       "\t Aberdeen            & 210                \\\\\n",
       "\t Rangers             & 210                \\\\\n",
       "\t Tottenham Hotspur   & 210                \\\\\n",
       "\\end{tabular}\n"
      ],
      "text/markdown": [
       "\n",
       "team_long_name | chance_creation | \n",
       "|---|---|---|---|---|---|---|---|---|---|\n",
       "| Lazio               | 220                 | \n",
       "| SV Werder Bremen    | 216                 | \n",
       "| Napoli              | 215                 | \n",
       "| Bayer 04 Leverkusen | 210                 | \n",
       "| Burnley             | 210                 | \n",
       "| Cardiff City        | 210                 | \n",
       "| Manchester City     | 210                 | \n",
       "| Aberdeen            | 210                 | \n",
       "| Rangers             | 210                 | \n",
       "| Tottenham Hotspur   | 210                 | \n",
       "\n",
       "\n"
      ],
      "text/plain": [
       "   team_long_name      chance_creation\n",
       "1  Lazio               220            \n",
       "2  SV Werder Bremen    216            \n",
       "3  Napoli              215            \n",
       "4  Bayer 04 Leverkusen 210            \n",
       "5  Burnley             210            \n",
       "6  Cardiff City        210            \n",
       "7  Manchester City     210            \n",
       "8  Aberdeen            210            \n",
       "9  Rangers             210            \n",
       "10 Tottenham Hotspur   210            "
      ]
     },
     "metadata": {},
     "output_type": "display_data"
    }
   ],
   "source": [
    "ans<- group_by(teams, team_long_name) %>% distinct(chance_creation) %>% filter(chance_creation==max(chance_creation)) %>%  arrange(desc(chance_creation)) \n",
    "ans<-select(ans, team_long_name, everything())\n",
    "head(ans, n=10)"
   ]
  },
  {
   "cell_type": "markdown",
   "metadata": {},
   "source": [
    "## Which are the top 10 teams by sum of defense attributes?"
   ]
  },
  {
   "cell_type": "code",
   "execution_count": 11,
   "metadata": {
    "collapsed": false
   },
   "outputs": [
    {
     "data": {
      "text/html": [
       "<table>\n",
       "<thead><tr><th scope=col>team_long_name</th><th scope=col>defense</th></tr></thead>\n",
       "<tbody>\n",
       "\t<tr><td>Jagiellonia Bialystok</td><td>210                  </td></tr>\n",
       "\t<tr><td>SC Bastia            </td><td>210                  </td></tr>\n",
       "\t<tr><td>Zaglebie Lubin       </td><td>210                  </td></tr>\n",
       "\t<tr><td>Leicester City       </td><td>210                  </td></tr>\n",
       "\t<tr><td>Cardiff City         </td><td>210                  </td></tr>\n",
       "\t<tr><td>1. FC Kaiserslautern </td><td>210                  </td></tr>\n",
       "\t<tr><td>Southampton          </td><td>210                  </td></tr>\n",
       "\t<tr><td>AS Nancy-Lorraine    </td><td>210                  </td></tr>\n",
       "\t<tr><td>Blackpool            </td><td>210                  </td></tr>\n",
       "\t<tr><td>Stade Brestois 29    </td><td>210                  </td></tr>\n",
       "</tbody>\n",
       "</table>\n"
      ],
      "text/latex": [
       "\\begin{tabular}{r|ll}\n",
       " team\\_long\\_name & defense\\\\\n",
       "\\hline\n",
       "\t Jagiellonia Bialystok & 210                  \\\\\n",
       "\t SC Bastia             & 210                  \\\\\n",
       "\t Zaglebie Lubin        & 210                  \\\\\n",
       "\t Leicester City        & 210                  \\\\\n",
       "\t Cardiff City          & 210                  \\\\\n",
       "\t 1. FC Kaiserslautern  & 210                  \\\\\n",
       "\t Southampton           & 210                  \\\\\n",
       "\t AS Nancy-Lorraine     & 210                  \\\\\n",
       "\t Blackpool             & 210                  \\\\\n",
       "\t Stade Brestois 29     & 210                  \\\\\n",
       "\\end{tabular}\n"
      ],
      "text/markdown": [
       "\n",
       "team_long_name | defense | \n",
       "|---|---|---|---|---|---|---|---|---|---|\n",
       "| Jagiellonia Bialystok | 210                   | \n",
       "| SC Bastia             | 210                   | \n",
       "| Zaglebie Lubin        | 210                   | \n",
       "| Leicester City        | 210                   | \n",
       "| Cardiff City          | 210                   | \n",
       "| 1. FC Kaiserslautern  | 210                   | \n",
       "| Southampton           | 210                   | \n",
       "| AS Nancy-Lorraine     | 210                   | \n",
       "| Blackpool             | 210                   | \n",
       "| Stade Brestois 29     | 210                   | \n",
       "\n",
       "\n"
      ],
      "text/plain": [
       "   team_long_name        defense\n",
       "1  Jagiellonia Bialystok 210    \n",
       "2  SC Bastia             210    \n",
       "3  Zaglebie Lubin        210    \n",
       "4  Leicester City        210    \n",
       "5  Cardiff City          210    \n",
       "6  1. FC Kaiserslautern  210    \n",
       "7  Southampton           210    \n",
       "8  AS Nancy-Lorraine     210    \n",
       "9  Blackpool             210    \n",
       "10 Stade Brestois 29     210    "
      ]
     },
     "metadata": {},
     "output_type": "display_data"
    }
   ],
   "source": [
    "ans<- group_by(teams, team_long_name) %>% distinct(defence)  %>% filter(defence==max(defence)) %>%  arrange(desc(defence)) \n",
    "ans<-rename(ans, defense=defence)\n",
    "ans<-select(ans, team_long_name, everything())\n",
    "head(ans, n=10)"
   ]
  },
  {
   "cell_type": "markdown",
   "metadata": {},
   "source": [
    "## Which are the top 10 teams by number of scored goals?"
   ]
  },
  {
   "cell_type": "code",
   "execution_count": 13,
   "metadata": {
    "collapsed": false
   },
   "outputs": [
    {
     "data": {
      "text/html": [
       "<table>\n",
       "<thead><tr><th scope=col>team_long_name</th><th scope=col>total_goals</th></tr></thead>\n",
       "<tbody>\n",
       "\t<tr><td>FC Barcelona     </td><td>849              </td></tr>\n",
       "\t<tr><td>Real Madrid CF   </td><td>843              </td></tr>\n",
       "\t<tr><td>Celtic           </td><td>695              </td></tr>\n",
       "\t<tr><td>FC Bayern Munich </td><td>653              </td></tr>\n",
       "\t<tr><td>PSV              </td><td>652              </td></tr>\n",
       "\t<tr><td>Ajax             </td><td>647              </td></tr>\n",
       "\t<tr><td>FC Basel         </td><td>619              </td></tr>\n",
       "\t<tr><td>Manchester City  </td><td>606              </td></tr>\n",
       "\t<tr><td>Chelsea          </td><td>583              </td></tr>\n",
       "\t<tr><td>Manchester United</td><td>582              </td></tr>\n",
       "</tbody>\n",
       "</table>\n"
      ],
      "text/latex": [
       "\\begin{tabular}{r|ll}\n",
       " team\\_long\\_name & total\\_goals\\\\\n",
       "\\hline\n",
       "\t FC Barcelona      & 849              \\\\\n",
       "\t Real Madrid CF    & 843              \\\\\n",
       "\t Celtic            & 695              \\\\\n",
       "\t FC Bayern Munich  & 653              \\\\\n",
       "\t PSV               & 652              \\\\\n",
       "\t Ajax              & 647              \\\\\n",
       "\t FC Basel          & 619              \\\\\n",
       "\t Manchester City   & 606              \\\\\n",
       "\t Chelsea           & 583              \\\\\n",
       "\t Manchester United & 582              \\\\\n",
       "\\end{tabular}\n"
      ],
      "text/markdown": [
       "\n",
       "team_long_name | total_goals | \n",
       "|---|---|---|---|---|---|---|---|---|---|\n",
       "| FC Barcelona      | 849               | \n",
       "| Real Madrid CF    | 843               | \n",
       "| Celtic            | 695               | \n",
       "| FC Bayern Munich  | 653               | \n",
       "| PSV               | 652               | \n",
       "| Ajax              | 647               | \n",
       "| FC Basel          | 619               | \n",
       "| Manchester City   | 606               | \n",
       "| Chelsea           | 583               | \n",
       "| Manchester United | 582               | \n",
       "\n",
       "\n"
      ],
      "text/plain": [
       "   team_long_name    total_goals\n",
       "1  FC Barcelona      849        \n",
       "2  Real Madrid CF    843        \n",
       "3  Celtic            695        \n",
       "4  FC Bayern Munich  653        \n",
       "5  PSV               652        \n",
       "6  Ajax              647        \n",
       "7  FC Basel          619        \n",
       "8  Manchester City   606        \n",
       "9  Chelsea           583        \n",
       "10 Manchester United 582        "
      ]
     },
     "metadata": {},
     "output_type": "display_data"
    }
   ],
   "source": [
    "ans<- group_by(teams, team_long_name) %>% distinct(total_goals)  %>% filter(total_goals==max(total_goals)) %>%  arrange(desc(total_goals)) \n",
    "ans<-select(ans, team_long_name, everything())\n",
    "head(ans, n=10)"
   ]
  },
  {
   "cell_type": "markdown",
   "metadata": {
    "collapsed": true
   },
   "source": [
    "## References\n",
    "\n",
    "### https://cran.r-project.org/web/packages/dplyr/vignettes/introduction.html\n",
    "### https://rpubs.com/justmarkham/dplyr-tutorial\n",
    "### https://rdrr.io/cran/dplyr/man/select.html"
   ]
  }
 ],
 "metadata": {
  "kernelspec": {
   "display_name": "R",
   "language": "R",
   "name": "ir"
  },
  "language_info": {
   "codemirror_mode": "r",
   "file_extension": ".r",
   "mimetype": "text/x-r-source",
   "name": "R",
   "pygments_lexer": "r",
   "version": "3.3.2"
  }
 },
 "nbformat": 4,
 "nbformat_minor": 2
}
