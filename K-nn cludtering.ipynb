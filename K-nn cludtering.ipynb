{
 "cells": [
  {
   "cell_type": "code",
   "execution_count": 1,
   "metadata": {
    "collapsed": false
   },
   "outputs": [
    {
     "name": "stderr",
     "output_type": "stream",
     "text": [
      "Installing package into 'C:/Users/tsankhe/Documents/R/win-library/3.3'\n",
      "(as 'lib' is unspecified)\n"
     ]
    },
    {
     "name": "stdout",
     "output_type": "stream",
     "text": [
      "package 'class' successfully unpacked and MD5 sums checked\n",
      "\n",
      "The downloaded binary packages are in\n",
      "\tC:\\Users\\tsankhe\\AppData\\Local\\Temp\\RtmpCiZWcQ\\downloaded_packages\n"
     ]
    }
   ],
   "source": [
    "install.packages(\"class\", repos=\"http://cran.rstudio.com/\") "
   ]
  },
  {
   "cell_type": "code",
   "execution_count": 2,
   "metadata": {
    "collapsed": false
   },
   "outputs": [
    {
     "name": "stderr",
     "output_type": "stream",
     "text": [
      "Warning message:\n",
      "\"package 'class' was built under R version 3.3.3\""
     ]
    }
   ],
   "source": [
    "library(class)\n"
   ]
  },
  {
   "cell_type": "code",
   "execution_count": 3,
   "metadata": {
    "collapsed": true
   },
   "outputs": [],
   "source": [
    "german<-read.csv(\"german_credit_data1.csv\")\n",
    "#german<-na.omit(german)"
   ]
  },
  {
   "cell_type": "code",
   "execution_count": 4,
   "metadata": {
    "collapsed": false
   },
   "outputs": [
    {
     "data": {
      "text/html": [
       "<ol class=list-inline>\n",
       "\t<li>'X.'</li>\n",
       "\t<li>'Age'</li>\n",
       "\t<li>'Sex'</li>\n",
       "\t<li>'Job'</li>\n",
       "\t<li>'Housing'</li>\n",
       "\t<li>'Saving.accounts'</li>\n",
       "\t<li>'Checking.account'</li>\n",
       "\t<li>'Credit.amount'</li>\n",
       "\t<li>'Duration'</li>\n",
       "\t<li>'Purpose'</li>\n",
       "\t<li>'Credit.Risks'</li>\n",
       "</ol>\n"
      ],
      "text/latex": [
       "\\begin{enumerate*}\n",
       "\\item 'X.'\n",
       "\\item 'Age'\n",
       "\\item 'Sex'\n",
       "\\item 'Job'\n",
       "\\item 'Housing'\n",
       "\\item 'Saving.accounts'\n",
       "\\item 'Checking.account'\n",
       "\\item 'Credit.amount'\n",
       "\\item 'Duration'\n",
       "\\item 'Purpose'\n",
       "\\item 'Credit.Risks'\n",
       "\\end{enumerate*}\n"
      ],
      "text/markdown": [
       "1. 'X.'\n",
       "2. 'Age'\n",
       "3. 'Sex'\n",
       "4. 'Job'\n",
       "5. 'Housing'\n",
       "6. 'Saving.accounts'\n",
       "7. 'Checking.account'\n",
       "8. 'Credit.amount'\n",
       "9. 'Duration'\n",
       "10. 'Purpose'\n",
       "11. 'Credit.Risks'\n",
       "\n",
       "\n"
      ],
      "text/plain": [
       " [1] \"X.\"               \"Age\"              \"Sex\"              \"Job\"             \n",
       " [5] \"Housing\"          \"Saving.accounts\"  \"Checking.account\" \"Credit.amount\"   \n",
       " [9] \"Duration\"         \"Purpose\"          \"Credit.Risks\"    "
      ]
     },
     "metadata": {},
     "output_type": "display_data"
    }
   ],
   "source": [
    "names(german)"
   ]
  },
  {
   "cell_type": "code",
   "execution_count": 5,
   "metadata": {
    "collapsed": false
   },
   "outputs": [
    {
     "data": {
      "text/html": [
       "<table>\n",
       "<thead><tr><th scope=col>X.</th><th scope=col>Age</th><th scope=col>Sex</th><th scope=col>Job</th><th scope=col>Housing</th><th scope=col>Saving.accounts</th><th scope=col>Checking.account</th><th scope=col>Credit.amount</th><th scope=col>Duration</th><th scope=col>Purpose</th><th scope=col>Credit.Risks</th></tr></thead>\n",
       "<tbody>\n",
       "\t<tr><td>0                  </td><td>67                 </td><td>male               </td><td>2                  </td><td>own                </td><td>NA                 </td><td>little             </td><td>1169               </td><td> 6                 </td><td>radio/TV           </td><td>1                  </td></tr>\n",
       "\t<tr><td>1                  </td><td>22                 </td><td>female             </td><td>2                  </td><td>own                </td><td>little             </td><td>moderate           </td><td>5951               </td><td>48                 </td><td>radio/TV           </td><td>2                  </td></tr>\n",
       "\t<tr><td>2                  </td><td>49                 </td><td>male               </td><td>1                  </td><td>own                </td><td>little             </td><td>NA                 </td><td>2096               </td><td>12                 </td><td>education          </td><td>1                  </td></tr>\n",
       "\t<tr><td>3                  </td><td>45                 </td><td>male               </td><td>2                  </td><td>free               </td><td>little             </td><td>little             </td><td>7882               </td><td>42                 </td><td>furniture/equipment</td><td>1                  </td></tr>\n",
       "\t<tr><td>4                  </td><td>53                 </td><td>male               </td><td>2                  </td><td>free               </td><td>little             </td><td>little             </td><td>4870               </td><td>24                 </td><td>car                </td><td>2                  </td></tr>\n",
       "\t<tr><td>5                  </td><td>35                 </td><td>male               </td><td>1                  </td><td>free               </td><td>NA                 </td><td>NA                 </td><td>9055               </td><td>36                 </td><td>education          </td><td>1                  </td></tr>\n",
       "</tbody>\n",
       "</table>\n"
      ],
      "text/latex": [
       "\\begin{tabular}{r|lllllllllll}\n",
       " X. & Age & Sex & Job & Housing & Saving.accounts & Checking.account & Credit.amount & Duration & Purpose & Credit.Risks\\\\\n",
       "\\hline\n",
       "\t 0                   & 67                  & male                & 2                   & own                 & NA                  & little              & 1169                &  6                  & radio/TV            & 1                  \\\\\n",
       "\t 1                   & 22                  & female              & 2                   & own                 & little              & moderate            & 5951                & 48                  & radio/TV            & 2                  \\\\\n",
       "\t 2                   & 49                  & male                & 1                   & own                 & little              & NA                  & 2096                & 12                  & education           & 1                  \\\\\n",
       "\t 3                   & 45                  & male                & 2                   & free                & little              & little              & 7882                & 42                  & furniture/equipment & 1                  \\\\\n",
       "\t 4                   & 53                  & male                & 2                   & free                & little              & little              & 4870                & 24                  & car                 & 2                  \\\\\n",
       "\t 5                   & 35                  & male                & 1                   & free                & NA                  & NA                  & 9055                & 36                  & education           & 1                  \\\\\n",
       "\\end{tabular}\n"
      ],
      "text/markdown": [
       "\n",
       "X. | Age | Sex | Job | Housing | Saving.accounts | Checking.account | Credit.amount | Duration | Purpose | Credit.Risks | \n",
       "|---|---|---|---|---|---|\n",
       "| 0                   | 67                  | male                | 2                   | own                 | NA                  | little              | 1169                |  6                  | radio/TV            | 1                   | \n",
       "| 1                   | 22                  | female              | 2                   | own                 | little              | moderate            | 5951                | 48                  | radio/TV            | 2                   | \n",
       "| 2                   | 49                  | male                | 1                   | own                 | little              | NA                  | 2096                | 12                  | education           | 1                   | \n",
       "| 3                   | 45                  | male                | 2                   | free                | little              | little              | 7882                | 42                  | furniture/equipment | 1                   | \n",
       "| 4                   | 53                  | male                | 2                   | free                | little              | little              | 4870                | 24                  | car                 | 2                   | \n",
       "| 5                   | 35                  | male                | 1                   | free                | NA                  | NA                  | 9055                | 36                  | education           | 1                   | \n",
       "\n",
       "\n"
      ],
      "text/plain": [
       "  X. Age Sex    Job Housing Saving.accounts Checking.account Credit.amount\n",
       "1 0  67  male   2   own     NA              little           1169         \n",
       "2 1  22  female 2   own     little          moderate         5951         \n",
       "3 2  49  male   1   own     little          NA               2096         \n",
       "4 3  45  male   2   free    little          little           7882         \n",
       "5 4  53  male   2   free    little          little           4870         \n",
       "6 5  35  male   1   free    NA              NA               9055         \n",
       "  Duration Purpose             Credit.Risks\n",
       "1  6       radio/TV            1           \n",
       "2 48       radio/TV            2           \n",
       "3 12       education           1           \n",
       "4 42       furniture/equipment 1           \n",
       "5 24       car                 2           \n",
       "6 36       education           1           "
      ]
     },
     "metadata": {},
     "output_type": "display_data"
    }
   ],
   "source": [
    "head(german)"
   ]
  },
  {
   "cell_type": "code",
   "execution_count": 6,
   "metadata": {
    "collapsed": false
   },
   "outputs": [
    {
     "data": {
      "text/html": [
       "<dl class=dl-horizontal>\n",
       "\t<dt>X.</dt>\n",
       "\t\t<dd>FALSE</dd>\n",
       "\t<dt>Age</dt>\n",
       "\t\t<dd>FALSE</dd>\n",
       "\t<dt>Sex</dt>\n",
       "\t\t<dd>FALSE</dd>\n",
       "\t<dt>Job</dt>\n",
       "\t\t<dd>FALSE</dd>\n",
       "\t<dt>Housing</dt>\n",
       "\t\t<dd>FALSE</dd>\n",
       "\t<dt>Saving.accounts</dt>\n",
       "\t\t<dd>FALSE</dd>\n",
       "\t<dt>Checking.account</dt>\n",
       "\t\t<dd>FALSE</dd>\n",
       "\t<dt>Credit.amount</dt>\n",
       "\t\t<dd>FALSE</dd>\n",
       "\t<dt>Duration</dt>\n",
       "\t\t<dd>FALSE</dd>\n",
       "\t<dt>Purpose</dt>\n",
       "\t\t<dd>FALSE</dd>\n",
       "\t<dt>Credit.Risks</dt>\n",
       "\t\t<dd>FALSE</dd>\n",
       "</dl>\n"
      ],
      "text/latex": [
       "\\begin{description*}\n",
       "\\item[X.] FALSE\n",
       "\\item[Age] FALSE\n",
       "\\item[Sex] FALSE\n",
       "\\item[Job] FALSE\n",
       "\\item[Housing] FALSE\n",
       "\\item[Saving.accounts] FALSE\n",
       "\\item[Checking.account] FALSE\n",
       "\\item[Credit.amount] FALSE\n",
       "\\item[Duration] FALSE\n",
       "\\item[Purpose] FALSE\n",
       "\\item[Credit.Risks] FALSE\n",
       "\\end{description*}\n"
      ],
      "text/markdown": [
       "X.\n",
       ":   FALSEAge\n",
       ":   FALSESex\n",
       ":   FALSEJob\n",
       ":   FALSEHousing\n",
       ":   FALSESaving.accounts\n",
       ":   FALSEChecking.account\n",
       ":   FALSECredit.amount\n",
       ":   FALSEDuration\n",
       ":   FALSEPurpose\n",
       ":   FALSECredit.Risks\n",
       ":   FALSE\n",
       "\n"
      ],
      "text/plain": [
       "              X.              Age              Sex              Job \n",
       "           FALSE            FALSE            FALSE            FALSE \n",
       "         Housing  Saving.accounts Checking.account    Credit.amount \n",
       "           FALSE            FALSE            FALSE            FALSE \n",
       "        Duration          Purpose     Credit.Risks \n",
       "           FALSE            FALSE            FALSE "
      ]
     },
     "metadata": {},
     "output_type": "display_data"
    }
   ],
   "source": [
    "sapply(german, is.character)"
   ]
  },
  {
   "cell_type": "markdown",
   "metadata": {},
   "source": [
    "### (Data Normalization) convert character to numeric so that distance can be calculated ith respect to each vector"
   ]
  },
  {
   "cell_type": "code",
   "execution_count": 7,
   "metadata": {
    "collapsed": false
   },
   "outputs": [
    {
     "data": {
      "text/html": [
       "<table>\n",
       "<thead><tr><th scope=col>X.</th><th scope=col>Age</th><th scope=col>Sex</th><th scope=col>Job</th><th scope=col>Housing</th><th scope=col>Saving.accounts</th><th scope=col>Checking.account</th><th scope=col>Credit.amount</th><th scope=col>Duration</th><th scope=col>Purpose</th><th scope=col>Credit.Risks</th></tr></thead>\n",
       "<tbody>\n",
       "\t<tr><td>0   </td><td>67  </td><td>2   </td><td>2   </td><td>2   </td><td>NA  </td><td> 1  </td><td>1169</td><td> 6  </td><td>6   </td><td>1   </td></tr>\n",
       "\t<tr><td>1   </td><td>22  </td><td>1   </td><td>2   </td><td>2   </td><td> 1  </td><td> 2  </td><td>5951</td><td>48  </td><td>6   </td><td>2   </td></tr>\n",
       "\t<tr><td>2   </td><td>49  </td><td>2   </td><td>1   </td><td>2   </td><td> 1  </td><td>NA  </td><td>2096</td><td>12  </td><td>4   </td><td>1   </td></tr>\n",
       "\t<tr><td>3   </td><td>45  </td><td>2   </td><td>2   </td><td>1   </td><td> 1  </td><td> 1  </td><td>7882</td><td>42  </td><td>5   </td><td>1   </td></tr>\n",
       "\t<tr><td>4   </td><td>53  </td><td>2   </td><td>2   </td><td>1   </td><td> 1  </td><td> 1  </td><td>4870</td><td>24  </td><td>2   </td><td>2   </td></tr>\n",
       "\t<tr><td>5   </td><td>35  </td><td>2   </td><td>1   </td><td>1   </td><td>NA  </td><td>NA  </td><td>9055</td><td>36  </td><td>4   </td><td>1   </td></tr>\n",
       "</tbody>\n",
       "</table>\n"
      ],
      "text/latex": [
       "\\begin{tabular}{r|lllllllllll}\n",
       " X. & Age & Sex & Job & Housing & Saving.accounts & Checking.account & Credit.amount & Duration & Purpose & Credit.Risks\\\\\n",
       "\\hline\n",
       "\t 0    & 67   & 2    & 2    & 2    & NA   &  1   & 1169 &  6   & 6    & 1   \\\\\n",
       "\t 1    & 22   & 1    & 2    & 2    &  1   &  2   & 5951 & 48   & 6    & 2   \\\\\n",
       "\t 2    & 49   & 2    & 1    & 2    &  1   & NA   & 2096 & 12   & 4    & 1   \\\\\n",
       "\t 3    & 45   & 2    & 2    & 1    &  1   &  1   & 7882 & 42   & 5    & 1   \\\\\n",
       "\t 4    & 53   & 2    & 2    & 1    &  1   &  1   & 4870 & 24   & 2    & 2   \\\\\n",
       "\t 5    & 35   & 2    & 1    & 1    & NA   & NA   & 9055 & 36   & 4    & 1   \\\\\n",
       "\\end{tabular}\n"
      ],
      "text/markdown": [
       "\n",
       "X. | Age | Sex | Job | Housing | Saving.accounts | Checking.account | Credit.amount | Duration | Purpose | Credit.Risks | \n",
       "|---|---|---|---|---|---|\n",
       "| 0    | 67   | 2    | 2    | 2    | NA   |  1   | 1169 |  6   | 6    | 1    | \n",
       "| 1    | 22   | 1    | 2    | 2    |  1   |  2   | 5951 | 48   | 6    | 2    | \n",
       "| 2    | 49   | 2    | 1    | 2    |  1   | NA   | 2096 | 12   | 4    | 1    | \n",
       "| 3    | 45   | 2    | 2    | 1    |  1   |  1   | 7882 | 42   | 5    | 1    | \n",
       "| 4    | 53   | 2    | 2    | 1    |  1   |  1   | 4870 | 24   | 2    | 2    | \n",
       "| 5    | 35   | 2    | 1    | 1    | NA   | NA   | 9055 | 36   | 4    | 1    | \n",
       "\n",
       "\n"
      ],
      "text/plain": [
       "  X. Age Sex Job Housing Saving.accounts Checking.account Credit.amount\n",
       "1 0  67  2   2   2       NA               1               1169         \n",
       "2 1  22  1   2   2        1               2               5951         \n",
       "3 2  49  2   1   2        1              NA               2096         \n",
       "4 3  45  2   2   1        1               1               7882         \n",
       "5 4  53  2   2   1        1               1               4870         \n",
       "6 5  35  2   1   1       NA              NA               9055         \n",
       "  Duration Purpose Credit.Risks\n",
       "1  6       6       1           \n",
       "2 48       6       2           \n",
       "3 12       4       1           \n",
       "4 42       5       1           \n",
       "5 24       2       2           \n",
       "6 36       4       1           "
      ]
     },
     "metadata": {},
     "output_type": "display_data"
    }
   ],
   "source": [
    "german$Sex <- as.numeric(german$Sex)\n",
    "german$Housing <- as.numeric(german$Housing)\n",
    "german$Saving.accounts<- as.numeric(german$Saving.accounts)\n",
    "german$Checking.account<- as.numeric(german$Checking.account)\n",
    "german$Purpose<- as.numeric(german$Purpose)\n",
    "head(german)"
   ]
  },
  {
   "cell_type": "code",
   "execution_count": 8,
   "metadata": {
    "collapsed": false
   },
   "outputs": [
    {
     "data": {
      "text/html": [
       "<table>\n",
       "<thead><tr><th></th><th scope=col>X.</th><th scope=col>Age</th><th scope=col>Sex</th><th scope=col>Job</th><th scope=col>Housing</th><th scope=col>Saving.accounts</th><th scope=col>Checking.account</th><th scope=col>Credit.amount</th><th scope=col>Duration</th><th scope=col>Purpose</th><th scope=col>Credit.Risks</th></tr></thead>\n",
       "<tbody>\n",
       "\t<tr><th scope=row>2</th><td> 1  </td><td>22  </td><td>1   </td><td>2   </td><td>2   </td><td>1   </td><td>2   </td><td>5951</td><td>48  </td><td>6   </td><td>2   </td></tr>\n",
       "\t<tr><th scope=row>4</th><td> 3  </td><td>45  </td><td>2   </td><td>2   </td><td>1   </td><td>1   </td><td>1   </td><td>7882</td><td>42  </td><td>5   </td><td>1   </td></tr>\n",
       "\t<tr><th scope=row>5</th><td> 4  </td><td>53  </td><td>2   </td><td>2   </td><td>1   </td><td>1   </td><td>1   </td><td>4870</td><td>24  </td><td>2   </td><td>2   </td></tr>\n",
       "\t<tr><th scope=row>8</th><td> 7  </td><td>35  </td><td>2   </td><td>3   </td><td>3   </td><td>1   </td><td>2   </td><td>6948</td><td>36  </td><td>2   </td><td>1   </td></tr>\n",
       "\t<tr><th scope=row>10</th><td> 9  </td><td>28  </td><td>2   </td><td>3   </td><td>2   </td><td>1   </td><td>2   </td><td>5234</td><td>30  </td><td>2   </td><td>2   </td></tr>\n",
       "\t<tr><th scope=row>11</th><td>10  </td><td>25  </td><td>1   </td><td>2   </td><td>3   </td><td>1   </td><td>2   </td><td>1295</td><td>12  </td><td>2   </td><td>2   </td></tr>\n",
       "</tbody>\n",
       "</table>\n"
      ],
      "text/latex": [
       "\\begin{tabular}{r|lllllllllll}\n",
       "  & X. & Age & Sex & Job & Housing & Saving.accounts & Checking.account & Credit.amount & Duration & Purpose & Credit.Risks\\\\\n",
       "\\hline\n",
       "\t2 &  1   & 22   & 1    & 2    & 2    & 1    & 2    & 5951 & 48   & 6    & 2   \\\\\n",
       "\t4 &  3   & 45   & 2    & 2    & 1    & 1    & 1    & 7882 & 42   & 5    & 1   \\\\\n",
       "\t5 &  4   & 53   & 2    & 2    & 1    & 1    & 1    & 4870 & 24   & 2    & 2   \\\\\n",
       "\t8 &  7   & 35   & 2    & 3    & 3    & 1    & 2    & 6948 & 36   & 2    & 1   \\\\\n",
       "\t10 &  9   & 28   & 2    & 3    & 2    & 1    & 2    & 5234 & 30   & 2    & 2   \\\\\n",
       "\t11 & 10   & 25   & 1    & 2    & 3    & 1    & 2    & 1295 & 12   & 2    & 2   \\\\\n",
       "\\end{tabular}\n"
      ],
      "text/markdown": [
       "\n",
       "| <!--/--> | X. | Age | Sex | Job | Housing | Saving.accounts | Checking.account | Credit.amount | Duration | Purpose | Credit.Risks | \n",
       "|---|---|---|---|---|---|\n",
       "| 2 |  1   | 22   | 1    | 2    | 2    | 1    | 2    | 5951 | 48   | 6    | 2    | \n",
       "| 4 |  3   | 45   | 2    | 2    | 1    | 1    | 1    | 7882 | 42   | 5    | 1    | \n",
       "| 5 |  4   | 53   | 2    | 2    | 1    | 1    | 1    | 4870 | 24   | 2    | 2    | \n",
       "| 8 |  7   | 35   | 2    | 3    | 3    | 1    | 2    | 6948 | 36   | 2    | 1    | \n",
       "| 10 |  9   | 28   | 2    | 3    | 2    | 1    | 2    | 5234 | 30   | 2    | 2    | \n",
       "| 11 | 10   | 25   | 1    | 2    | 3    | 1    | 2    | 1295 | 12   | 2    | 2    | \n",
       "\n",
       "\n"
      ],
      "text/plain": [
       "   X. Age Sex Job Housing Saving.accounts Checking.account Credit.amount\n",
       "2   1 22  1   2   2       1               2                5951         \n",
       "4   3 45  2   2   1       1               1                7882         \n",
       "5   4 53  2   2   1       1               1                4870         \n",
       "8   7 35  2   3   3       1               2                6948         \n",
       "10  9 28  2   3   2       1               2                5234         \n",
       "11 10 25  1   2   3       1               2                1295         \n",
       "   Duration Purpose Credit.Risks\n",
       "2  48       6       2           \n",
       "4  42       5       1           \n",
       "5  24       2       2           \n",
       "8  36       2       1           \n",
       "10 30       2       2           \n",
       "11 12       2       2           "
      ]
     },
     "metadata": {},
     "output_type": "display_data"
    }
   ],
   "source": [
    "german<-na.omit(german)\n",
    "head(german)"
   ]
  },
  {
   "cell_type": "code",
   "execution_count": 9,
   "metadata": {
    "collapsed": false
   },
   "outputs": [
    {
     "name": "stdout",
     "output_type": "stream",
     "text": [
      "'data.frame':\t522 obs. of  11 variables:\n",
      " $ X.              : int  1 3 4 7 9 10 11 12 13 14 ...\n",
      " $ Age             : int  22 45 53 35 28 25 24 22 60 28 ...\n",
      " $ Sex             : num  1 2 2 2 2 1 1 1 2 1 ...\n",
      " $ Job             : int  2 2 2 3 3 2 2 2 1 2 ...\n",
      " $ Housing         : num  2 1 1 3 2 3 3 2 2 3 ...\n",
      " $ Saving.accounts : num  1 1 1 1 1 1 1 1 1 1 ...\n",
      " $ Checking.account: num  2 1 1 2 2 2 1 2 1 1 ...\n",
      " $ Credit.amount   : int  5951 7882 4870 6948 5234 1295 4308 1567 1199 1403 ...\n",
      " $ Duration        : int  48 42 24 36 30 12 48 12 24 15 ...\n",
      " $ Purpose         : num  6 5 2 2 2 2 1 6 2 2 ...\n",
      " $ Credit.Risks    : int  2 1 2 1 2 2 2 1 2 1 ...\n",
      " - attr(*, \"na.action\")=Class 'omit'  Named int [1:478] 1 3 6 7 9 17 18 20 21 25 ...\n",
      "  .. ..- attr(*, \"names\")= chr [1:478] \"1\" \"3\" \"6\" \"7\" ...\n"
     ]
    }
   ],
   "source": [
    "str(german)"
   ]
  },
  {
   "cell_type": "code",
   "execution_count": 10,
   "metadata": {
    "collapsed": false
   },
   "outputs": [],
   "source": [
    "sampling.rate <-0.8\n",
    "n.points<-nrow(german)\n",
    "num.test.set.labels<- n.points* (1 - sampling.rate)\n",
    "\n",
    "training<-sample(1:n.points, sampling.rate*n.points, replace=FALSE)\n",
    "german_train<-subset(german[training,])\n",
    "\n",
    "testing<-setdiff(1:n.points,training)\n",
    "german_test<-subset(german[testing,])\n",
    "#head(german_test)\n",
    "train_labels<- german$Credit.Risks[training]\n",
    "true_labels<- german$Credit.Risks[testing]"
   ]
  },
  {
   "cell_type": "code",
   "execution_count": 11,
   "metadata": {
    "collapsed": false
   },
   "outputs": [
    {
     "data": {
      "text/html": [
       "<ol class=list-inline>\n",
       "\t<li>1</li>\n",
       "\t<li>1</li>\n",
       "\t<li>1</li>\n",
       "\t<li>1</li>\n",
       "\t<li>1</li>\n",
       "\t<li>1</li>\n",
       "\t<li>1</li>\n",
       "\t<li>1</li>\n",
       "\t<li>1</li>\n",
       "\t<li>1</li>\n",
       "\t<li>1</li>\n",
       "\t<li>2</li>\n",
       "\t<li>1</li>\n",
       "\t<li>1</li>\n",
       "\t<li>2</li>\n",
       "\t<li>1</li>\n",
       "\t<li>1</li>\n",
       "\t<li>2</li>\n",
       "\t<li>2</li>\n",
       "\t<li>2</li>\n",
       "\t<li>1</li>\n",
       "\t<li>2</li>\n",
       "\t<li>1</li>\n",
       "\t<li>1</li>\n",
       "\t<li>1</li>\n",
       "\t<li>1</li>\n",
       "\t<li>2</li>\n",
       "\t<li>2</li>\n",
       "\t<li>1</li>\n",
       "\t<li>1</li>\n",
       "\t<li>2</li>\n",
       "\t<li>2</li>\n",
       "\t<li>2</li>\n",
       "\t<li>1</li>\n",
       "\t<li>1</li>\n",
       "\t<li>1</li>\n",
       "\t<li>1</li>\n",
       "\t<li>2</li>\n",
       "\t<li>2</li>\n",
       "\t<li>1</li>\n",
       "\t<li>1</li>\n",
       "\t<li>1</li>\n",
       "\t<li>1</li>\n",
       "\t<li>1</li>\n",
       "\t<li>1</li>\n",
       "\t<li>1</li>\n",
       "\t<li>2</li>\n",
       "\t<li>1</li>\n",
       "\t<li>1</li>\n",
       "\t<li>1</li>\n",
       "\t<li>2</li>\n",
       "\t<li>2</li>\n",
       "\t<li>2</li>\n",
       "\t<li>2</li>\n",
       "\t<li>2</li>\n",
       "\t<li>2</li>\n",
       "\t<li>1</li>\n",
       "\t<li>2</li>\n",
       "\t<li>2</li>\n",
       "\t<li>1</li>\n",
       "\t<li>2</li>\n",
       "\t<li>2</li>\n",
       "\t<li>1</li>\n",
       "\t<li>1</li>\n",
       "\t<li>2</li>\n",
       "\t<li>1</li>\n",
       "\t<li>2</li>\n",
       "\t<li>1</li>\n",
       "\t<li>2</li>\n",
       "\t<li>2</li>\n",
       "\t<li>2</li>\n",
       "\t<li>1</li>\n",
       "\t<li>1</li>\n",
       "\t<li>1</li>\n",
       "\t<li>2</li>\n",
       "\t<li>2</li>\n",
       "\t<li>2</li>\n",
       "\t<li>1</li>\n",
       "\t<li>2</li>\n",
       "\t<li>1</li>\n",
       "\t<li>1</li>\n",
       "\t<li>2</li>\n",
       "\t<li>2</li>\n",
       "\t<li>2</li>\n",
       "\t<li>1</li>\n",
       "\t<li>2</li>\n",
       "\t<li>2</li>\n",
       "\t<li>2</li>\n",
       "\t<li>2</li>\n",
       "\t<li>1</li>\n",
       "\t<li>2</li>\n",
       "\t<li>2</li>\n",
       "\t<li>2</li>\n",
       "\t<li>2</li>\n",
       "\t<li>2</li>\n",
       "\t<li>2</li>\n",
       "\t<li>2</li>\n",
       "\t<li>1</li>\n",
       "\t<li>1</li>\n",
       "\t<li>2</li>\n",
       "\t<li>2</li>\n",
       "\t<li>1</li>\n",
       "\t<li>1</li>\n",
       "\t<li>2</li>\n",
       "\t<li>2</li>\n",
       "</ol>\n"
      ],
      "text/latex": [
       "\\begin{enumerate*}\n",
       "\\item 1\n",
       "\\item 1\n",
       "\\item 1\n",
       "\\item 1\n",
       "\\item 1\n",
       "\\item 1\n",
       "\\item 1\n",
       "\\item 1\n",
       "\\item 1\n",
       "\\item 1\n",
       "\\item 1\n",
       "\\item 2\n",
       "\\item 1\n",
       "\\item 1\n",
       "\\item 2\n",
       "\\item 1\n",
       "\\item 1\n",
       "\\item 2\n",
       "\\item 2\n",
       "\\item 2\n",
       "\\item 1\n",
       "\\item 2\n",
       "\\item 1\n",
       "\\item 1\n",
       "\\item 1\n",
       "\\item 1\n",
       "\\item 2\n",
       "\\item 2\n",
       "\\item 1\n",
       "\\item 1\n",
       "\\item 2\n",
       "\\item 2\n",
       "\\item 2\n",
       "\\item 1\n",
       "\\item 1\n",
       "\\item 1\n",
       "\\item 1\n",
       "\\item 2\n",
       "\\item 2\n",
       "\\item 1\n",
       "\\item 1\n",
       "\\item 1\n",
       "\\item 1\n",
       "\\item 1\n",
       "\\item 1\n",
       "\\item 1\n",
       "\\item 2\n",
       "\\item 1\n",
       "\\item 1\n",
       "\\item 1\n",
       "\\item 2\n",
       "\\item 2\n",
       "\\item 2\n",
       "\\item 2\n",
       "\\item 2\n",
       "\\item 2\n",
       "\\item 1\n",
       "\\item 2\n",
       "\\item 2\n",
       "\\item 1\n",
       "\\item 2\n",
       "\\item 2\n",
       "\\item 1\n",
       "\\item 1\n",
       "\\item 2\n",
       "\\item 1\n",
       "\\item 2\n",
       "\\item 1\n",
       "\\item 2\n",
       "\\item 2\n",
       "\\item 2\n",
       "\\item 1\n",
       "\\item 1\n",
       "\\item 1\n",
       "\\item 2\n",
       "\\item 2\n",
       "\\item 2\n",
       "\\item 1\n",
       "\\item 2\n",
       "\\item 1\n",
       "\\item 1\n",
       "\\item 2\n",
       "\\item 2\n",
       "\\item 2\n",
       "\\item 1\n",
       "\\item 2\n",
       "\\item 2\n",
       "\\item 2\n",
       "\\item 2\n",
       "\\item 1\n",
       "\\item 2\n",
       "\\item 2\n",
       "\\item 2\n",
       "\\item 2\n",
       "\\item 2\n",
       "\\item 2\n",
       "\\item 2\n",
       "\\item 1\n",
       "\\item 1\n",
       "\\item 2\n",
       "\\item 2\n",
       "\\item 1\n",
       "\\item 1\n",
       "\\item 2\n",
       "\\item 2\n",
       "\\end{enumerate*}\n"
      ],
      "text/markdown": [
       "1. 1\n",
       "2. 1\n",
       "3. 1\n",
       "4. 1\n",
       "5. 1\n",
       "6. 1\n",
       "7. 1\n",
       "8. 1\n",
       "9. 1\n",
       "10. 1\n",
       "11. 1\n",
       "12. 2\n",
       "13. 1\n",
       "14. 1\n",
       "15. 2\n",
       "16. 1\n",
       "17. 1\n",
       "18. 2\n",
       "19. 2\n",
       "20. 2\n",
       "21. 1\n",
       "22. 2\n",
       "23. 1\n",
       "24. 1\n",
       "25. 1\n",
       "26. 1\n",
       "27. 2\n",
       "28. 2\n",
       "29. 1\n",
       "30. 1\n",
       "31. 2\n",
       "32. 2\n",
       "33. 2\n",
       "34. 1\n",
       "35. 1\n",
       "36. 1\n",
       "37. 1\n",
       "38. 2\n",
       "39. 2\n",
       "40. 1\n",
       "41. 1\n",
       "42. 1\n",
       "43. 1\n",
       "44. 1\n",
       "45. 1\n",
       "46. 1\n",
       "47. 2\n",
       "48. 1\n",
       "49. 1\n",
       "50. 1\n",
       "51. 2\n",
       "52. 2\n",
       "53. 2\n",
       "54. 2\n",
       "55. 2\n",
       "56. 2\n",
       "57. 1\n",
       "58. 2\n",
       "59. 2\n",
       "60. 1\n",
       "61. 2\n",
       "62. 2\n",
       "63. 1\n",
       "64. 1\n",
       "65. 2\n",
       "66. 1\n",
       "67. 2\n",
       "68. 1\n",
       "69. 2\n",
       "70. 2\n",
       "71. 2\n",
       "72. 1\n",
       "73. 1\n",
       "74. 1\n",
       "75. 2\n",
       "76. 2\n",
       "77. 2\n",
       "78. 1\n",
       "79. 2\n",
       "80. 1\n",
       "81. 1\n",
       "82. 2\n",
       "83. 2\n",
       "84. 2\n",
       "85. 1\n",
       "86. 2\n",
       "87. 2\n",
       "88. 2\n",
       "89. 2\n",
       "90. 1\n",
       "91. 2\n",
       "92. 2\n",
       "93. 2\n",
       "94. 2\n",
       "95. 2\n",
       "96. 2\n",
       "97. 2\n",
       "98. 1\n",
       "99. 1\n",
       "100. 2\n",
       "101. 2\n",
       "102. 1\n",
       "103. 1\n",
       "104. 2\n",
       "105. 2\n",
       "\n",
       "\n"
      ],
      "text/plain": [
       "  [1] 1 1 1 1 1 1 1 1 1 1 1 2 1 1 2 1 1 2 2 2 1 2 1 1 1 1 2 2 1 1 2 2 2 1 1 1 1\n",
       " [38] 2 2 1 1 1 1 1 1 1 2 1 1 1 2 2 2 2 2 2 1 2 2 1 2 2 1 1 2 1 2 1 2 2 2 1 1 1\n",
       " [75] 2 2 2 1 2 1 1 2 2 2 1 2 2 2 2 1 2 2 2 2 2 2 2 1 1 2 2 1 1 2 2\n",
       "Levels: 1 2"
      ]
     },
     "metadata": {},
     "output_type": "display_data"
    }
   ],
   "source": [
    "knn(german_train,german_test,train_labels,k=3)"
   ]
  },
  {
   "cell_type": "code",
   "execution_count": 12,
   "metadata": {
    "collapsed": true
   },
   "outputs": [],
   "source": [
    "options(warn=-1)"
   ]
  },
  {
   "cell_type": "code",
   "execution_count": 14,
   "metadata": {
    "collapsed": false
   },
   "outputs": [],
   "source": [
    "n.points<-nrow(german)\n",
    "result=NULL\n",
    "s<-seq(0.6,0.9, by=0.1)\n",
    "for(sampling.rate in s)\n",
    "{\n",
    "out=NULL\n",
    "#sampling.rate <-0.8\n",
    "num.test.set.labels<- n.points* (1 - sampling.rate)\n",
    "training<-sample(1:n.points, sampling.rate*n.points, replace=FALSE)\n",
    "train<-subset(german[training,])\n",
    "\n",
    "testing<-setdiff(1:n.points,training)\n",
    "test<-subset(german[testing,])\n",
    "\n",
    "cl<- german$Credit.Risks[training]\n",
    "true.labels<-german$Credit.Risks[testing]\n",
    "\n",
    "for(k in 1:20) {\n",
    "#print(k)\n",
    "predicted.labels <- knn(train,test,cl,k)\n",
    "num.incorrect.labels<-sum(predicted.labels !=true.labels)\n",
    "misclassification.rate<-num.incorrect.labels/num.test.set.labels\n",
    "#print(misclassification.rate)\n",
    "out=rbind(out,data.frame(misclassification.rate))\n",
    "}\n",
    "    #cbind(result,out)\n",
    "\n",
    "}"
   ]
  },
  {
   "cell_type": "markdown",
   "metadata": {},
   "source": [
    "## perform knn for different sampling rates on the data file and merge them at the end"
   ]
  },
  {
   "cell_type": "code",
   "execution_count": 15,
   "metadata": {
    "collapsed": false
   },
   "outputs": [],
   "source": [
    "sampling.rate <-0.6\n",
    "six.df=NULL\n",
    "num.test.set.labels<- n.points* (1 - sampling.rate)\n",
    "training<-sample(1:n.points, sampling.rate*n.points, replace=FALSE)\n",
    "train<-subset(german[training,])\n",
    "\n",
    "testing<-setdiff(1:n.points,training)\n",
    "test<-subset(german[testing,])\n",
    "\n",
    "cl<- german$Credit.Risks[training]\n",
    "true.labels<-german$Credit.Risks[testing]\n",
    "\n",
    "for(k in 1:20) {\n",
    "#print(k)\n",
    "predicted.labels <- knn(train,test,cl,k)\n",
    "num.incorrect.labels<-sum(predicted.labels !=true.labels)\n",
    "misclassification.rate<-num.incorrect.labels/num.test.set.labels\n",
    "#print(misclassification.rate)\n",
    "six.df=rbind(six.df,data.frame(misclassification.rate))\n",
    "}"
   ]
  },
  {
   "cell_type": "code",
   "execution_count": 16,
   "metadata": {
    "collapsed": true
   },
   "outputs": [],
   "source": [
    "sampling.rate <-0.7\n",
    "seven.df=NULL\n",
    "num.test.set.labels<- n.points* (1 - sampling.rate)\n",
    "training<-sample(1:n.points, sampling.rate*n.points, replace=FALSE)\n",
    "train<-subset(german[training,])\n",
    "\n",
    "testing<-setdiff(1:n.points,training)\n",
    "test<-subset(german[testing,])\n",
    "\n",
    "cl<- german$Credit.Risks[training]\n",
    "true.labels<-german$Credit.Risks[testing]\n",
    "\n",
    "for(k in 1:20) {\n",
    "#print(k)\n",
    "predicted.labels <- knn(train,test,cl,k)\n",
    "num.incorrect.labels<-sum(predicted.labels !=true.labels)\n",
    "misclassification.rate<-num.incorrect.labels/num.test.set.labels\n",
    "#print(misclassification.rate)\n",
    "seven.df=rbind(seven.df,data.frame(misclassification.rate))\n",
    "}"
   ]
  },
  {
   "cell_type": "code",
   "execution_count": 17,
   "metadata": {
    "collapsed": true
   },
   "outputs": [],
   "source": [
    "sampling.rate <-0.8\n",
    "eight.df=NULL\n",
    "num.test.set.labels<- n.points* (1 - sampling.rate)\n",
    "training<-sample(1:n.points, sampling.rate*n.points, replace=FALSE)\n",
    "train<-subset(german[training,])\n",
    "\n",
    "testing<-setdiff(1:n.points,training)\n",
    "test<-subset(german[testing,])\n",
    "\n",
    "cl<- german$Credit.Risks[training]\n",
    "true.labels<-german$Credit.Risks[testing]\n",
    "\n",
    "for(k in 1:20) {\n",
    "#print(k)\n",
    "predicted.labels <- knn(train,test,cl,k)\n",
    "num.incorrect.labels<-sum(predicted.labels !=true.labels)\n",
    "misclassification.rate<-num.incorrect.labels/num.test.set.labels\n",
    "#print(misclassification.rate)\n",
    "eight.df=rbind(eight.df,data.frame(misclassification.rate))\n",
    "}"
   ]
  },
  {
   "cell_type": "code",
   "execution_count": 18,
   "metadata": {
    "collapsed": true
   },
   "outputs": [],
   "source": [
    "sampling.rate <-0.9\n",
    "nine.df=NULL\n",
    "num.test.set.labels<- n.points* (1 - sampling.rate)\n",
    "training<-sample(1:n.points, sampling.rate*n.points, replace=FALSE)\n",
    "train<-subset(german[training,])\n",
    "\n",
    "testing<-setdiff(1:n.points,training)\n",
    "test<-subset(german[testing,])\n",
    "\n",
    "cl<- german$Credit.Risks[training]\n",
    "true.labels<-german$Credit.Risks[testing]\n",
    "\n",
    "for(k in 1:20) {\n",
    "#print(k)\n",
    "predicted.labels <- knn(train,test,cl,k)\n",
    "num.incorrect.labels<-sum(predicted.labels !=true.labels)\n",
    "misclassification.rate<-num.incorrect.labels/num.test.set.labels\n",
    "#print(misclassification.rate)\n",
    "nine.df=rbind(nine.df,data.frame(misclassification.rate))\n",
    "}"
   ]
  },
  {
   "cell_type": "code",
   "execution_count": 19,
   "metadata": {
    "collapsed": true
   },
   "outputs": [],
   "source": [
    "k<-seq(1,20)\n",
    "result<-cbind(k,six.df,seven.df,eight.df,nine.df)\n",
    "colnames(result) <- c(\"k-value\",\"train_60\", \"train_70\", \"train_80\",\"train_90\")"
   ]
  },
  {
   "cell_type": "code",
   "execution_count": 22,
   "metadata": {
    "collapsed": false
   },
   "outputs": [
    {
     "data": {
      "text/html": [
       "<table>\n",
       "<thead><tr><th scope=col>k-value</th><th scope=col>train_60</th><th scope=col>train_70</th><th scope=col>train_80</th><th scope=col>train_90</th></tr></thead>\n",
       "<tbody>\n",
       "\t<tr><td> 1       </td><td>0.5220307</td><td>0.4597701</td><td>0.4693487</td><td>0.3639847</td></tr>\n",
       "\t<tr><td> 2       </td><td>0.5363985</td><td>0.4853129</td><td>0.4980843</td><td>0.4022989</td></tr>\n",
       "\t<tr><td> 3       </td><td>0.4980843</td><td>0.4853129</td><td>0.4597701</td><td>0.4406130</td></tr>\n",
       "\t<tr><td> 4       </td><td>0.4932950</td><td>0.4406130</td><td>0.4789272</td><td>0.4789272</td></tr>\n",
       "\t<tr><td> 5       </td><td>0.5076628</td><td>0.4214559</td><td>0.5268199</td><td>0.4597701</td></tr>\n",
       "\t<tr><td> 6       </td><td>0.4549808</td><td>0.4406130</td><td>0.4693487</td><td>0.4980843</td></tr>\n",
       "\t<tr><td> 7       </td><td>0.5076628</td><td>0.4406130</td><td>0.5076628</td><td>0.4980843</td></tr>\n",
       "\t<tr><td> 8       </td><td>0.4741379</td><td>0.3895275</td><td>0.5076628</td><td>0.4789272</td></tr>\n",
       "\t<tr><td> 9       </td><td>0.4932950</td><td>0.4214559</td><td>0.4501916</td><td>0.5172414</td></tr>\n",
       "\t<tr><td>10       </td><td>0.4885057</td><td>0.4406130</td><td>0.4980843</td><td>0.5363985</td></tr>\n",
       "\t<tr><td>11       </td><td>0.4980843</td><td>0.4533844</td><td>0.4597701</td><td>0.5172414</td></tr>\n",
       "\t<tr><td>12       </td><td>0.4885057</td><td>0.4853129</td><td>0.4406130</td><td>0.4980843</td></tr>\n",
       "\t<tr><td>13       </td><td>0.4837165</td><td>0.4725415</td><td>0.4885057</td><td>0.4980843</td></tr>\n",
       "\t<tr><td>14       </td><td>0.4741379</td><td>0.4469987</td><td>0.5076628</td><td>0.4980843</td></tr>\n",
       "\t<tr><td>15       </td><td>0.4645594</td><td>0.4597701</td><td>0.4885057</td><td>0.5172414</td></tr>\n",
       "\t<tr><td>16       </td><td>0.4645594</td><td>0.4469987</td><td>0.4789272</td><td>0.4980843</td></tr>\n",
       "\t<tr><td>17       </td><td>0.4645594</td><td>0.4916986</td><td>0.4501916</td><td>0.4406130</td></tr>\n",
       "\t<tr><td>18       </td><td>0.5076628</td><td>0.5108557</td><td>0.4501916</td><td>0.4980843</td></tr>\n",
       "\t<tr><td>19       </td><td>0.4501916</td><td>0.4980843</td><td>0.4118774</td><td>0.4789272</td></tr>\n",
       "\t<tr><td>20       </td><td>0.4597701</td><td>0.4725415</td><td>0.4310345</td><td>0.4789272</td></tr>\n",
       "</tbody>\n",
       "</table>\n"
      ],
      "text/latex": [
       "\\begin{tabular}{r|lllll}\n",
       " k-value & train\\_60 & train\\_70 & train\\_80 & train\\_90\\\\\n",
       "\\hline\n",
       "\t  1        & 0.5220307 & 0.4597701 & 0.4693487 & 0.3639847\\\\\n",
       "\t  2        & 0.5363985 & 0.4853129 & 0.4980843 & 0.4022989\\\\\n",
       "\t  3        & 0.4980843 & 0.4853129 & 0.4597701 & 0.4406130\\\\\n",
       "\t  4        & 0.4932950 & 0.4406130 & 0.4789272 & 0.4789272\\\\\n",
       "\t  5        & 0.5076628 & 0.4214559 & 0.5268199 & 0.4597701\\\\\n",
       "\t  6        & 0.4549808 & 0.4406130 & 0.4693487 & 0.4980843\\\\\n",
       "\t  7        & 0.5076628 & 0.4406130 & 0.5076628 & 0.4980843\\\\\n",
       "\t  8        & 0.4741379 & 0.3895275 & 0.5076628 & 0.4789272\\\\\n",
       "\t  9        & 0.4932950 & 0.4214559 & 0.4501916 & 0.5172414\\\\\n",
       "\t 10        & 0.4885057 & 0.4406130 & 0.4980843 & 0.5363985\\\\\n",
       "\t 11        & 0.4980843 & 0.4533844 & 0.4597701 & 0.5172414\\\\\n",
       "\t 12        & 0.4885057 & 0.4853129 & 0.4406130 & 0.4980843\\\\\n",
       "\t 13        & 0.4837165 & 0.4725415 & 0.4885057 & 0.4980843\\\\\n",
       "\t 14        & 0.4741379 & 0.4469987 & 0.5076628 & 0.4980843\\\\\n",
       "\t 15        & 0.4645594 & 0.4597701 & 0.4885057 & 0.5172414\\\\\n",
       "\t 16        & 0.4645594 & 0.4469987 & 0.4789272 & 0.4980843\\\\\n",
       "\t 17        & 0.4645594 & 0.4916986 & 0.4501916 & 0.4406130\\\\\n",
       "\t 18        & 0.5076628 & 0.5108557 & 0.4501916 & 0.4980843\\\\\n",
       "\t 19        & 0.4501916 & 0.4980843 & 0.4118774 & 0.4789272\\\\\n",
       "\t 20        & 0.4597701 & 0.4725415 & 0.4310345 & 0.4789272\\\\\n",
       "\\end{tabular}\n"
      ],
      "text/markdown": [
       "\n",
       "k-value | train_60 | train_70 | train_80 | train_90 | \n",
       "|---|---|---|---|---|---|---|---|---|---|---|---|---|---|---|---|---|---|---|---|\n",
       "|  1        | 0.5220307 | 0.4597701 | 0.4693487 | 0.3639847 | \n",
       "|  2        | 0.5363985 | 0.4853129 | 0.4980843 | 0.4022989 | \n",
       "|  3        | 0.4980843 | 0.4853129 | 0.4597701 | 0.4406130 | \n",
       "|  4        | 0.4932950 | 0.4406130 | 0.4789272 | 0.4789272 | \n",
       "|  5        | 0.5076628 | 0.4214559 | 0.5268199 | 0.4597701 | \n",
       "|  6        | 0.4549808 | 0.4406130 | 0.4693487 | 0.4980843 | \n",
       "|  7        | 0.5076628 | 0.4406130 | 0.5076628 | 0.4980843 | \n",
       "|  8        | 0.4741379 | 0.3895275 | 0.5076628 | 0.4789272 | \n",
       "|  9        | 0.4932950 | 0.4214559 | 0.4501916 | 0.5172414 | \n",
       "| 10        | 0.4885057 | 0.4406130 | 0.4980843 | 0.5363985 | \n",
       "| 11        | 0.4980843 | 0.4533844 | 0.4597701 | 0.5172414 | \n",
       "| 12        | 0.4885057 | 0.4853129 | 0.4406130 | 0.4980843 | \n",
       "| 13        | 0.4837165 | 0.4725415 | 0.4885057 | 0.4980843 | \n",
       "| 14        | 0.4741379 | 0.4469987 | 0.5076628 | 0.4980843 | \n",
       "| 15        | 0.4645594 | 0.4597701 | 0.4885057 | 0.5172414 | \n",
       "| 16        | 0.4645594 | 0.4469987 | 0.4789272 | 0.4980843 | \n",
       "| 17        | 0.4645594 | 0.4916986 | 0.4501916 | 0.4406130 | \n",
       "| 18        | 0.5076628 | 0.5108557 | 0.4501916 | 0.4980843 | \n",
       "| 19        | 0.4501916 | 0.4980843 | 0.4118774 | 0.4789272 | \n",
       "| 20        | 0.4597701 | 0.4725415 | 0.4310345 | 0.4789272 | \n",
       "\n",
       "\n"
      ],
      "text/plain": [
       "   k-value train_60  train_70  train_80  train_90 \n",
       "1   1      0.5220307 0.4597701 0.4693487 0.3639847\n",
       "2   2      0.5363985 0.4853129 0.4980843 0.4022989\n",
       "3   3      0.4980843 0.4853129 0.4597701 0.4406130\n",
       "4   4      0.4932950 0.4406130 0.4789272 0.4789272\n",
       "5   5      0.5076628 0.4214559 0.5268199 0.4597701\n",
       "6   6      0.4549808 0.4406130 0.4693487 0.4980843\n",
       "7   7      0.5076628 0.4406130 0.5076628 0.4980843\n",
       "8   8      0.4741379 0.3895275 0.5076628 0.4789272\n",
       "9   9      0.4932950 0.4214559 0.4501916 0.5172414\n",
       "10 10      0.4885057 0.4406130 0.4980843 0.5363985\n",
       "11 11      0.4980843 0.4533844 0.4597701 0.5172414\n",
       "12 12      0.4885057 0.4853129 0.4406130 0.4980843\n",
       "13 13      0.4837165 0.4725415 0.4885057 0.4980843\n",
       "14 14      0.4741379 0.4469987 0.5076628 0.4980843\n",
       "15 15      0.4645594 0.4597701 0.4885057 0.5172414\n",
       "16 16      0.4645594 0.4469987 0.4789272 0.4980843\n",
       "17 17      0.4645594 0.4916986 0.4501916 0.4406130\n",
       "18 18      0.5076628 0.5108557 0.4501916 0.4980843\n",
       "19 19      0.4501916 0.4980843 0.4118774 0.4789272\n",
       "20 20      0.4597701 0.4725415 0.4310345 0.4789272"
      ]
     },
     "metadata": {},
     "output_type": "display_data"
    }
   ],
   "source": [
    "head(result,n=20)"
   ]
  },
  {
   "cell_type": "code",
   "execution_count": 23,
   "metadata": {
    "collapsed": false
   },
   "outputs": [
    {
     "data": {
      "text/html": [
       "<dl class=dl-horizontal>\n",
       "\t<dt>k-value</dt>\n",
       "\t\t<dd>1</dd>\n",
       "\t<dt>train_60</dt>\n",
       "\t\t<dd>0.450191570881226</dd>\n",
       "\t<dt>train_70</dt>\n",
       "\t\t<dd>0.389527458492976</dd>\n",
       "\t<dt>train_80</dt>\n",
       "\t\t<dd>0.411877394636015</dd>\n",
       "\t<dt>train_90</dt>\n",
       "\t\t<dd>0.363984674329502</dd>\n",
       "</dl>\n"
      ],
      "text/latex": [
       "\\begin{description*}\n",
       "\\item[k-value] 1\n",
       "\\item[train\\textbackslash{}\\_60] 0.450191570881226\n",
       "\\item[train\\textbackslash{}\\_70] 0.389527458492976\n",
       "\\item[train\\textbackslash{}\\_80] 0.411877394636015\n",
       "\\item[train\\textbackslash{}\\_90] 0.363984674329502\n",
       "\\end{description*}\n"
      ],
      "text/markdown": [
       "k-value\n",
       ":   1train_60\n",
       ":   0.450191570881226train_70\n",
       ":   0.389527458492976train_80\n",
       ":   0.411877394636015train_90\n",
       ":   0.363984674329502\n",
       "\n"
      ],
      "text/plain": [
       "  k-value  train_60  train_70  train_80  train_90 \n",
       "1.0000000 0.4501916 0.3895275 0.4118774 0.3639847 "
      ]
     },
     "metadata": {},
     "output_type": "display_data"
    }
   ],
   "source": [
    "apply(result, 2, function(x) min(x,k, na.rm = TRUE))\n"
   ]
  },
  {
   "cell_type": "markdown",
   "metadata": {
    "collapsed": true
   },
   "source": [
    "## Reference\n",
    "## https://rstudio-pubs-static.s3.amazonaws.com/123438_3b9052ed40ec4cd2854b72d1aa154df9.html\n",
    "## https://www.analyticsvidhya.com/blog/2015/08/learning-concept-knn-algorithms-programming/"
   ]
  },
  {
   "cell_type": "code",
   "execution_count": null,
   "metadata": {
    "collapsed": true
   },
   "outputs": [],
   "source": []
  }
 ],
 "metadata": {
  "kernelspec": {
   "display_name": "R",
   "language": "R",
   "name": "ir"
  },
  "language_info": {
   "codemirror_mode": "r",
   "file_extension": ".r",
   "mimetype": "text/x-r-source",
   "name": "R",
   "pygments_lexer": "r",
   "version": "3.3.2"
  }
 },
 "nbformat": 4,
 "nbformat_minor": 2
}
