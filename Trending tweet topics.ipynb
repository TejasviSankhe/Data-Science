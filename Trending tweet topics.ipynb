{
 "cells": [
  {
   "cell_type": "code",
   "execution_count": 1,
   "metadata": {
    "collapsed": false,
    "scrolled": true
   },
   "outputs": [
    {
     "name": "stderr",
     "output_type": "stream",
     "text": [
      "Installing package into 'C:/Users/tsankhe/Documents/R/win-library/3.3'\n",
      "(as 'lib' is unspecified)\n"
     ]
    },
    {
     "name": "stdout",
     "output_type": "stream",
     "text": [
      "package 'twitteR' successfully unpacked and MD5 sums checked\n",
      "\n",
      "The downloaded binary packages are in\n",
      "\tC:\\Users\\tsankhe\\AppData\\Local\\Temp\\Rtmp4Qo5Y5\\downloaded_packages\n"
     ]
    },
    {
     "name": "stderr",
     "output_type": "stream",
     "text": [
      "Installing package into 'C:/Users/tsankhe/Documents/R/win-library/3.3'\n",
      "(as 'lib' is unspecified)\n"
     ]
    },
    {
     "name": "stdout",
     "output_type": "stream",
     "text": [
      "package 'ggmap' successfully unpacked and MD5 sums checked\n",
      "\n",
      "The downloaded binary packages are in\n",
      "\tC:\\Users\\tsankhe\\AppData\\Local\\Temp\\Rtmp4Qo5Y5\\downloaded_packages\n"
     ]
    }
   ],
   "source": [
    "install.packages(\"twitteR\", repos=\"http://cran.rstudio.com/\") \n",
    "install.packages('ggmap', repos=\"http://cran.rstudio.com/\")"
   ]
  },
  {
   "cell_type": "code",
   "execution_count": 3,
   "metadata": {
    "collapsed": false
   },
   "outputs": [
    {
     "name": "stderr",
     "output_type": "stream",
     "text": [
      "Loading required package: ggplot2\n"
     ]
    },
    {
     "name": "stdout",
     "output_type": "stream",
     "text": [
      "[1] \"Using direct authentication\"\n"
     ]
    }
   ],
   "source": [
    "library(twitteR)\n",
    "library(ggmap)\n",
    "\n",
    "#twitter API authentication\n",
    "api_key<- #api key here\n",
    "api_secret<- #api secret key here\n",
    "access_token<- #access token here\n",
    "access_secret<- #access secret here\n",
    "\n",
    "setup_twitter_oauth(api_key, api_secret, access_token, access_secret)"
   ]
  },
  {
   "cell_type": "code",
   "execution_count": 4,
   "metadata": {
    "collapsed": false
   },
   "outputs": [
    {
     "name": "stderr",
     "output_type": "stream",
     "text": [
      "2500 geocoding queries remaining.\n"
     ]
    }
   ],
   "source": [
    "geocodeQueryCheck(userType = \"free\")"
   ]
  },
  {
   "cell_type": "code",
   "execution_count": 7,
   "metadata": {
    "collapsed": false,
    "scrolled": true
   },
   "outputs": [
    {
     "name": "stderr",
     "output_type": "stream",
     "text": [
      "Information from URL : http://maps.googleapis.com/maps/api/geocode/json?address=los%20angeles,USA&sensor=false\n"
     ]
    },
    {
     "name": "stdout",
     "output_type": "stream",
     "text": [
      "        lon      lat\n",
      "1 -118.2437 34.05223\n"
     ]
    }
   ],
   "source": [
    "searchPlace<-'los angeles,USA'            #Enter place here\n",
    "\n",
    "# get coordinates using geocode funtion\n",
    "location <- geocode(searchPlace)\n",
    "lon <- as.double(location$lon)\n",
    "lat <- as.double(location$lat)\n",
    "print(location)\n"
   ]
  },
  {
   "cell_type": "markdown",
   "metadata": {},
   "source": [
    "## use geocode coordinates to get closest cities for trends using closestTrendLocation\n",
    "## pass the obtained where on earth ID (woeid) to getTrends funtion of twitteR  package"
   ]
  },
  {
   "cell_type": "code",
   "execution_count": 9,
   "metadata": {
    "collapsed": false,
    "scrolled": true
   },
   "outputs": [
    {
     "data": {
      "text/html": [
       "<table>\n",
       "<thead><tr><th scope=col>name</th><th scope=col>country</th><th scope=col>woeid</th></tr></thead>\n",
       "<tbody>\n",
       "\t<tr><td>Los Angeles  </td><td>United States</td><td>2442047      </td></tr>\n",
       "</tbody>\n",
       "</table>\n"
      ],
      "text/latex": [
       "\\begin{tabular}{r|lll}\n",
       " name & country & woeid\\\\\n",
       "\\hline\n",
       "\t Los Angeles   & United States & 2442047      \\\\\n",
       "\\end{tabular}\n"
      ],
      "text/markdown": [
       "\n",
       "name | country | woeid | \n",
       "|---|\n",
       "| Los Angeles   | United States | 2442047       | \n",
       "\n",
       "\n"
      ],
      "text/plain": [
       "  name        country       woeid  \n",
       "1 Los Angeles United States 2442047"
      ]
     },
     "metadata": {},
     "output_type": "display_data"
    }
   ],
   "source": [
    "close<-closestTrendLocations(lat,lon)\n",
    "head(close)"
   ]
  },
  {
   "cell_type": "code",
   "execution_count": 10,
   "metadata": {
    "collapsed": false
   },
   "outputs": [
    {
     "data": {
      "text/html": [
       "<ol class=list-inline>\n",
       "\t<li>'#TrumpRally'</li>\n",
       "\t<li>'#OVOSoundRadio'</li>\n",
       "\t<li>'#NationalDrinkWineDay'</li>\n",
       "\t<li>'Adam Silver'</li>\n",
       "\t<li>'Fedor'</li>\n",
       "\t<li>'#BritneyEverAfter'</li>\n",
       "\t<li>'#HistoricalCats'</li>\n",
       "\t<li>'Briscoe'</li>\n",
       "\t<li>'Doug Collins'</li>\n",
       "\t<li>'Clyde Stubblefield'</li>\n",
       "</ol>\n"
      ],
      "text/latex": [
       "\\begin{enumerate*}\n",
       "\\item '\\#TrumpRally'\n",
       "\\item '\\#OVOSoundRadio'\n",
       "\\item '\\#NationalDrinkWineDay'\n",
       "\\item 'Adam Silver'\n",
       "\\item 'Fedor'\n",
       "\\item '\\#BritneyEverAfter'\n",
       "\\item '\\#HistoricalCats'\n",
       "\\item 'Briscoe'\n",
       "\\item 'Doug Collins'\n",
       "\\item 'Clyde Stubblefield'\n",
       "\\end{enumerate*}\n"
      ],
      "text/markdown": [
       "1. '#TrumpRally'\n",
       "2. '#OVOSoundRadio'\n",
       "3. '#NationalDrinkWineDay'\n",
       "4. 'Adam Silver'\n",
       "5. 'Fedor'\n",
       "6. '#BritneyEverAfter'\n",
       "7. '#HistoricalCats'\n",
       "8. 'Briscoe'\n",
       "9. 'Doug Collins'\n",
       "10. 'Clyde Stubblefield'\n",
       "\n",
       "\n"
      ],
      "text/plain": [
       " [1] \"#TrumpRally\"           \"#OVOSoundRadio\"        \"#NationalDrinkWineDay\"\n",
       " [4] \"Adam Silver\"           \"Fedor\"                 \"#BritneyEverAfter\"    \n",
       " [7] \"#HistoricalCats\"       \"Briscoe\"               \"Doug Collins\"         \n",
       "[10] \"Clyde Stubblefield\"   "
      ]
     },
     "metadata": {},
     "output_type": "display_data"
    }
   ],
   "source": [
    "trends<-getTrends(close$woeid)\n",
    "head(trends$name,n=10)"
   ]
  },
  {
   "cell_type": "markdown",
   "metadata": {
    "collapsed": true
   },
   "source": [
    "## Reference: \n",
    "http://geoffjentry.hexdump.org/twitteR.pdf (Section-5.6)"
   ]
  }
 ],
 "metadata": {
  "kernelspec": {
   "display_name": "R",
   "language": "R",
   "name": "ir"
  },
  "language_info": {
   "codemirror_mode": "r",
   "file_extension": ".r",
   "mimetype": "text/x-r-source",
   "name": "R",
   "pygments_lexer": "r",
   "version": "3.3.2"
  }
 },
 "nbformat": 4,
 "nbformat_minor": 2
}
