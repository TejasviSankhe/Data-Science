{
 "cells": [
  {
   "cell_type": "code",
   "execution_count": 52,
   "metadata": {
    "collapsed": false
   },
   "outputs": [
    {
     "name": "stderr",
     "output_type": "stream",
     "text": [
      "Installing package into 'C:/Users/tsankhe/Documents/R/win-library/3.3'\n",
      "(as 'lib' is unspecified)\n",
      "Warning message:\n",
      "\"package 'dplyr' is in use and will not be installed\"Installing package into 'C:/Users/tsankhe/Documents/R/win-library/3.3'\n",
      "(as 'lib' is unspecified)\n",
      "Warning message:\n",
      "\"package 'RSQLite' is in use and will not be installed\"Installing package into 'C:/Users/tsankhe/Documents/R/win-library/3.3'\n",
      "(as 'lib' is unspecified)\n",
      "Warning message:\n",
      "\"package 'sqldf' is in use and will not be installed\"Installing package into 'C:/Users/tsankhe/Documents/R/win-library/3.3'\n",
      "(as 'lib' is unspecified)\n",
      "Warning message:\n",
      "\"package 'qplot' is not available (for R version 3.3.2)\"Installing package into 'C:/Users/tsankhe/Documents/R/win-library/3.3'\n",
      "(as 'lib' is unspecified)\n"
     ]
    },
    {
     "name": "stdout",
     "output_type": "stream",
     "text": [
      "package 'ggplot2' successfully unpacked and MD5 sums checked\n",
      "\n",
      "The downloaded binary packages are in\n",
      "\tC:\\Users\\tsankhe\\AppData\\Local\\Temp\\RtmpGCVfPN\\downloaded_packages\n"
     ]
    }
   ],
   "source": [
    "install.packages(\"dplyr\", repos=\"http://cran.rstudio.com/\") \n",
    "install.packages(\"RSQLite\", repos=\"http://cran.rstudio.com/\") \n",
    "install.packages(\"sqldf\", repos=\"http://cran.rstudio.com/\") \n",
    "install.packages(\"qplot\", repos=\"http://cran.rstudio.com/\") \n",
    "install.packages(\"ggplot2\", repos=\"http://cran.rstudio.com/\") \n"
   ]
  },
  {
   "cell_type": "code",
   "execution_count": 53,
   "metadata": {
    "collapsed": false
   },
   "outputs": [
    {
     "name": "stderr",
     "output_type": "stream",
     "text": [
      "Warning message:\n",
      "\"package 'ggplot2' was built under R version 3.3.3\""
     ]
    },
    {
     "ename": "ERROR",
     "evalue": "Error in library(qplot): there is no package called 'qplot'\n",
     "output_type": "error",
     "traceback": [
      "Error in library(qplot): there is no package called 'qplot'\nTraceback:\n",
      "1. library(qplot)",
      "2. stop(txt, domain = NA)"
     ]
    }
   ],
   "source": [
    "library(dplyr)\n",
    "library(sqldf)\n",
    "library(ggplot2)\n"
   ]
  },
  {
   "cell_type": "code",
   "execution_count": 3,
   "metadata": {
    "collapsed": false
   },
   "outputs": [],
   "source": [
    "pewdata<-read.csv(\"pewData.csv\")\n",
    "pewdata<-rename(pewdata,id=ï..psraid)"
   ]
  },
  {
   "cell_type": "code",
   "execution_count": 4,
   "metadata": {
    "collapsed": false
   },
   "outputs": [
    {
     "data": {
      "text/html": [
       "<ol class=list-inline>\n",
       "\t<li>'id'</li>\n",
       "\t<li>'sample'</li>\n",
       "\t<li>'int_date'</li>\n",
       "\t<li>'lang'</li>\n",
       "\t<li>'usr'</li>\n",
       "\t<li>'cregion'</li>\n",
       "\t<li>'state'</li>\n",
       "\t<li>'form'</li>\n",
       "\t<li>'sex'</li>\n",
       "\t<li>'q1'</li>\n",
       "\t<li>'q3'</li>\n",
       "\t<li>'eminuse'</li>\n",
       "\t<li>'intmob'</li>\n",
       "\t<li>'intfreq'</li>\n",
       "\t<li>'home4nw'</li>\n",
       "\t<li>'bbhome1'</li>\n",
       "\t<li>'bbhome2'</li>\n",
       "\t<li>'bbhome3a'</li>\n",
       "\t<li>'bbhome3b'</li>\n",
       "\t<li>'bbhome3c'</li>\n",
       "\t<li>'bbhome3d'</li>\n",
       "\t<li>'bbhome3e'</li>\n",
       "\t<li>'device1a'</li>\n",
       "\t<li>'smart1'</li>\n",
       "\t<li>'q4'</li>\n",
       "\t<li>'bbsmart1'</li>\n",
       "\t<li>'bbsmart2'</li>\n",
       "\t<li>'bbsmart3a'</li>\n",
       "\t<li>'bbsmart3b'</li>\n",
       "\t<li>'bbsmart3c'</li>\n",
       "\t<li>'bbsmart3d'</li>\n",
       "\t<li>'bbsmart3e'</li>\n",
       "\t<li>'bbsmart3f'</li>\n",
       "\t<li>'bbsmart4'</li>\n",
       "\t<li>'cable1'</li>\n",
       "\t<li>'cable2'</li>\n",
       "\t<li>'cable3a'</li>\n",
       "\t<li>'cable3b'</li>\n",
       "\t<li>'cable3c'</li>\n",
       "\t<li>'act19'</li>\n",
       "\t<li>'act87a'</li>\n",
       "\t<li>'act87b'</li>\n",
       "\t<li>'act137'</li>\n",
       "\t<li>'q5a'</li>\n",
       "\t<li>'q5b'</li>\n",
       "\t<li>'q5c'</li>\n",
       "\t<li>'q5d'</li>\n",
       "\t<li>'q5e'</li>\n",
       "\t<li>'q5f'</li>\n",
       "\t<li>'date1a'</li>\n",
       "\t<li>'date2a'</li>\n",
       "\t<li>'date3a'</li>\n",
       "\t<li>'date3b'</li>\n",
       "\t<li>'date4a'</li>\n",
       "\t<li>'date4b'</li>\n",
       "\t<li>'date4c'</li>\n",
       "\t<li>'date4d'</li>\n",
       "\t<li>'date4e'</li>\n",
       "\t<li>'date4f'</li>\n",
       "\t<li>'game1'</li>\n",
       "\t<li>'game2a'</li>\n",
       "\t<li>'game2b'</li>\n",
       "\t<li>'game2c'</li>\n",
       "\t<li>'game2d'</li>\n",
       "\t<li>'game2e'</li>\n",
       "\t<li>'game2f'</li>\n",
       "\t<li>'game3a'</li>\n",
       "\t<li>'game3b'</li>\n",
       "\t<li>'game4'</li>\n",
       "\t<li>'emplnw'</li>\n",
       "\t<li>'emptype1'</li>\n",
       "\t<li>'emptype2'</li>\n",
       "\t<li>'emptype3'</li>\n",
       "\t<li>'stud'</li>\n",
       "\t<li>'job1a'</li>\n",
       "\t<li>'job1b'</li>\n",
       "\t<li>'job1c'</li>\n",
       "\t<li>'job1d'</li>\n",
       "\t<li>'job1e'</li>\n",
       "\t<li>'job1f'</li>\n",
       "\t<li>'job2'</li>\n",
       "\t<li>'job3a'</li>\n",
       "\t<li>'job3b'</li>\n",
       "\t<li>'job3c'</li>\n",
       "\t<li>'job3d'</li>\n",
       "\t<li>'job3e'</li>\n",
       "\t<li>'job3f'</li>\n",
       "\t<li>'job3g'</li>\n",
       "\t<li>'job3h'</li>\n",
       "\t<li>'job4'</li>\n",
       "\t<li>'smjob1'</li>\n",
       "\t<li>'smjob2a'</li>\n",
       "\t<li>'smjob2b'</li>\n",
       "\t<li>'smjob2c'</li>\n",
       "\t<li>'smjob2d'</li>\n",
       "\t<li>'smjob2e'</li>\n",
       "\t<li>'smjob3'</li>\n",
       "\t<li>'smjob4a'</li>\n",
       "\t<li>'smjob4b'</li>\n",
       "\t<li>'smjob4c'</li>\n",
       "\t<li>'smjob4d'</li>\n",
       "\t<li>'smjob4e'</li>\n",
       "\t<li>'snsjob1a'</li>\n",
       "\t<li>'snsjob1b'</li>\n",
       "\t<li>'snsjob1c'</li>\n",
       "\t<li>'snsjob2a'</li>\n",
       "\t<li>'snsjob2b'</li>\n",
       "\t<li>'job5a'</li>\n",
       "\t<li>'job5b'</li>\n",
       "\t<li>'job5c'</li>\n",
       "\t<li>'job5d'</li>\n",
       "\t<li>'auto1a'</li>\n",
       "\t<li>'auto1b'</li>\n",
       "\t<li>'auto1c'</li>\n",
       "\t<li>'auto1d'</li>\n",
       "\t<li>'auto1e'</li>\n",
       "\t<li>'auto2'</li>\n",
       "\t<li>'auto3'</li>\n",
       "\t<li>'age'</li>\n",
       "\t<li>'marital'</li>\n",
       "\t<li>'hh1'</li>\n",
       "\t<li>'par'</li>\n",
       "\t<li>'kidage1'</li>\n",
       "\t<li>'kidage2'</li>\n",
       "\t<li>'kidage3'</li>\n",
       "\t<li>'educ2'</li>\n",
       "\t<li>'edinst'</li>\n",
       "\t<li>'disa'</li>\n",
       "\t<li>'party'</li>\n",
       "\t<li>'partyln'</li>\n",
       "\t<li>'ideo'</li>\n",
       "\t<li>'hisp'</li>\n",
       "\t<li>'birth_hisp'</li>\n",
       "\t<li>'race'</li>\n",
       "\t<li>'inc'</li>\n",
       "\t<li>'ql1a'</li>\n",
       "\t<li>'qc1'</li>\n",
       "\t<li>'zipcode'</li>\n",
       "\t<li>'weight'</li>\n",
       "\t<li>'standwt'</li>\n",
       "</ol>\n"
      ],
      "text/latex": [
       "\\begin{enumerate*}\n",
       "\\item 'id'\n",
       "\\item 'sample'\n",
       "\\item 'int\\_date'\n",
       "\\item 'lang'\n",
       "\\item 'usr'\n",
       "\\item 'cregion'\n",
       "\\item 'state'\n",
       "\\item 'form'\n",
       "\\item 'sex'\n",
       "\\item 'q1'\n",
       "\\item 'q3'\n",
       "\\item 'eminuse'\n",
       "\\item 'intmob'\n",
       "\\item 'intfreq'\n",
       "\\item 'home4nw'\n",
       "\\item 'bbhome1'\n",
       "\\item 'bbhome2'\n",
       "\\item 'bbhome3a'\n",
       "\\item 'bbhome3b'\n",
       "\\item 'bbhome3c'\n",
       "\\item 'bbhome3d'\n",
       "\\item 'bbhome3e'\n",
       "\\item 'device1a'\n",
       "\\item 'smart1'\n",
       "\\item 'q4'\n",
       "\\item 'bbsmart1'\n",
       "\\item 'bbsmart2'\n",
       "\\item 'bbsmart3a'\n",
       "\\item 'bbsmart3b'\n",
       "\\item 'bbsmart3c'\n",
       "\\item 'bbsmart3d'\n",
       "\\item 'bbsmart3e'\n",
       "\\item 'bbsmart3f'\n",
       "\\item 'bbsmart4'\n",
       "\\item 'cable1'\n",
       "\\item 'cable2'\n",
       "\\item 'cable3a'\n",
       "\\item 'cable3b'\n",
       "\\item 'cable3c'\n",
       "\\item 'act19'\n",
       "\\item 'act87a'\n",
       "\\item 'act87b'\n",
       "\\item 'act137'\n",
       "\\item 'q5a'\n",
       "\\item 'q5b'\n",
       "\\item 'q5c'\n",
       "\\item 'q5d'\n",
       "\\item 'q5e'\n",
       "\\item 'q5f'\n",
       "\\item 'date1a'\n",
       "\\item 'date2a'\n",
       "\\item 'date3a'\n",
       "\\item 'date3b'\n",
       "\\item 'date4a'\n",
       "\\item 'date4b'\n",
       "\\item 'date4c'\n",
       "\\item 'date4d'\n",
       "\\item 'date4e'\n",
       "\\item 'date4f'\n",
       "\\item 'game1'\n",
       "\\item 'game2a'\n",
       "\\item 'game2b'\n",
       "\\item 'game2c'\n",
       "\\item 'game2d'\n",
       "\\item 'game2e'\n",
       "\\item 'game2f'\n",
       "\\item 'game3a'\n",
       "\\item 'game3b'\n",
       "\\item 'game4'\n",
       "\\item 'emplnw'\n",
       "\\item 'emptype1'\n",
       "\\item 'emptype2'\n",
       "\\item 'emptype3'\n",
       "\\item 'stud'\n",
       "\\item 'job1a'\n",
       "\\item 'job1b'\n",
       "\\item 'job1c'\n",
       "\\item 'job1d'\n",
       "\\item 'job1e'\n",
       "\\item 'job1f'\n",
       "\\item 'job2'\n",
       "\\item 'job3a'\n",
       "\\item 'job3b'\n",
       "\\item 'job3c'\n",
       "\\item 'job3d'\n",
       "\\item 'job3e'\n",
       "\\item 'job3f'\n",
       "\\item 'job3g'\n",
       "\\item 'job3h'\n",
       "\\item 'job4'\n",
       "\\item 'smjob1'\n",
       "\\item 'smjob2a'\n",
       "\\item 'smjob2b'\n",
       "\\item 'smjob2c'\n",
       "\\item 'smjob2d'\n",
       "\\item 'smjob2e'\n",
       "\\item 'smjob3'\n",
       "\\item 'smjob4a'\n",
       "\\item 'smjob4b'\n",
       "\\item 'smjob4c'\n",
       "\\item 'smjob4d'\n",
       "\\item 'smjob4e'\n",
       "\\item 'snsjob1a'\n",
       "\\item 'snsjob1b'\n",
       "\\item 'snsjob1c'\n",
       "\\item 'snsjob2a'\n",
       "\\item 'snsjob2b'\n",
       "\\item 'job5a'\n",
       "\\item 'job5b'\n",
       "\\item 'job5c'\n",
       "\\item 'job5d'\n",
       "\\item 'auto1a'\n",
       "\\item 'auto1b'\n",
       "\\item 'auto1c'\n",
       "\\item 'auto1d'\n",
       "\\item 'auto1e'\n",
       "\\item 'auto2'\n",
       "\\item 'auto3'\n",
       "\\item 'age'\n",
       "\\item 'marital'\n",
       "\\item 'hh1'\n",
       "\\item 'par'\n",
       "\\item 'kidage1'\n",
       "\\item 'kidage2'\n",
       "\\item 'kidage3'\n",
       "\\item 'educ2'\n",
       "\\item 'edinst'\n",
       "\\item 'disa'\n",
       "\\item 'party'\n",
       "\\item 'partyln'\n",
       "\\item 'ideo'\n",
       "\\item 'hisp'\n",
       "\\item 'birth\\_hisp'\n",
       "\\item 'race'\n",
       "\\item 'inc'\n",
       "\\item 'ql1a'\n",
       "\\item 'qc1'\n",
       "\\item 'zipcode'\n",
       "\\item 'weight'\n",
       "\\item 'standwt'\n",
       "\\end{enumerate*}\n"
      ],
      "text/markdown": [
       "1. 'id'\n",
       "2. 'sample'\n",
       "3. 'int_date'\n",
       "4. 'lang'\n",
       "5. 'usr'\n",
       "6. 'cregion'\n",
       "7. 'state'\n",
       "8. 'form'\n",
       "9. 'sex'\n",
       "10. 'q1'\n",
       "11. 'q3'\n",
       "12. 'eminuse'\n",
       "13. 'intmob'\n",
       "14. 'intfreq'\n",
       "15. 'home4nw'\n",
       "16. 'bbhome1'\n",
       "17. 'bbhome2'\n",
       "18. 'bbhome3a'\n",
       "19. 'bbhome3b'\n",
       "20. 'bbhome3c'\n",
       "21. 'bbhome3d'\n",
       "22. 'bbhome3e'\n",
       "23. 'device1a'\n",
       "24. 'smart1'\n",
       "25. 'q4'\n",
       "26. 'bbsmart1'\n",
       "27. 'bbsmart2'\n",
       "28. 'bbsmart3a'\n",
       "29. 'bbsmart3b'\n",
       "30. 'bbsmart3c'\n",
       "31. 'bbsmart3d'\n",
       "32. 'bbsmart3e'\n",
       "33. 'bbsmart3f'\n",
       "34. 'bbsmart4'\n",
       "35. 'cable1'\n",
       "36. 'cable2'\n",
       "37. 'cable3a'\n",
       "38. 'cable3b'\n",
       "39. 'cable3c'\n",
       "40. 'act19'\n",
       "41. 'act87a'\n",
       "42. 'act87b'\n",
       "43. 'act137'\n",
       "44. 'q5a'\n",
       "45. 'q5b'\n",
       "46. 'q5c'\n",
       "47. 'q5d'\n",
       "48. 'q5e'\n",
       "49. 'q5f'\n",
       "50. 'date1a'\n",
       "51. 'date2a'\n",
       "52. 'date3a'\n",
       "53. 'date3b'\n",
       "54. 'date4a'\n",
       "55. 'date4b'\n",
       "56. 'date4c'\n",
       "57. 'date4d'\n",
       "58. 'date4e'\n",
       "59. 'date4f'\n",
       "60. 'game1'\n",
       "61. 'game2a'\n",
       "62. 'game2b'\n",
       "63. 'game2c'\n",
       "64. 'game2d'\n",
       "65. 'game2e'\n",
       "66. 'game2f'\n",
       "67. 'game3a'\n",
       "68. 'game3b'\n",
       "69. 'game4'\n",
       "70. 'emplnw'\n",
       "71. 'emptype1'\n",
       "72. 'emptype2'\n",
       "73. 'emptype3'\n",
       "74. 'stud'\n",
       "75. 'job1a'\n",
       "76. 'job1b'\n",
       "77. 'job1c'\n",
       "78. 'job1d'\n",
       "79. 'job1e'\n",
       "80. 'job1f'\n",
       "81. 'job2'\n",
       "82. 'job3a'\n",
       "83. 'job3b'\n",
       "84. 'job3c'\n",
       "85. 'job3d'\n",
       "86. 'job3e'\n",
       "87. 'job3f'\n",
       "88. 'job3g'\n",
       "89. 'job3h'\n",
       "90. 'job4'\n",
       "91. 'smjob1'\n",
       "92. 'smjob2a'\n",
       "93. 'smjob2b'\n",
       "94. 'smjob2c'\n",
       "95. 'smjob2d'\n",
       "96. 'smjob2e'\n",
       "97. 'smjob3'\n",
       "98. 'smjob4a'\n",
       "99. 'smjob4b'\n",
       "100. 'smjob4c'\n",
       "101. 'smjob4d'\n",
       "102. 'smjob4e'\n",
       "103. 'snsjob1a'\n",
       "104. 'snsjob1b'\n",
       "105. 'snsjob1c'\n",
       "106. 'snsjob2a'\n",
       "107. 'snsjob2b'\n",
       "108. 'job5a'\n",
       "109. 'job5b'\n",
       "110. 'job5c'\n",
       "111. 'job5d'\n",
       "112. 'auto1a'\n",
       "113. 'auto1b'\n",
       "114. 'auto1c'\n",
       "115. 'auto1d'\n",
       "116. 'auto1e'\n",
       "117. 'auto2'\n",
       "118. 'auto3'\n",
       "119. 'age'\n",
       "120. 'marital'\n",
       "121. 'hh1'\n",
       "122. 'par'\n",
       "123. 'kidage1'\n",
       "124. 'kidage2'\n",
       "125. 'kidage3'\n",
       "126. 'educ2'\n",
       "127. 'edinst'\n",
       "128. 'disa'\n",
       "129. 'party'\n",
       "130. 'partyln'\n",
       "131. 'ideo'\n",
       "132. 'hisp'\n",
       "133. 'birth_hisp'\n",
       "134. 'race'\n",
       "135. 'inc'\n",
       "136. 'ql1a'\n",
       "137. 'qc1'\n",
       "138. 'zipcode'\n",
       "139. 'weight'\n",
       "140. 'standwt'\n",
       "\n",
       "\n"
      ],
      "text/plain": [
       "  [1] \"id\"         \"sample\"     \"int_date\"   \"lang\"       \"usr\"       \n",
       "  [6] \"cregion\"    \"state\"      \"form\"       \"sex\"        \"q1\"        \n",
       " [11] \"q3\"         \"eminuse\"    \"intmob\"     \"intfreq\"    \"home4nw\"   \n",
       " [16] \"bbhome1\"    \"bbhome2\"    \"bbhome3a\"   \"bbhome3b\"   \"bbhome3c\"  \n",
       " [21] \"bbhome3d\"   \"bbhome3e\"   \"device1a\"   \"smart1\"     \"q4\"        \n",
       " [26] \"bbsmart1\"   \"bbsmart2\"   \"bbsmart3a\"  \"bbsmart3b\"  \"bbsmart3c\" \n",
       " [31] \"bbsmart3d\"  \"bbsmart3e\"  \"bbsmart3f\"  \"bbsmart4\"   \"cable1\"    \n",
       " [36] \"cable2\"     \"cable3a\"    \"cable3b\"    \"cable3c\"    \"act19\"     \n",
       " [41] \"act87a\"     \"act87b\"     \"act137\"     \"q5a\"        \"q5b\"       \n",
       " [46] \"q5c\"        \"q5d\"        \"q5e\"        \"q5f\"        \"date1a\"    \n",
       " [51] \"date2a\"     \"date3a\"     \"date3b\"     \"date4a\"     \"date4b\"    \n",
       " [56] \"date4c\"     \"date4d\"     \"date4e\"     \"date4f\"     \"game1\"     \n",
       " [61] \"game2a\"     \"game2b\"     \"game2c\"     \"game2d\"     \"game2e\"    \n",
       " [66] \"game2f\"     \"game3a\"     \"game3b\"     \"game4\"      \"emplnw\"    \n",
       " [71] \"emptype1\"   \"emptype2\"   \"emptype3\"   \"stud\"       \"job1a\"     \n",
       " [76] \"job1b\"      \"job1c\"      \"job1d\"      \"job1e\"      \"job1f\"     \n",
       " [81] \"job2\"       \"job3a\"      \"job3b\"      \"job3c\"      \"job3d\"     \n",
       " [86] \"job3e\"      \"job3f\"      \"job3g\"      \"job3h\"      \"job4\"      \n",
       " [91] \"smjob1\"     \"smjob2a\"    \"smjob2b\"    \"smjob2c\"    \"smjob2d\"   \n",
       " [96] \"smjob2e\"    \"smjob3\"     \"smjob4a\"    \"smjob4b\"    \"smjob4c\"   \n",
       "[101] \"smjob4d\"    \"smjob4e\"    \"snsjob1a\"   \"snsjob1b\"   \"snsjob1c\"  \n",
       "[106] \"snsjob2a\"   \"snsjob2b\"   \"job5a\"      \"job5b\"      \"job5c\"     \n",
       "[111] \"job5d\"      \"auto1a\"     \"auto1b\"     \"auto1c\"     \"auto1d\"    \n",
       "[116] \"auto1e\"     \"auto2\"      \"auto3\"      \"age\"        \"marital\"   \n",
       "[121] \"hh1\"        \"par\"        \"kidage1\"    \"kidage2\"    \"kidage3\"   \n",
       "[126] \"educ2\"      \"edinst\"     \"disa\"       \"party\"      \"partyln\"   \n",
       "[131] \"ideo\"       \"hisp\"       \"birth_hisp\" \"race\"       \"inc\"       \n",
       "[136] \"ql1a\"       \"qc1\"        \"zipcode\"    \"weight\"     \"standwt\"   "
      ]
     },
     "metadata": {},
     "output_type": "display_data"
    }
   ],
   "source": [
    "names(pewdata)"
   ]
  },
  {
   "cell_type": "markdown",
   "metadata": {},
   "source": [
    "## 1. Reasons for not having broadband by age"
   ]
  },
  {
   "cell_type": "code",
   "execution_count": 160,
   "metadata": {
    "collapsed": false
   },
   "outputs": [
    {
     "name": "stdout",
     "output_type": "stream",
     "text": [
      "'data.frame':\t2001 obs. of  3 variables:\n",
      " $ id       : int  100006 100009 100011 100039 100040 100043 100049 100051 100058 100059 ...\n",
      " $ bbsmart3a: int  NA 8 2 NA NA NA 2 2 NA 2 ...\n",
      " $ age      : int  47 63 86 40 65 69 72 70 77 73 ...\n"
     ]
    }
   ],
   "source": [
    "broadband<- pewdata[,c('id','bbsmart3a','age')]\n",
    "smart<- pewdata[,c('id','bbsmart3c','age')]\n",
    "\n",
    "str(broadband)"
   ]
  },
  {
   "cell_type": "code",
   "execution_count": 161,
   "metadata": {
    "collapsed": false
   },
   "outputs": [],
   "source": [
    "broadband$bbsmart3a[broadband$bbsmart3a!=1]<-NA\n",
    "smart$bbsmart3c[smart$bbsmart3c!=1]<-NA\n"
   ]
  },
  {
   "cell_type": "code",
   "execution_count": 162,
   "metadata": {
    "collapsed": false
   },
   "outputs": [],
   "source": [
    "bb<-group_by(broadband,age) %>% filter(bbsmart3a==1) %>% tally()\n",
    "sp<-group_by(smart,age) %>% filter(bbsmart3c==1) %>% tally()"
   ]
  },
  {
   "cell_type": "code",
   "execution_count": 163,
   "metadata": {
    "collapsed": false,
    "scrolled": true
   },
   "outputs": [
    {
     "data": {
      "text/html": [
       "<table>\n",
       "<thead><tr><th scope=col>age</th><th scope=col>expensive</th><th scope=col>smartphone</th></tr></thead>\n",
       "<tbody>\n",
       "\t<tr><td>18</td><td>4 </td><td>4 </td></tr>\n",
       "\t<tr><td>19</td><td>3 </td><td>4 </td></tr>\n",
       "\t<tr><td>20</td><td>6 </td><td>3 </td></tr>\n",
       "\t<tr><td>21</td><td>1 </td><td>2 </td></tr>\n",
       "\t<tr><td>22</td><td>9 </td><td>5 </td></tr>\n",
       "\t<tr><td>23</td><td>2 </td><td>4 </td></tr>\n",
       "</tbody>\n",
       "</table>\n"
      ],
      "text/latex": [
       "\\begin{tabular}{r|lll}\n",
       " age & expensive & smartphone\\\\\n",
       "\\hline\n",
       "\t 18 & 4  & 4 \\\\\n",
       "\t 19 & 3  & 4 \\\\\n",
       "\t 20 & 6  & 3 \\\\\n",
       "\t 21 & 1  & 2 \\\\\n",
       "\t 22 & 9  & 5 \\\\\n",
       "\t 23 & 2  & 4 \\\\\n",
       "\\end{tabular}\n"
      ],
      "text/markdown": [
       "\n",
       "age | expensive | smartphone | \n",
       "|---|---|---|---|---|---|\n",
       "| 18 | 4  | 4  | \n",
       "| 19 | 3  | 4  | \n",
       "| 20 | 6  | 3  | \n",
       "| 21 | 1  | 2  | \n",
       "| 22 | 9  | 5  | \n",
       "| 23 | 2  | 4  | \n",
       "\n",
       "\n"
      ],
      "text/plain": [
       "  age expensive smartphone\n",
       "1 18  4         4         \n",
       "2 19  3         4         \n",
       "3 20  6         3         \n",
       "4 21  1         2         \n",
       "5 22  9         5         \n",
       "6 23  2         4         "
      ]
     },
     "metadata": {},
     "output_type": "display_data"
    }
   ],
   "source": [
    "broadSmart<-merge(x=bb, y=sp, by.x=\"age\", by.y=\"age\")\n",
    "broadSmart<-rename(broadSmart, expensive=n.x, smartphone=n.y)\n",
    "head(broadSmart)"
   ]
  },
  {
   "cell_type": "code",
   "execution_count": 193,
   "metadata": {
    "collapsed": false
   },
   "outputs": [
    {
     "data": {
      "image/png": "[encoded data removed]",
      "text/plain": [
       "Plot with title \"People not using broadband because its expensive\""
      ]
     },
     "metadata": {},
     "output_type": "display_data"
    }
   ],
   "source": [
    "\n",
    "plot(broadSmart$age, broadSmart$expensive, main=\"People not using broadband because its expensive\",\n",
    "xlab=\"Age \", ylab=\"Number \", pch=19)"
   ]
  },
  {
   "cell_type": "markdown",
   "metadata": {},
   "source": [
    "## 2. Gamers opinion of most games "
   ]
  },
  {
   "cell_type": "code",
   "execution_count": 17,
   "metadata": {
    "collapsed": false
   },
   "outputs": [
    {
     "data": {
      "text/html": [
       "<table>\n",
       "<thead><tr><th></th><th scope=col>game2a</th><th scope=col>game2b</th><th scope=col>game2c</th><th scope=col>game2d</th><th scope=col>game2f</th></tr></thead>\n",
       "<tbody>\n",
       "\t<tr><th scope=row>2</th><td>1</td><td>3</td><td>3</td><td>3</td><td>3</td></tr>\n",
       "\t<tr><th scope=row>5</th><td>3</td><td>8</td><td>3</td><td>3</td><td>2</td></tr>\n",
       "\t<tr><th scope=row>12</th><td>3</td><td>8</td><td>8</td><td>2</td><td>3</td></tr>\n",
       "\t<tr><th scope=row>13</th><td>1</td><td>2</td><td>3</td><td>2</td><td>3</td></tr>\n",
       "\t<tr><th scope=row>14</th><td>1</td><td>3</td><td>3</td><td>3</td><td>2</td></tr>\n",
       "\t<tr><th scope=row>15</th><td>2</td><td>1</td><td>2</td><td>3</td><td>3</td></tr>\n",
       "</tbody>\n",
       "</table>\n"
      ],
      "text/latex": [
       "\\begin{tabular}{r|lllll}\n",
       "  & game2a & game2b & game2c & game2d & game2f\\\\\n",
       "\\hline\n",
       "\t2 & 1 & 3 & 3 & 3 & 3\\\\\n",
       "\t5 & 3 & 8 & 3 & 3 & 2\\\\\n",
       "\t12 & 3 & 8 & 8 & 2 & 3\\\\\n",
       "\t13 & 1 & 2 & 3 & 2 & 3\\\\\n",
       "\t14 & 1 & 3 & 3 & 3 & 2\\\\\n",
       "\t15 & 2 & 1 & 2 & 3 & 3\\\\\n",
       "\\end{tabular}\n"
      ],
      "text/markdown": [
       "\n",
       "| <!--/--> | game2a | game2b | game2c | game2d | game2f | \n",
       "|---|---|---|---|---|---|\n",
       "| 2 | 1 | 3 | 3 | 3 | 3 | \n",
       "| 5 | 3 | 8 | 3 | 3 | 2 | \n",
       "| 12 | 3 | 8 | 8 | 2 | 3 | \n",
       "| 13 | 1 | 2 | 3 | 2 | 3 | \n",
       "| 14 | 1 | 3 | 3 | 3 | 2 | \n",
       "| 15 | 2 | 1 | 2 | 3 | 3 | \n",
       "\n",
       "\n"
      ],
      "text/plain": [
       "   game2a game2b game2c game2d game2f\n",
       "2  1      3      3      3      3     \n",
       "5  3      8      3      3      2     \n",
       "12 3      8      8      2      3     \n",
       "13 1      2      3      2      3     \n",
       "14 1      3      3      3      2     \n",
       "15 2      1      2      3      3     "
      ]
     },
     "metadata": {},
     "output_type": "display_data"
    }
   ],
   "source": [
    "game<-pewdata[pewdata$game1==1,c('game2a', 'game2b' ,'game2c', 'game2d', 'game2f')]"
   ]
  },
  {
   "cell_type": "code",
   "execution_count": 174,
   "metadata": {
    "collapsed": false,
    "scrolled": true
   },
   "outputs": [],
   "source": [
    "game$game2a[game$game2a>4]<-NA\n",
    "game$game2b[game$game2b>4]<-NA\n",
    "game$game2c[game$game2c>4]<-NA\n",
    "game$game2d[game$game2d>4]<-NA\n",
    "game$game2f[game$game2f>4]<-NA"
   ]
  },
  {
   "cell_type": "code",
   "execution_count": 215,
   "metadata": {
    "collapsed": false
   },
   "outputs": [
    {
     "data": {
      "text/html": [
       "<table>\n",
       "<thead><tr><th scope=col>game2a</th><th scope=col>COUNT(game2a)</th><th scope=col>COUNT(game2b)</th><th scope=col>COUNT(game2c)</th><th scope=col>COUNT(game2d)</th><th scope=col>COUNT(game2f)</th></tr></thead>\n",
       "<tbody>\n",
       "\t<tr><td>NA </td><td>  0</td><td> 53</td><td> 29</td><td> 42</td><td> 48</td></tr>\n",
       "\t<tr><td> 1 </td><td>220</td><td>197</td><td>189</td><td>196</td><td>199</td></tr>\n",
       "\t<tr><td> 2 </td><td>515</td><td>485</td><td>392</td><td>446</td><td>434</td></tr>\n",
       "\t<tr><td> 3 </td><td>108</td><td> 97</td><td> 79</td><td> 89</td><td>101</td></tr>\n",
       "</tbody>\n",
       "</table>\n"
      ],
      "text/latex": [
       "\\begin{tabular}{r|llllll}\n",
       " game2a & COUNT(game2a) & COUNT(game2b) & COUNT(game2c) & COUNT(game2d) & COUNT(game2f)\\\\\n",
       "\\hline\n",
       "\t NA  &   0 &  53 &  29 &  42 &  48\\\\\n",
       "\t  1  & 220 & 197 & 189 & 196 & 199\\\\\n",
       "\t  2  & 515 & 485 & 392 & 446 & 434\\\\\n",
       "\t  3  & 108 &  97 &  79 &  89 & 101\\\\\n",
       "\\end{tabular}\n"
      ],
      "text/markdown": [
       "\n",
       "game2a | COUNT(game2a) | COUNT(game2b) | COUNT(game2c) | COUNT(game2d) | COUNT(game2f) | \n",
       "|---|---|---|---|\n",
       "| NA  |   0 |  53 |  29 |  42 |  48 | \n",
       "|  1  | 220 | 197 | 189 | 196 | 199 | \n",
       "|  2  | 515 | 485 | 392 | 446 | 434 | \n",
       "|  3  | 108 |  97 |  79 |  89 | 101 | \n",
       "\n",
       "\n"
      ],
      "text/plain": [
       "  game2a COUNT(game2a) COUNT(game2b) COUNT(game2c) COUNT(game2d) COUNT(game2f)\n",
       "1 NA       0            53            29            42            48          \n",
       "2  1     220           197           189           196           199          \n",
       "3  2     515           485           392           446           434          \n",
       "4  3     108            97            79            89           101          "
      ]
     },
     "metadata": {},
     "output_type": "display_data"
    }
   ],
   "source": [
    "gamebeahv<- sqldf(\"select game2a,COUNT(game2a),COUNT(game2b)  ,COUNT(game2c) , COUNT(game2d) ,COUNT(game2f) from game group by game2a \")\n",
    "##gamebeahv<-gamebeahv[!is.na(gamebeahv$game2a),]\n",
    "\n",
    "(gamebeahv)"
   ]
  },
  {
   "cell_type": "code",
   "execution_count": 216,
   "metadata": {
    "collapsed": false
   },
   "outputs": [
    {
     "data": {
      "image/png": "[encoded data removed]",
      "text/plain": [
       "Plot with title \"Histogram of gamebeahv$game2a\""
      ]
     },
     "metadata": {},
     "output_type": "display_data"
    }
   ],
   "source": [
    "hist(gamebeahv$game2a)"
   ]
  },
  {
   "cell_type": "markdown",
   "metadata": {},
   "source": [
    "## 3. What type of employees think going online to find a list of available jobs in their area is easy"
   ]
  },
  {
   "cell_type": "code",
   "execution_count": 82,
   "metadata": {
    "collapsed": false
   },
   "outputs": [],
   "source": [
    "jobs<-pewdata[,c('emptype3','job1c')]"
   ]
  },
  {
   "cell_type": "code",
   "execution_count": 83,
   "metadata": {
    "collapsed": false
   },
   "outputs": [],
   "source": [
    "jobstats<- group_by(jobs, emptype3) %>% filter(emptype3 <=5, job1c<=4) %>% select(emptype3) %>%  tally()"
   ]
  },
  {
   "cell_type": "code",
   "execution_count": 107,
   "metadata": {
    "collapsed": false
   },
   "outputs": [
    {
     "data": {
      "image/png": "[encoded data removed]",
      "text/plain": [
       "Plot with title \"Online job search ease\""
      ]
     },
     "metadata": {},
     "output_type": "display_data"
    }
   ],
   "source": [
    "barplot(jobstats$n,names.arg=c('Professional','Managers','Government','Clerical','Cust Service'),xlab = \"Profession\",ylab = \"Find it easy\",col = \"lightblue\",\n",
    "main = \"Online job search ease\",border = \"darkblue\" , width=15, xlim=c(0,100))"
   ]
  },
  {
   "cell_type": "markdown",
   "metadata": {},
   "source": [
    "## 4. Male vs female that think online dating dangerous"
   ]
  },
  {
   "cell_type": "code",
   "execution_count": 118,
   "metadata": {
    "collapsed": true
   },
   "outputs": [],
   "source": [
    "dating<-pewdata[pewdata$date1a==1,c('sex','date1a','date4f')]"
   ]
  },
  {
   "cell_type": "code",
   "execution_count": 120,
   "metadata": {
    "collapsed": false
   },
   "outputs": [],
   "source": [
    "dating$date4f[dating$date4f>2]<-NA\n",
    "datestats<-group_by(dating, date4f,sex) %>% tally()\n",
    "datestats[is.na(datestats$date4f), ]<-NA\n",
    "datestats<-na.omit(datestats)"
   ]
  },
  {
   "cell_type": "code",
   "execution_count": 121,
   "metadata": {
    "collapsed": false
   },
   "outputs": [
    {
     "data": {
      "text/html": [
       "<table>\n",
       "<thead><tr><th scope=col>date4f</th><th scope=col>sex</th><th scope=col>n</th></tr></thead>\n",
       "<tbody>\n",
       "\t<tr><td>1 </td><td>1 </td><td>44</td></tr>\n",
       "\t<tr><td>1 </td><td>2 </td><td>51</td></tr>\n",
       "\t<tr><td>2 </td><td>1 </td><td>70</td></tr>\n",
       "\t<tr><td>2 </td><td>2 </td><td>47</td></tr>\n",
       "</tbody>\n",
       "</table>\n"
      ],
      "text/latex": [
       "\\begin{tabular}{r|lll}\n",
       " date4f & sex & n\\\\\n",
       "\\hline\n",
       "\t 1  & 1  & 44\\\\\n",
       "\t 1  & 2  & 51\\\\\n",
       "\t 2  & 1  & 70\\\\\n",
       "\t 2  & 2  & 47\\\\\n",
       "\\end{tabular}\n"
      ],
      "text/markdown": [
       "\n",
       "date4f | sex | n | \n",
       "|---|---|---|---|\n",
       "| 1  | 1  | 44 | \n",
       "| 1  | 2  | 51 | \n",
       "| 2  | 1  | 70 | \n",
       "| 2  | 2  | 47 | \n",
       "\n",
       "\n"
      ],
      "text/plain": [
       "  date4f sex n \n",
       "1 1      1   44\n",
       "2 1      2   51\n",
       "3 2      1   70\n",
       "4 2      2   47"
      ]
     },
     "metadata": {},
     "output_type": "display_data"
    }
   ],
   "source": [
    "datestats"
   ]
  },
  {
   "cell_type": "code",
   "execution_count": 133,
   "metadata": {
    "collapsed": false
   },
   "outputs": [
    {
     "data": {
      "image/png": "[encoded data removed]",
      "text/plain": [
       "Plot with title \"Think Online Dating is Dangerous\""
      ]
     },
     "metadata": {},
     "output_type": "display_data"
    }
   ],
   "source": [
    "barplot(datestats$n,names.arg=c('Male', 'Female','Male', 'Female'),xlab = \"Agree VS Disagree\",ylab = \"Number\",col = \"darkblue\",\n",
    "main = \"Think Online Dating is Dangerous\" , width=15, xlim=c(0,100))"
   ]
  },
  {
   "cell_type": "markdown",
   "metadata": {},
   "source": [
    "## 5. Social media helped or lose job for Students vs employed "
   ]
  },
  {
   "cell_type": "code",
   "execution_count": 194,
   "metadata": {
    "collapsed": false
   },
   "outputs": [],
   "source": [
    "social1<- pewdata[pewdata$snsjob2a==1, c('snsjob2a','emplnw')]\n",
    "social2<- pewdata[pewdata$snsjob2b==1, c('snsjob2b','emplnw')]"
   ]
  },
  {
   "cell_type": "code",
   "execution_count": 195,
   "metadata": {
    "collapsed": false
   },
   "outputs": [],
   "source": [
    "s1<- group_by(social1, emplnw) %>% filter(emplnw==1|emplnw==2|emplnw==7) %>% select(snsjob2a,emplnw) %>% tally()\n",
    "s2<- group_by(social2, emplnw) %>%filter(emplnw==1|emplnw==2|emplnw==7)%>% select(snsjob2b, emplnw) %>% tally()"
   ]
  },
  {
   "cell_type": "code",
   "execution_count": 196,
   "metadata": {
    "collapsed": false
   },
   "outputs": [],
   "source": [
    "socialimpact<-merge(x=s1, y=s2, by.x=\"emplnw\", by.y=\"emplnw\")\n",
    "socialimpact<-rename(socialimpact, helped=n.x, did_not_help=n.y)"
   ]
  },
  {
   "cell_type": "code",
   "execution_count": 197,
   "metadata": {
    "collapsed": false
   },
   "outputs": [
    {
     "data": {
      "text/html": [
       "<table>\n",
       "<thead><tr><th scope=col>emplnw</th><th scope=col>helped</th><th scope=col>did_not_help</th></tr></thead>\n",
       "<tbody>\n",
       "\t<tr><td>1 </td><td>83</td><td>6 </td></tr>\n",
       "\t<tr><td>2 </td><td>23</td><td>5 </td></tr>\n",
       "</tbody>\n",
       "</table>\n"
      ],
      "text/latex": [
       "\\begin{tabular}{r|lll}\n",
       " emplnw & helped & did\\_not\\_help\\\\\n",
       "\\hline\n",
       "\t 1  & 83 & 6 \\\\\n",
       "\t 2  & 23 & 5 \\\\\n",
       "\\end{tabular}\n"
      ],
      "text/markdown": [
       "\n",
       "emplnw | helped | did_not_help | \n",
       "|---|---|\n",
       "| 1  | 83 | 6  | \n",
       "| 2  | 23 | 5  | \n",
       "\n",
       "\n"
      ],
      "text/plain": [
       "  emplnw helped did_not_help\n",
       "1 1      83     6           \n",
       "2 2      23     5           "
      ]
     },
     "metadata": {},
     "output_type": "display_data"
    }
   ],
   "source": [
    "socialimpact"
   ]
  },
  {
   "cell_type": "code",
   "execution_count": 204,
   "metadata": {
    "collapsed": false
   },
   "outputs": [
    {
     "data": {
      "image/png": "[encoded data removed]",
      "text/plain": [
       "Plot with title \"Social Media Helped in Job\""
      ]
     },
     "metadata": {},
     "output_type": "display_data"
    }
   ],
   "source": [
    "barplot(socialimpact$emplnw,names.arg=c('Employees', 'Students'),ylab = \"Number\",col = \"darkblue\",\n",
    "main = \"Social Media Helped in Job\" , width=15, xlim=c(0,100))"
   ]
  },
  {
   "cell_type": "code",
   "execution_count": null,
   "metadata": {
    "collapsed": true
   },
   "outputs": [],
   "source": []
  }
 ],
 "metadata": {
  "kernelspec": {
   "display_name": "R",
   "language": "R",
   "name": "ir"
  }
 },
 "nbformat": 4,
 "nbformat_minor": 2
}
