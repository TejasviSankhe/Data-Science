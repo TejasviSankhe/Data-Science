{
 "cells": [
  {
   "cell_type": "code",
   "execution_count": 1,
   "metadata": {
    "collapsed": false
   },
   "outputs": [
    {
     "name": "stderr",
     "output_type": "stream",
     "text": [
      "Installing package into 'C:/Users/tsankhe/Documents/R/win-library/3.3'\n",
      "(as 'lib' is unspecified)\n"
     ]
    },
    {
     "name": "stdout",
     "output_type": "stream",
     "text": [
      "package 'gdata' successfully unpacked and MD5 sums checked\n",
      "\n",
      "The downloaded binary packages are in\n",
      "\tC:\\Users\\tsankhe\\AppData\\Local\\Temp\\Rtmp8cmBej\\downloaded_packages\n"
     ]
    },
    {
     "name": "stderr",
     "output_type": "stream",
     "text": [
      "Installing package into 'C:/Users/tsankhe/Documents/R/win-library/3.3'\n",
      "(as 'lib' is unspecified)\n"
     ]
    },
    {
     "name": "stdout",
     "output_type": "stream",
     "text": [
      "package 'lattice' successfully unpacked and MD5 sums checked\n",
      "\n",
      "The downloaded binary packages are in\n",
      "\tC:\\Users\\tsankhe\\AppData\\Local\\Temp\\Rtmp8cmBej\\downloaded_packages\n"
     ]
    },
    {
     "name": "stderr",
     "output_type": "stream",
     "text": [
      "Installing package into 'C:/Users/tsankhe/Documents/R/win-library/3.3'\n",
      "(as 'lib' is unspecified)\n"
     ]
    },
    {
     "name": "stdout",
     "output_type": "stream",
     "text": [
      "package 'xlsx' successfully unpacked and MD5 sums checked\n",
      "\n",
      "The downloaded binary packages are in\n",
      "\tC:\\Users\\tsankhe\\AppData\\Local\\Temp\\Rtmp8cmBej\\downloaded_packages\n"
     ]
    }
   ],
   "source": [
    "install.packages(\"gdata\", repos=\"http://cran.rstudio.com/\") \n",
    "install.packages(\"lattice\", repos=\"http://cran.rstudio.com/\") \n",
    "install.packages(\"xlsx\", repos=\"http://cran.rstudio.com/\") \n"
   ]
  },
  {
   "cell_type": "code",
   "execution_count": 2,
   "metadata": {
    "collapsed": false
   },
   "outputs": [
    {
     "name": "stderr",
     "output_type": "stream",
     "text": [
      "Warning message:\n",
      "\"package 'gdata' was built under R version 3.3.3\"gdata: Unable to locate valid perl interpreter\n",
      "gdata: \n",
      "gdata: read.xls() will be unable to read Excel XLS and XLSX files\n",
      "gdata: unless the 'perl=' argument is used to specify the location of a\n",
      "gdata: valid perl intrpreter.\n",
      "gdata: \n",
      "gdata: (To avoid display of this message in the future, please ensure\n",
      "gdata: perl is installed and available on the executable search path.)\n",
      "gdata: Unable to load perl libaries needed by read.xls()\n",
      "gdata: to support 'XLX' (Excel 97-2004) files.\n",
      "\n",
      "gdata: Unable to load perl libaries needed by read.xls()\n",
      "gdata: to support 'XLSX' (Excel 2007+) files.\n",
      "\n",
      "gdata: Run the function 'installXLSXsupport()'\n",
      "gdata: to automatically download and install the perl\n",
      "gdata: libaries needed to support Excel XLS and XLSX formats.\n",
      "\n",
      "Attaching package: 'gdata'\n",
      "\n",
      "The following object is masked from 'package:stats':\n",
      "\n",
      "    nobs\n",
      "\n",
      "The following object is masked from 'package:utils':\n",
      "\n",
      "    object.size\n",
      "\n",
      "The following object is masked from 'package:base':\n",
      "\n",
      "    startsWith\n",
      "\n",
      "Warning message:\n",
      "\"package 'lattice' was built under R version 3.3.3\"Loading required package: rJava\n",
      "Loading required package: xlsxjars\n"
     ]
    }
   ],
   "source": [
    "library(gdata)\n",
    "library(lattice)\n",
    "library(xlsx)"
   ]
  },
  {
   "cell_type": "code",
   "execution_count": 3,
   "metadata": {
    "collapsed": false
   },
   "outputs": [],
   "source": [
    "data<-read.xlsx(\"NHLTop100.xlsx\",1)"
   ]
  },
  {
   "cell_type": "code",
   "execution_count": 4,
   "metadata": {
    "collapsed": false
   },
   "outputs": [
    {
     "data": {
      "text/html": [
       "<table>\n",
       "<thead><tr><th scope=col>Rank</th><th scope=col>Player</th><th scope=col>Team</th><th scope=col>Pos</th><th scope=col>X1st.NHL.Season</th><th scope=col>Last.NHL.Season</th><th scope=col>GP</th><th scope=col>G</th><th scope=col>A</th><th scope=col>P</th><th scope=col>X...</th><th scope=col>PIM</th><th scope=col>PP</th><th scope=col>SH</th><th scope=col>GW</th><th scope=col>GT</th><th scope=col>OT</th><th scope=col>Shots</th></tr></thead>\n",
       "<tbody>\n",
       "\t<tr><td>1            </td><td>Wayne Gretzky</td><td>NA           </td><td>C            </td><td>1979-1980    </td><td>1998-1999    </td><td>1487         </td><td>894          </td><td>1963         </td><td>2857         </td><td>518          </td><td> 577         </td><td>204          </td><td>73           </td><td>91           </td><td>12           </td><td> 1           </td><td>5089         </td></tr>\n",
       "\t<tr><td>2            </td><td>Mark Messier </td><td>NA           </td><td>C            </td><td>1979-1980    </td><td>2003-2004    </td><td>1756         </td><td>694          </td><td>1193         </td><td>1887         </td><td>210          </td><td>1910         </td><td>179          </td><td>63           </td><td>92           </td><td>15           </td><td> 7           </td><td>4219         </td></tr>\n",
       "\t<tr><td>3            </td><td>Gordie Howe  </td><td>NA           </td><td>R            </td><td>1946-1947    </td><td>1979-1980    </td><td>1767         </td><td>801          </td><td>1049         </td><td>1850         </td><td> 87          </td><td>1685         </td><td> 39          </td><td> 5           </td><td>18           </td><td>NA           </td><td>NA           </td><td>  NA         </td></tr>\n",
       "\t<tr><td>4            </td><td>Ron Francis  </td><td>NA           </td><td>C            </td><td>1981-1982    </td><td>2003-2004    </td><td>1731         </td><td>549          </td><td>1249         </td><td>1798         </td><td>-10          </td><td> 979         </td><td>188          </td><td>12           </td><td>79           </td><td>13           </td><td> 3           </td><td>3754         </td></tr>\n",
       "\t<tr><td>5            </td><td>Marcel Dionne</td><td>NA           </td><td>C            </td><td>1971-1972    </td><td>1988-1989    </td><td>1348         </td><td>731          </td><td>1040         </td><td>1771         </td><td> 28          </td><td> 600         </td><td>234          </td><td>19           </td><td>74           </td><td> 1           </td><td> 2           </td><td>5366         </td></tr>\n",
       "\t<tr><td>6            </td><td>Steve Yzerman</td><td>NA           </td><td>C            </td><td>1983-1984    </td><td>2005-2006    </td><td>1514         </td><td>692          </td><td>1063         </td><td>1755         </td><td>202          </td><td> 924         </td><td>202          </td><td>50           </td><td>94           </td><td>12           </td><td> 8           </td><td>4602         </td></tr>\n",
       "</tbody>\n",
       "</table>\n"
      ],
      "text/latex": [
       "\\begin{tabular}{r|llllllllllllllllll}\n",
       " Rank & Player & Team & Pos & X1st.NHL.Season & Last.NHL.Season & GP & G & A & P & X... & PIM & PP & SH & GW & GT & OT & Shots\\\\\n",
       "\\hline\n",
       "\t 1             & Wayne Gretzky & NA            & C             & 1979-1980     & 1998-1999     & 1487          & 894           & 1963          & 2857          & 518           &  577          & 204           & 73            & 91            & 12            &  1            & 5089         \\\\\n",
       "\t 2             & Mark Messier  & NA            & C             & 1979-1980     & 2003-2004     & 1756          & 694           & 1193          & 1887          & 210           & 1910          & 179           & 63            & 92            & 15            &  7            & 4219         \\\\\n",
       "\t 3             & Gordie Howe   & NA            & R             & 1946-1947     & 1979-1980     & 1767          & 801           & 1049          & 1850          &  87           & 1685          &  39           &  5            & 18            & NA            & NA            &   NA         \\\\\n",
       "\t 4             & Ron Francis   & NA            & C             & 1981-1982     & 2003-2004     & 1731          & 549           & 1249          & 1798          & -10           &  979          & 188           & 12            & 79            & 13            &  3            & 3754         \\\\\n",
       "\t 5             & Marcel Dionne & NA            & C             & 1971-1972     & 1988-1989     & 1348          & 731           & 1040          & 1771          &  28           &  600          & 234           & 19            & 74            &  1            &  2            & 5366         \\\\\n",
       "\t 6             & Steve Yzerman & NA            & C             & 1983-1984     & 2005-2006     & 1514          & 692           & 1063          & 1755          & 202           &  924          & 202           & 50            & 94            & 12            &  8            & 4602         \\\\\n",
       "\\end{tabular}\n"
      ],
      "text/markdown": [
       "\n",
       "Rank | Player | Team | Pos | X1st.NHL.Season | Last.NHL.Season | GP | G | A | P | X... | PIM | PP | SH | GW | GT | OT | Shots | \n",
       "|---|---|---|---|---|---|\n",
       "| 1             | Wayne Gretzky | NA            | C             | 1979-1980     | 1998-1999     | 1487          | 894           | 1963          | 2857          | 518           |  577          | 204           | 73            | 91            | 12            |  1            | 5089          | \n",
       "| 2             | Mark Messier  | NA            | C             | 1979-1980     | 2003-2004     | 1756          | 694           | 1193          | 1887          | 210           | 1910          | 179           | 63            | 92            | 15            |  7            | 4219          | \n",
       "| 3             | Gordie Howe   | NA            | R             | 1946-1947     | 1979-1980     | 1767          | 801           | 1049          | 1850          |  87           | 1685          |  39           |  5            | 18            | NA            | NA            |   NA          | \n",
       "| 4             | Ron Francis   | NA            | C             | 1981-1982     | 2003-2004     | 1731          | 549           | 1249          | 1798          | -10           |  979          | 188           | 12            | 79            | 13            |  3            | 3754          | \n",
       "| 5             | Marcel Dionne | NA            | C             | 1971-1972     | 1988-1989     | 1348          | 731           | 1040          | 1771          |  28           |  600          | 234           | 19            | 74            |  1            |  2            | 5366          | \n",
       "| 6             | Steve Yzerman | NA            | C             | 1983-1984     | 2005-2006     | 1514          | 692           | 1063          | 1755          | 202           |  924          | 202           | 50            | 94            | 12            |  8            | 4602          | \n",
       "\n",
       "\n"
      ],
      "text/plain": [
       "  Rank Player        Team Pos X1st.NHL.Season Last.NHL.Season GP   G   A   \n",
       "1 1    Wayne Gretzky NA   C   1979-1980       1998-1999       1487 894 1963\n",
       "2 2    Mark Messier  NA   C   1979-1980       2003-2004       1756 694 1193\n",
       "3 3    Gordie Howe   NA   R   1946-1947       1979-1980       1767 801 1049\n",
       "4 4    Ron Francis   NA   C   1981-1982       2003-2004       1731 549 1249\n",
       "5 5    Marcel Dionne NA   C   1971-1972       1988-1989       1348 731 1040\n",
       "6 6    Steve Yzerman NA   C   1983-1984       2005-2006       1514 692 1063\n",
       "  P    X... PIM  PP  SH GW GT OT Shots\n",
       "1 2857 518   577 204 73 91 12  1 5089 \n",
       "2 1887 210  1910 179 63 92 15  7 4219 \n",
       "3 1850  87  1685  39  5 18 NA NA   NA \n",
       "4 1798 -10   979 188 12 79 13  3 3754 \n",
       "5 1771  28   600 234 19 74  1  2 5366 \n",
       "6 1755 202   924 202 50 94 12  8 4602 "
      ]
     },
     "metadata": {},
     "output_type": "display_data"
    }
   ],
   "source": [
    "head(data)"
   ]
  },
  {
   "cell_type": "markdown",
   "metadata": {},
   "source": [
    "### extract goal and assist data"
   ]
  },
  {
   "cell_type": "code",
   "execution_count": 18,
   "metadata": {
    "collapsed": false
   },
   "outputs": [
    {
     "data": {
      "text/html": [
       "<table>\n",
       "<thead><tr><th scope=col>G</th><th scope=col>A</th></tr></thead>\n",
       "<tbody>\n",
       "\t<tr><td>894 </td><td>1963</td></tr>\n",
       "\t<tr><td>694 </td><td>1193</td></tr>\n",
       "\t<tr><td>801 </td><td>1049</td></tr>\n",
       "\t<tr><td>549 </td><td>1249</td></tr>\n",
       "\t<tr><td>731 </td><td>1040</td></tr>\n",
       "\t<tr><td>692 </td><td>1063</td></tr>\n",
       "</tbody>\n",
       "</table>\n"
      ],
      "text/latex": [
       "\\begin{tabular}{r|ll}\n",
       " G & A\\\\\n",
       "\\hline\n",
       "\t 894  & 1963\\\\\n",
       "\t 694  & 1193\\\\\n",
       "\t 801  & 1049\\\\\n",
       "\t 549  & 1249\\\\\n",
       "\t 731  & 1040\\\\\n",
       "\t 692  & 1063\\\\\n",
       "\\end{tabular}\n"
      ],
      "text/markdown": [
       "\n",
       "G | A | \n",
       "|---|---|---|---|---|---|\n",
       "| 894  | 1963 | \n",
       "| 694  | 1193 | \n",
       "| 801  | 1049 | \n",
       "| 549  | 1249 | \n",
       "| 731  | 1040 | \n",
       "| 692  | 1063 | \n",
       "\n",
       "\n"
      ],
      "text/plain": [
       "  G   A   \n",
       "1 894 1963\n",
       "2 694 1193\n",
       "3 801 1049\n",
       "4 549 1249\n",
       "5 731 1040\n",
       "6 692 1063"
      ]
     },
     "metadata": {},
     "output_type": "display_data"
    }
   ],
   "source": [
    "goalAssist<-data[,c(\"G\",\"A\")]\n",
    "head(goalAssist)"
   ]
  },
  {
   "cell_type": "code",
   "execution_count": 6,
   "metadata": {
    "collapsed": false
   },
   "outputs": [
    {
     "data": {
      "text/plain": [
       "\n",
       "Call:\n",
       "lm(formula = goalAssist)\n",
       "\n",
       "Residuals:\n",
       "    Min      1Q  Median      3Q     Max \n",
       "-294.82  -83.50   10.12   88.54  284.69 \n",
       "\n",
       "Coefficients:\n",
       "             Estimate Std. Error t value Pr(>|t|)    \n",
       "(Intercept) 321.08001   46.62860   6.886 5.52e-10 ***\n",
       "A             0.20805    0.06033   3.449 0.000832 ***\n",
       "---\n",
       "Signif. codes:  0 '***' 0.001 '**' 0.01 '*' 0.05 '.' 0.1 ' ' 1\n",
       "\n",
       "Residual standard error: 130.9 on 98 degrees of freedom\n",
       "Multiple R-squared:  0.1082,\tAdjusted R-squared:  0.09913 \n",
       "F-statistic: 11.89 on 1 and 98 DF,  p-value: 0.0008317\n"
      ]
     },
     "metadata": {},
     "output_type": "display_data"
    }
   ],
   "source": [
    "lm<-lm(goalAssist)\n",
    "summary(lm)"
   ]
  },
  {
   "cell_type": "code",
   "execution_count": 7,
   "metadata": {
    "collapsed": false,
    "scrolled": false
   },
   "outputs": [
    {
     "data": {
      "image/png": "[encoded data removed]",
      "text/plain": [
       "plot without title"
      ]
     },
     "metadata": {},
     "output_type": "display_data"
    }
   ],
   "source": [
    "\n",
    "\n",
    "plot(goalAssist)\n",
    "abline(lm(A~G, data=goalAssist),col=\"blue\")"
   ]
  },
  {
   "cell_type": "code",
   "execution_count": 24,
   "metadata": {
    "collapsed": false,
    "scrolled": true
   },
   "outputs": [
    {
     "data": {
      "text/plain": [
       "\n",
       "Call:\n",
       "lm(formula = I(A - coef(temp)[1]) ~ I(G), data = goalAssist)\n",
       "\n",
       "Residuals:\n",
       "    Min      1Q  Median      3Q     Max \n",
       "-356.51 -158.59  -10.29  125.08 1003.42 \n",
       "\n",
       "Coefficients:\n",
       "             Estimate Std. Error t value Pr(>|t|)    \n",
       "(Intercept) 1497.9356    74.6410  20.069  < 2e-16 ***\n",
       "I(G)           0.5202     0.1508   3.449 0.000832 ***\n",
       "---\n",
       "Signif. codes:  0 '***' 0.001 '**' 0.01 '*' 0.05 '.' 0.1 ' ' 1\n",
       "\n",
       "Residual standard error: 207 on 98 degrees of freedom\n",
       "Multiple R-squared:  0.1082,\tAdjusted R-squared:  0.09913 \n",
       "F-statistic: 11.89 on 1 and 98 DF,  p-value: 0.0008317\n"
      ]
     },
     "metadata": {},
     "output_type": "display_data"
    }
   ],
   "source": [
    "temp<-(lm(I(A-1963)~I(G-894), data=goalAssist))\n",
    "wg<-(lm(I(A-coef(temp)[1])~I(G),data=goalAssist))\n",
    "summary(wg)"
   ]
  },
  {
   "cell_type": "markdown",
   "metadata": {},
   "source": [
    "### Passing line through Gretsky and Kane\n",
    "#### for this we make a new lm model with intercepts at the coordinates of the players. using the slope of this model as the new intercept we get the LM models for both players that has the same slope and passes through the respective coordinates."
   ]
  },
  {
   "cell_type": "code",
   "execution_count": 29,
   "metadata": {
    "collapsed": false
   },
   "outputs": [
    {
     "data": {
      "image/png": "[encoded data removed]",
      "text/plain": [
       "plot without title"
      ]
     },
     "metadata": {},
     "output_type": "display_data"
    }
   ],
   "source": [
    "plot(goalAssist)\n",
    "points(x=894,y=1963,pch=19, col=\"Red\", cex=1.5)\n",
    "abline(coef(wg)[1],coef(wg)[2],col=\"red\")"
   ]
  },
  {
   "cell_type": "markdown",
   "metadata": {},
   "source": [
    "### add data for Patrick Kane and repeat the above mentioned process"
   ]
  },
  {
   "cell_type": "code",
   "execution_count": 26,
   "metadata": {
    "collapsed": true
   },
   "outputs": [],
   "source": [
    "goalAssist[nrow(goalAssist) + 1, ] <- c( 285,462)"
   ]
  },
  {
   "cell_type": "code",
   "execution_count": 27,
   "metadata": {
    "collapsed": false
   },
   "outputs": [
    {
     "data": {
      "text/plain": [
       "\n",
       "Call:\n",
       "lm(formula = I(A - coef(temp1)[1]) ~ I(G), data = goalAssist)\n",
       "\n",
       "Residuals:\n",
       "    Min      1Q  Median      3Q     Max \n",
       "-355.97 -175.12   -8.92  126.23  997.75 \n",
       "\n",
       "Coefficients:\n",
       "            Estimate Std. Error t value Pr(>|t|)    \n",
       "(Intercept) 308.6821    73.5982   4.194 5.97e-05 ***\n",
       "I(G)          0.5380     0.1492   3.605 0.000491 ***\n",
       "---\n",
       "Signif. codes:  0 '***' 0.001 '**' 0.01 '*' 0.05 '.' 0.1 ' ' 1\n",
       "\n",
       "Residual standard error: 206.8 on 99 degrees of freedom\n",
       "Multiple R-squared:  0.116,\tAdjusted R-squared:  0.1071 \n",
       "F-statistic:    13 on 1 and 99 DF,  p-value: 0.0004909\n"
      ]
     },
     "metadata": {},
     "output_type": "display_data"
    }
   ],
   "source": [
    "temp1<-(lm(I(A-462)~I(G-285), data=goalAssist))\n",
    "pk<-(lm(I(A-coef(temp1)[1])~I(G),data=goalAssist))\n",
    "summary(pk)"
   ]
  },
  {
   "cell_type": "code",
   "execution_count": 28,
   "metadata": {
    "collapsed": false,
    "scrolled": true
   },
   "outputs": [
    {
     "data": {
      "image/png": "[encoded data removed]",
      "text/plain": [
       "plot without title"
      ]
     },
     "metadata": {},
     "output_type": "display_data"
    }
   ],
   "source": [
    "plot(goalAssist)\n",
    "points(x=285,y=462,pch=19, col=\"seagreen4\", cex=1.5)\n",
    "abline(coef(pk)[1],coef(pk)[2],col=\"seagreen4\")"
   ]
  },
  {
   "cell_type": "markdown",
   "metadata": {},
   "source": [
    "### Force the LM model to pass through origin for all three models and plot abline using slope as 0"
   ]
  },
  {
   "cell_type": "code",
   "execution_count": 36,
   "metadata": {
    "collapsed": false,
    "scrolled": true
   },
   "outputs": [
    {
     "data": {
      "image/png": "[encoded data removed]",
      "text/plain": [
       "plot without title"
      ]
     },
     "metadata": {},
     "output_type": "display_data"
    }
   ],
   "source": [
    "plot(goalAssist,ylim=c(0,2000), xlim=c(0,1000))\n",
    "lm0<-lm(I(A)~I(G)+0, data=goalAssist)\n",
    "abline(lm0,col=\"dark blue\")"
   ]
  },
  {
   "cell_type": "code",
   "execution_count": 37,
   "metadata": {
    "collapsed": false,
    "scrolled": true
   },
   "outputs": [
    {
     "data": {
      "text/plain": [
       "\n",
       "Call:\n",
       "lm(formula = I(A - 1963) ~ I(G - 894) + 0, data = goalAssist)\n",
       "\n",
       "Residuals:\n",
       "   Min     1Q Median     3Q    Max \n",
       "-902.9 -329.7 -141.1  121.9  700.5 \n",
       "\n",
       "Coefficients:\n",
       "           Estimate Std. Error t value Pr(>|t|)    \n",
       "I(G - 894)  2.68054    0.08412   31.86   <2e-16 ***\n",
       "---\n",
       "Signif. codes:  0 '***' 0.001 '**' 0.01 '*' 0.05 '.' 0.1 ' ' 1\n",
       "\n",
       "Residual standard error: 374.1 on 100 degrees of freedom\n",
       "Multiple R-squared:  0.9103,\tAdjusted R-squared:  0.9094 \n",
       "F-statistic:  1015 on 1 and 100 DF,  p-value: < 2.2e-16\n"
      ]
     },
     "metadata": {},
     "output_type": "display_data"
    },
    {
     "data": {
      "image/png": "[encoded data removed]",
      "text/plain": [
       "plot without title"
      ]
     },
     "metadata": {},
     "output_type": "display_data"
    }
   ],
   "source": [
    "origin_wayne<-lm(I(A-1963)~I(G-894)+0, data=goalAssist)\n",
    "summary(origin_wayne)\n",
    "plot(goalAssist,ylim=c(0,2000), xlim=c(0,1000))\n",
    "abline(0,1963/894,col=\"red\")"
   ]
  },
  {
   "cell_type": "code",
   "execution_count": 42,
   "metadata": {
    "collapsed": false,
    "scrolled": true
   },
   "outputs": [
    {
     "data": {
      "image/png": "[encoded data removed]",
      "text/plain": [
       "plot without title"
      ]
     },
     "metadata": {},
     "output_type": "display_data"
    }
   ],
   "source": [
    "origin_patrik<-lm(I(A-462)~I(G-285)+0, data=goalAssist)\n",
    "plot(goalAssist,ylim=c(0,2000), xlim=c(0,1000))\n",
    "abline(0,462/285,col=\"sea green\")"
   ]
  },
  {
   "cell_type": "code",
   "execution_count": 44,
   "metadata": {
    "collapsed": false
   },
   "outputs": [
    {
     "data": {
      "text/plain": [
       "\n",
       "Call:\n",
       "lm(formula = I(A) ~ I(G) + 0, data = goalAssist)\n",
       "\n",
       "Residuals:\n",
       "   Min     1Q Median     3Q    Max \n",
       "-447.3 -137.1    3.6  157.9  639.2 \n",
       "\n",
       "Coefficients:\n",
       "     Estimate Std. Error t value Pr(>|t|)    \n",
       "I(G)  1.48080    0.04976   29.76   <2e-16 ***\n",
       "---\n",
       "Signif. codes:  0 '***' 0.001 '**' 0.01 '*' 0.05 '.' 0.1 ' ' 1\n",
       "\n",
       "Residual standard error: 246.7 on 100 degrees of freedom\n",
       "Multiple R-squared:  0.8985,\tAdjusted R-squared:  0.8975 \n",
       "F-statistic: 885.4 on 1 and 100 DF,  p-value: < 2.2e-16\n"
      ]
     },
     "metadata": {},
     "output_type": "display_data"
    },
    {
     "data": {
      "text/plain": [
       "\n",
       "Call:\n",
       "lm(formula = I(A - 1963) ~ I(G - 894) + 0, data = goalAssist)\n",
       "\n",
       "Residuals:\n",
       "   Min     1Q Median     3Q    Max \n",
       "-902.9 -329.7 -141.1  121.9  700.5 \n",
       "\n",
       "Coefficients:\n",
       "           Estimate Std. Error t value Pr(>|t|)    \n",
       "I(G - 894)  2.68054    0.08412   31.86   <2e-16 ***\n",
       "---\n",
       "Signif. codes:  0 '***' 0.001 '**' 0.01 '*' 0.05 '.' 0.1 ' ' 1\n",
       "\n",
       "Residual standard error: 374.1 on 100 degrees of freedom\n",
       "Multiple R-squared:  0.9103,\tAdjusted R-squared:  0.9094 \n",
       "F-statistic:  1015 on 1 and 100 DF,  p-value: < 2.2e-16\n"
      ]
     },
     "metadata": {},
     "output_type": "display_data"
    },
    {
     "data": {
      "text/plain": [
       "\n",
       "Call:\n",
       "lm(formula = I(A - 462) ~ I(G - 285) + 0, data = goalAssist)\n",
       "\n",
       "Residuals:\n",
       "    Min      1Q  Median      3Q     Max \n",
       "-337.54 -112.83   40.72  167.42  803.74 \n",
       "\n",
       "Coefficients:\n",
       "           Estimate Std. Error t value Pr(>|t|)    \n",
       "I(G - 285)  1.14493    0.09825   11.65   <2e-16 ***\n",
       "---\n",
       "Signif. codes:  0 '***' 0.001 '**' 0.01 '*' 0.05 '.' 0.1 ' ' 1\n",
       "\n",
       "Residual standard error: 230.6 on 100 degrees of freedom\n",
       "Multiple R-squared:  0.5759,\tAdjusted R-squared:  0.5717 \n",
       "F-statistic: 135.8 on 1 and 100 DF,  p-value: < 2.2e-16\n"
      ]
     },
     "metadata": {},
     "output_type": "display_data"
    }
   ],
   "source": [
    "summary(lm0)\n",
    "summary(origin_wayne)\n",
    "summary(origin_patrik)\n"
   ]
  },
  {
   "cell_type": "code",
   "execution_count": 52,
   "metadata": {
    "collapsed": false
   },
   "outputs": [
    {
     "data": {
      "text/html": [
       "<table>\n",
       "<thead><tr><th scope=col>models</th><th scope=col>r_squared_value</th><th scope=col>p_value</th></tr></thead>\n",
       "<tbody>\n",
       "\t<tr><td>Initial fit                   </td><td>0.1082                        </td><td>0.0008317                     </td></tr>\n",
       "\t<tr><td>Wayne gretzky                 </td><td>0.1082                        </td><td>0.0008317                     </td></tr>\n",
       "\t<tr><td>Patrick kane                  </td><td>0.116                         </td><td>0.0004909                     </td></tr>\n",
       "\t<tr><td>Passing through origin        </td><td>0.8985                        </td><td>2.2e-16                       </td></tr>\n",
       "\t<tr><td>Passing through origin gretzky</td><td>0.9103                        </td><td>2.2e-16                       </td></tr>\n",
       "\t<tr><td>Passing through origin Kane   </td><td>0.5759                        </td><td>2.2e-16                       </td></tr>\n",
       "</tbody>\n",
       "</table>\n"
      ],
      "text/latex": [
       "\\begin{tabular}{r|lll}\n",
       " models & r\\_squared\\_value & p\\_value\\\\\n",
       "\\hline\n",
       "\t Initial fit                    & 0.1082                         & 0.0008317                     \\\\\n",
       "\t Wayne gretzky                  & 0.1082                         & 0.0008317                     \\\\\n",
       "\t Patrick kane                   & 0.116                          & 0.0004909                     \\\\\n",
       "\t Passing through origin         & 0.8985                         & 2.2e-16                       \\\\\n",
       "\t Passing through origin gretzky & 0.9103                         & 2.2e-16                       \\\\\n",
       "\t Passing through origin Kane    & 0.5759                         & 2.2e-16                       \\\\\n",
       "\\end{tabular}\n"
      ],
      "text/markdown": [
       "\n",
       "models | r_squared_value | p_value | \n",
       "|---|---|---|---|---|---|\n",
       "| Initial fit                    | 0.1082                         | 0.0008317                      | \n",
       "| Wayne gretzky                  | 0.1082                         | 0.0008317                      | \n",
       "| Patrick kane                   | 0.116                          | 0.0004909                      | \n",
       "| Passing through origin         | 0.8985                         | 2.2e-16                        | \n",
       "| Passing through origin gretzky | 0.9103                         | 2.2e-16                        | \n",
       "| Passing through origin Kane    | 0.5759                         | 2.2e-16                        | \n",
       "\n",
       "\n"
      ],
      "text/plain": [
       "  models                         r_squared_value p_value  \n",
       "1 Initial fit                    0.1082          0.0008317\n",
       "2 Wayne gretzky                  0.1082          0.0008317\n",
       "3 Patrick kane                   0.116           0.0004909\n",
       "4 Passing through origin         0.8985          2.2e-16  \n",
       "5 Passing through origin gretzky 0.9103          2.2e-16  \n",
       "6 Passing through origin Kane    0.5759          2.2e-16  "
      ]
     },
     "metadata": {},
     "output_type": "display_data"
    }
   ],
   "source": [
    "models = c(\"Initial fit\", \"Wayne gretzky\",\"Patrick kane\", \"Passing through origin\",\"Passing through origin gretzky\",\"Passing through origin Kane\")\n",
    "r_squared_value = c(\"0.1082\",\"0.1082\", \"0.116\", \"0.8985\",\"0.9103\",\"0.5759\")\n",
    "p_value = c(\"0.0008317\", \"0.0008317\", \"0.0004909\", \"2.2e-16\",\"2.2e-16\",\"2.2e-16\")\n",
    "\n",
    "analysis = data.frame(models, r_squared_value, p_value)\n",
    "analysis\n"
   ]
  },
  {
   "cell_type": "markdown",
   "metadata": {},
   "source": [
    "## Interpretation:\n",
    "### The R-squared statistic provides a measure of how well the model is fitting the actual data.\n",
    "###  From above we can see, R-squared value for the intial fit is less. But when we force the regression line through origin it increases\n",
    "### A small p-value indicates that it is unlikely we will observe a relationship between the predictor and response (Goals and Assist) variables due to chance.\n",
    "### As we can see the p-value decreases as we force the models through origin suggesting better fit."
   ]
  },
  {
   "cell_type": "markdown",
   "metadata": {
    "collapsed": true
   },
   "source": [
    "## Reference\n",
    "### http://www.statmethods.net/stats/regression.html\n"
   ]
  },
  {
   "cell_type": "code",
   "execution_count": null,
   "metadata": {
    "collapsed": true
   },
   "outputs": [],
   "source": []
  }
 ],
 "metadata": {
  "kernelspec": {
   "display_name": "R",
   "language": "R",
   "name": "ir"
  },
  "language_info": {
   "codemirror_mode": "r",
   "file_extension": ".r",
   "mimetype": "text/x-r-source",
   "name": "R",
   "pygments_lexer": "r",
   "version": "3.3.2"
  }
 },
 "nbformat": 4,
 "nbformat_minor": 2
}
