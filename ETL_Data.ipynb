{
 "cells": [
  {
   "cell_type": "code",
   "execution_count": 14,
   "metadata": {
    "collapsed": false
   },
   "outputs": [
    {
     "name": "stderr",
     "output_type": "stream",
     "text": [
      "Installing package into 'C:/Users/tsankhe/Documents/R/win-library/3.3'\n",
      "(as 'lib' is unspecified)\n",
      "Warning message:\n",
      "\"package 'dplyr' is in use and will not be installed\"Installing package into 'C:/Users/tsankhe/Documents/R/win-library/3.3'\n",
      "(as 'lib' is unspecified)\n",
      "Warning message:\n",
      "\"package 'RSQLite' is in use and will not be installed\"Installing package into 'C:/Users/tsankhe/Documents/R/win-library/3.3'\n",
      "(as 'lib' is unspecified)\n"
     ]
    },
    {
     "name": "stdout",
     "output_type": "stream",
     "text": [
      "package 'DBI' successfully unpacked and MD5 sums checked\n",
      "\n",
      "The downloaded binary packages are in\n",
      "\tC:\\Users\\tsankhe\\AppData\\Local\\Temp\\Rtmp4YxTQk\\downloaded_packages\n"
     ]
    }
   ],
   "source": [
    "install.packages(\"dplyr\", repos=\"http://cran.rstudio.com/\") \n",
    "install.packages(\"RSQLite\", repos=\"http://cran.rstudio.com/\") \n",
    "install.packages(\"DBI\", repos=\"http://cran.rstudio.com/\") \n",
    "install.packages(\"sqldf\", repos=\"http://cran.rstudio.com/\") \n"
   ]
  },
  {
   "cell_type": "code",
   "execution_count": 4,
   "metadata": {
    "collapsed": false
   },
   "outputs": [
    {
     "name": "stderr",
     "output_type": "stream",
     "text": [
      "Warning message:\n",
      "\"package 'dplyr' was built under R version 3.3.3\"\n",
      "Attaching package: 'dplyr'\n",
      "\n",
      "The following objects are masked from 'package:stats':\n",
      "\n",
      "    filter, lag\n",
      "\n",
      "The following objects are masked from 'package:base':\n",
      "\n",
      "    intersect, setdiff, setequal, union\n",
      "\n",
      "Warning message:\n",
      "\"package 'DBI' was built under R version 3.3.3\""
     ]
    }
   ],
   "source": [
    "library(dplyr)\n",
    "library(DBI)\n",
    "library(RSQLite)\n",
    "library(sqldf)"
   ]
  },
  {
   "cell_type": "code",
   "execution_count": 5,
   "metadata": {
    "collapsed": false
   },
   "outputs": [],
   "source": [
    "dbfile<-\"database.sqlite\""
   ]
  },
  {
   "cell_type": "code",
   "execution_count": 6,
   "metadata": {
    "collapsed": false
   },
   "outputs": [],
   "source": [
    "dbcon <- dbConnect(dbDriver(\"SQLite\"),dbname = dbfile)"
   ]
  },
  {
   "cell_type": "code",
   "execution_count": 22,
   "metadata": {
    "collapsed": false
   },
   "outputs": [
    {
     "name": "stdout",
     "output_type": "stream",
     "text": [
      "[1] \"Country\"           \"League\"            \"Match\"            \n",
      "[4] \"Player\"            \"Player_Attributes\" \"Team\"             \n",
      "[7] \"Team_Attributes\"   \"sqlite_sequence\"  \n"
     ]
    }
   ],
   "source": [
    "tablesAll = dbListTables(dbcon)\n",
    "print(tablesAll)"
   ]
  },
  {
   "cell_type": "code",
   "execution_count": 28,
   "metadata": {
    "collapsed": false
   },
   "outputs": [],
   "source": [
    "player.df = dbGetQuery(dbcon,'select * from Player' )\n",
    "team.df = dbGetQuery(dbcon,'select * from Team' )\n",
    "playerAttri.df = dbGetQuery(dbcon,'select * from Player_Attributes' )"
   ]
  },
  {
   "cell_type": "code",
   "execution_count": 29,
   "metadata": {
    "collapsed": false,
    "scrolled": true
   },
   "outputs": [
    {
     "data": {
      "text/html": [
       "<table>\n",
       "<thead><tr><th scope=col>id</th><th scope=col>player_api_id</th><th scope=col>player_name</th><th scope=col>player_fifa_api_id</th><th scope=col>birthday</th><th scope=col>height</th><th scope=col>weight</th></tr></thead>\n",
       "<tbody>\n",
       "\t<tr><td>1                  </td><td>505942             </td><td>Aaron Appindangoye </td><td>218353             </td><td>1992-02-29 00:00:00</td><td>182.88             </td><td>187                </td></tr>\n",
       "\t<tr><td>2                  </td><td>155782             </td><td>Aaron Cresswell    </td><td>189615             </td><td>1989-12-15 00:00:00</td><td>170.18             </td><td>146                </td></tr>\n",
       "\t<tr><td>3                  </td><td>162549             </td><td>Aaron Doran        </td><td>186170             </td><td>1991-05-13 00:00:00</td><td>170.18             </td><td>163                </td></tr>\n",
       "\t<tr><td>4                  </td><td> 30572             </td><td>Aaron Galindo      </td><td>140161             </td><td>1982-05-08 00:00:00</td><td>182.88             </td><td>198                </td></tr>\n",
       "\t<tr><td>5                  </td><td> 23780             </td><td>Aaron Hughes       </td><td> 17725             </td><td>1979-11-08 00:00:00</td><td>182.88             </td><td>154                </td></tr>\n",
       "\t<tr><td>6                  </td><td> 27316             </td><td>Aaron Hunt         </td><td>158138             </td><td>1986-09-04 00:00:00</td><td>182.88             </td><td>161                </td></tr>\n",
       "</tbody>\n",
       "</table>\n"
      ],
      "text/latex": [
       "\\begin{tabular}{r|lllllll}\n",
       " id & player\\_api\\_id & player\\_name & player\\_fifa\\_api\\_id & birthday & height & weight\\\\\n",
       "\\hline\n",
       "\t 1                   & 505942              & Aaron Appindangoye  & 218353              & 1992-02-29 00:00:00 & 182.88              & 187                \\\\\n",
       "\t 2                   & 155782              & Aaron Cresswell     & 189615              & 1989-12-15 00:00:00 & 170.18              & 146                \\\\\n",
       "\t 3                   & 162549              & Aaron Doran         & 186170              & 1991-05-13 00:00:00 & 170.18              & 163                \\\\\n",
       "\t 4                   &  30572              & Aaron Galindo       & 140161              & 1982-05-08 00:00:00 & 182.88              & 198                \\\\\n",
       "\t 5                   &  23780              & Aaron Hughes        &  17725              & 1979-11-08 00:00:00 & 182.88              & 154                \\\\\n",
       "\t 6                   &  27316              & Aaron Hunt          & 158138              & 1986-09-04 00:00:00 & 182.88              & 161                \\\\\n",
       "\\end{tabular}\n"
      ],
      "text/markdown": [
       "\n",
       "id | player_api_id | player_name | player_fifa_api_id | birthday | height | weight | \n",
       "|---|---|---|---|---|---|\n",
       "| 1                   | 505942              | Aaron Appindangoye  | 218353              | 1992-02-29 00:00:00 | 182.88              | 187                 | \n",
       "| 2                   | 155782              | Aaron Cresswell     | 189615              | 1989-12-15 00:00:00 | 170.18              | 146                 | \n",
       "| 3                   | 162549              | Aaron Doran         | 186170              | 1991-05-13 00:00:00 | 170.18              | 163                 | \n",
       "| 4                   |  30572              | Aaron Galindo       | 140161              | 1982-05-08 00:00:00 | 182.88              | 198                 | \n",
       "| 5                   |  23780              | Aaron Hughes        |  17725              | 1979-11-08 00:00:00 | 182.88              | 154                 | \n",
       "| 6                   |  27316              | Aaron Hunt          | 158138              | 1986-09-04 00:00:00 | 182.88              | 161                 | \n",
       "\n",
       "\n"
      ],
      "text/plain": [
       "  id player_api_id player_name        player_fifa_api_id birthday           \n",
       "1 1  505942        Aaron Appindangoye 218353             1992-02-29 00:00:00\n",
       "2 2  155782        Aaron Cresswell    189615             1989-12-15 00:00:00\n",
       "3 3  162549        Aaron Doran        186170             1991-05-13 00:00:00\n",
       "4 4   30572        Aaron Galindo      140161             1982-05-08 00:00:00\n",
       "5 5   23780        Aaron Hughes        17725             1979-11-08 00:00:00\n",
       "6 6   27316        Aaron Hunt         158138             1986-09-04 00:00:00\n",
       "  height weight\n",
       "1 182.88 187   \n",
       "2 170.18 146   \n",
       "3 170.18 163   \n",
       "4 182.88 198   \n",
       "5 182.88 154   \n",
       "6 182.88 161   "
      ]
     },
     "metadata": {},
     "output_type": "display_data"
    },
    {
     "data": {
      "text/html": [
       "<table>\n",
       "<thead><tr><th scope=col>id</th><th scope=col>player_fifa_api_id</th><th scope=col>player_api_id</th><th scope=col>date</th><th scope=col>overall_rating</th><th scope=col>potential</th><th scope=col>preferred_foot</th><th scope=col>attacking_work_rate</th><th scope=col>defensive_work_rate</th><th scope=col>crossing</th><th scope=col>...</th><th scope=col>vision</th><th scope=col>penalties</th><th scope=col>marking</th><th scope=col>standing_tackle</th><th scope=col>sliding_tackle</th><th scope=col>gk_diving</th><th scope=col>gk_handling</th><th scope=col>gk_kicking</th><th scope=col>gk_positioning</th><th scope=col>gk_reflexes</th></tr></thead>\n",
       "<tbody>\n",
       "\t<tr><td>1                  </td><td>218353             </td><td>505942             </td><td>2016-02-18 00:00:00</td><td>67                 </td><td>71                 </td><td>right              </td><td>medium             </td><td>medium             </td><td>49                 </td><td>...                </td><td>54                 </td><td>48                 </td><td>65                 </td><td>69                 </td><td>69                 </td><td> 6                 </td><td>11                 </td><td>10                 </td><td>8                  </td><td> 8                 </td></tr>\n",
       "\t<tr><td>2                  </td><td>218353             </td><td>505942             </td><td>2015-11-19 00:00:00</td><td>67                 </td><td>71                 </td><td>right              </td><td>medium             </td><td>medium             </td><td>49                 </td><td>...                </td><td>54                 </td><td>48                 </td><td>65                 </td><td>69                 </td><td>69                 </td><td> 6                 </td><td>11                 </td><td>10                 </td><td>8                  </td><td> 8                 </td></tr>\n",
       "\t<tr><td>3                  </td><td>218353             </td><td>505942             </td><td>2015-09-21 00:00:00</td><td>62                 </td><td>66                 </td><td>right              </td><td>medium             </td><td>medium             </td><td>49                 </td><td>...                </td><td>54                 </td><td>48                 </td><td>65                 </td><td>66                 </td><td>69                 </td><td> 6                 </td><td>11                 </td><td>10                 </td><td>8                  </td><td> 8                 </td></tr>\n",
       "\t<tr><td>4                  </td><td>218353             </td><td>505942             </td><td>2015-03-20 00:00:00</td><td>61                 </td><td>65                 </td><td>right              </td><td>medium             </td><td>medium             </td><td>48                 </td><td>...                </td><td>53                 </td><td>47                 </td><td>62                 </td><td>63                 </td><td>66                 </td><td> 5                 </td><td>10                 </td><td> 9                 </td><td>7                  </td><td> 7                 </td></tr>\n",
       "\t<tr><td>5                  </td><td>218353             </td><td>505942             </td><td>2007-02-22 00:00:00</td><td>61                 </td><td>65                 </td><td>right              </td><td>medium             </td><td>medium             </td><td>48                 </td><td>...                </td><td>53                 </td><td>47                 </td><td>62                 </td><td>63                 </td><td>66                 </td><td> 5                 </td><td>10                 </td><td> 9                 </td><td>7                  </td><td> 7                 </td></tr>\n",
       "\t<tr><td>6                  </td><td>189615             </td><td>155782             </td><td>2016-04-21 00:00:00</td><td>74                 </td><td>76                 </td><td>left               </td><td>high               </td><td>medium             </td><td>80                 </td><td>...                </td><td>66                 </td><td>59                 </td><td>76                 </td><td>75                 </td><td>78                 </td><td>14                 </td><td> 7                 </td><td> 9                 </td><td>9                  </td><td>12                 </td></tr>\n",
       "</tbody>\n",
       "</table>\n"
      ],
      "text/latex": [
       "\\begin{tabular}{r|llllllllllllllllllllllllllllllllllllllllll}\n",
       " id & player\\_fifa\\_api\\_id & player\\_api\\_id & date & overall\\_rating & potential & preferred\\_foot & attacking\\_work\\_rate & defensive\\_work\\_rate & crossing & ... & vision & penalties & marking & standing\\_tackle & sliding\\_tackle & gk\\_diving & gk\\_handling & gk\\_kicking & gk\\_positioning & gk\\_reflexes\\\\\n",
       "\\hline\n",
       "\t 1                   & 218353              & 505942              & 2016-02-18 00:00:00 & 67                  & 71                  & right               & medium              & medium              & 49                  & ...                 & 54                  & 48                  & 65                  & 69                  & 69                  &  6                  & 11                  & 10                  & 8                   &  8                 \\\\\n",
       "\t 2                   & 218353              & 505942              & 2015-11-19 00:00:00 & 67                  & 71                  & right               & medium              & medium              & 49                  & ...                 & 54                  & 48                  & 65                  & 69                  & 69                  &  6                  & 11                  & 10                  & 8                   &  8                 \\\\\n",
       "\t 3                   & 218353              & 505942              & 2015-09-21 00:00:00 & 62                  & 66                  & right               & medium              & medium              & 49                  & ...                 & 54                  & 48                  & 65                  & 66                  & 69                  &  6                  & 11                  & 10                  & 8                   &  8                 \\\\\n",
       "\t 4                   & 218353              & 505942              & 2015-03-20 00:00:00 & 61                  & 65                  & right               & medium              & medium              & 48                  & ...                 & 53                  & 47                  & 62                  & 63                  & 66                  &  5                  & 10                  &  9                  & 7                   &  7                 \\\\\n",
       "\t 5                   & 218353              & 505942              & 2007-02-22 00:00:00 & 61                  & 65                  & right               & medium              & medium              & 48                  & ...                 & 53                  & 47                  & 62                  & 63                  & 66                  &  5                  & 10                  &  9                  & 7                   &  7                 \\\\\n",
       "\t 6                   & 189615              & 155782              & 2016-04-21 00:00:00 & 74                  & 76                  & left                & high                & medium              & 80                  & ...                 & 66                  & 59                  & 76                  & 75                  & 78                  & 14                  &  7                  &  9                  & 9                   & 12                 \\\\\n",
       "\\end{tabular}\n"
      ],
      "text/markdown": [
       "\n",
       "id | player_fifa_api_id | player_api_id | date | overall_rating | potential | preferred_foot | attacking_work_rate | defensive_work_rate | crossing | ... | vision | penalties | marking | standing_tackle | sliding_tackle | gk_diving | gk_handling | gk_kicking | gk_positioning | gk_reflexes | \n",
       "|---|---|---|---|---|---|\n",
       "| 1                   | 218353              | 505942              | 2016-02-18 00:00:00 | 67                  | 71                  | right               | medium              | medium              | 49                  | ...                 | 54                  | 48                  | 65                  | 69                  | 69                  |  6                  | 11                  | 10                  | 8                   |  8                  | \n",
       "| 2                   | 218353              | 505942              | 2015-11-19 00:00:00 | 67                  | 71                  | right               | medium              | medium              | 49                  | ...                 | 54                  | 48                  | 65                  | 69                  | 69                  |  6                  | 11                  | 10                  | 8                   |  8                  | \n",
       "| 3                   | 218353              | 505942              | 2015-09-21 00:00:00 | 62                  | 66                  | right               | medium              | medium              | 49                  | ...                 | 54                  | 48                  | 65                  | 66                  | 69                  |  6                  | 11                  | 10                  | 8                   |  8                  | \n",
       "| 4                   | 218353              | 505942              | 2015-03-20 00:00:00 | 61                  | 65                  | right               | medium              | medium              | 48                  | ...                 | 53                  | 47                  | 62                  | 63                  | 66                  |  5                  | 10                  |  9                  | 7                   |  7                  | \n",
       "| 5                   | 218353              | 505942              | 2007-02-22 00:00:00 | 61                  | 65                  | right               | medium              | medium              | 48                  | ...                 | 53                  | 47                  | 62                  | 63                  | 66                  |  5                  | 10                  |  9                  | 7                   |  7                  | \n",
       "| 6                   | 189615              | 155782              | 2016-04-21 00:00:00 | 74                  | 76                  | left                | high                | medium              | 80                  | ...                 | 66                  | 59                  | 76                  | 75                  | 78                  | 14                  |  7                  |  9                  | 9                   | 12                  | \n",
       "\n",
       "\n"
      ],
      "text/plain": [
       "  id player_fifa_api_id player_api_id date                overall_rating\n",
       "1 1  218353             505942        2016-02-18 00:00:00 67            \n",
       "2 2  218353             505942        2015-11-19 00:00:00 67            \n",
       "3 3  218353             505942        2015-09-21 00:00:00 62            \n",
       "4 4  218353             505942        2015-03-20 00:00:00 61            \n",
       "5 5  218353             505942        2007-02-22 00:00:00 61            \n",
       "6 6  189615             155782        2016-04-21 00:00:00 74            \n",
       "  potential preferred_foot attacking_work_rate defensive_work_rate crossing ...\n",
       "1 71        right          medium              medium              49       ...\n",
       "2 71        right          medium              medium              49       ...\n",
       "3 66        right          medium              medium              49       ...\n",
       "4 65        right          medium              medium              48       ...\n",
       "5 65        right          medium              medium              48       ...\n",
       "6 76        left           high                medium              80       ...\n",
       "  vision penalties marking standing_tackle sliding_tackle gk_diving gk_handling\n",
       "1 54     48        65      69              69              6        11         \n",
       "2 54     48        65      69              69              6        11         \n",
       "3 54     48        65      66              69              6        11         \n",
       "4 53     47        62      63              66              5        10         \n",
       "5 53     47        62      63              66              5        10         \n",
       "6 66     59        76      75              78             14         7         \n",
       "  gk_kicking gk_positioning gk_reflexes\n",
       "1 10         8               8         \n",
       "2 10         8               8         \n",
       "3 10         8               8         \n",
       "4  9         7               7         \n",
       "5  9         7               7         \n",
       "6  9         9              12         "
      ]
     },
     "metadata": {},
     "output_type": "display_data"
    }
   ],
   "source": [
    "head(player.df)\n",
    "head(playerAttri.df)\n"
   ]
  },
  {
   "cell_type": "markdown",
   "metadata": {},
   "source": [
    "### data munging to compute overall statistics using sql addition of columns and aliasing"
   ]
  },
  {
   "cell_type": "code",
   "execution_count": 30,
   "metadata": {
    "collapsed": false
   },
   "outputs": [],
   "source": [
    "playerStats<-dbGetQuery(dbcon, \"SELECT player_api_id, player_name, date, overall_rating,(gk_diving+gk_handling+gk_kicking+gk_positioning+gk_reflexes) AS gk_overall FROM Player_Attributes INNER JOIN Player USING(player_api_id)\")"
   ]
  },
  {
   "cell_type": "code",
   "execution_count": 31,
   "metadata": {
    "collapsed": false
   },
   "outputs": [
    {
     "data": {
      "text/html": [
       "183978"
      ],
      "text/latex": [
       "183978"
      ],
      "text/markdown": [
       "183978"
      ],
      "text/plain": [
       "[1] 183978"
      ]
     },
     "metadata": {},
     "output_type": "display_data"
    }
   ],
   "source": [
    "nrow(playerStats)"
   ]
  },
  {
   "cell_type": "code",
   "execution_count": 32,
   "metadata": {
    "collapsed": true
   },
   "outputs": [],
   "source": [
    "teamStats<-dbGetQuery(dbcon, \"SELECT team_api_id, team_long_name, date,  (buildUpPlaySpeed+ buildUpPlayDribbling+ buildUpPlayPassing) AS build_up_play, (chanceCreationPassing+chanceCreationCrossing+chanceCreationShooting) AS chance_creation, ( defencePressure+defenceAggression+defenceTeamWidth ) AS defence FROM Team_Attributes INNER JOIN Team USING(team_api_id)\")"
   ]
  },
  {
   "cell_type": "code",
   "execution_count": 33,
   "metadata": {
    "collapsed": false
   },
   "outputs": [
    {
     "data": {
      "text/html": [
       "<table>\n",
       "<thead><tr><th scope=col>team_api_id</th><th scope=col>team_long_name</th><th scope=col>date</th><th scope=col>build_up_play</th><th scope=col>chance_creation</th><th scope=col>defence</th></tr></thead>\n",
       "<tbody>\n",
       "\t<tr><td>9930               </td><td>FC Aarau           </td><td>2010-02-22 00:00:00</td><td> NA                </td><td>180                </td><td>150                </td></tr>\n",
       "\t<tr><td>9930               </td><td>FC Aarau           </td><td>2014-09-19 00:00:00</td><td>156                </td><td>181                </td><td>145                </td></tr>\n",
       "\t<tr><td>9930               </td><td>FC Aarau           </td><td>2015-09-10 00:00:00</td><td>142                </td><td>181                </td><td>145                </td></tr>\n",
       "\t<tr><td>8485               </td><td>Aberdeen           </td><td>2010-02-22 00:00:00</td><td> NA                </td><td>210                </td><td>200                </td></tr>\n",
       "\t<tr><td>8485               </td><td>Aberdeen           </td><td>2011-02-22 00:00:00</td><td> NA                </td><td>153                </td><td>146                </td></tr>\n",
       "\t<tr><td>8485               </td><td>Aberdeen           </td><td>2012-02-22 00:00:00</td><td> NA                </td><td>170                </td><td>140                </td></tr>\n",
       "</tbody>\n",
       "</table>\n"
      ],
      "text/latex": [
       "\\begin{tabular}{r|llllll}\n",
       " team\\_api\\_id & team\\_long\\_name & date & build\\_up\\_play & chance\\_creation & defence\\\\\n",
       "\\hline\n",
       "\t 9930                & FC Aarau            & 2010-02-22 00:00:00 &  NA                 & 180                 & 150                \\\\\n",
       "\t 9930                & FC Aarau            & 2014-09-19 00:00:00 & 156                 & 181                 & 145                \\\\\n",
       "\t 9930                & FC Aarau            & 2015-09-10 00:00:00 & 142                 & 181                 & 145                \\\\\n",
       "\t 8485                & Aberdeen            & 2010-02-22 00:00:00 &  NA                 & 210                 & 200                \\\\\n",
       "\t 8485                & Aberdeen            & 2011-02-22 00:00:00 &  NA                 & 153                 & 146                \\\\\n",
       "\t 8485                & Aberdeen            & 2012-02-22 00:00:00 &  NA                 & 170                 & 140                \\\\\n",
       "\\end{tabular}\n"
      ],
      "text/markdown": [
       "\n",
       "team_api_id | team_long_name | date | build_up_play | chance_creation | defence | \n",
       "|---|---|---|---|---|---|\n",
       "| 9930                | FC Aarau            | 2010-02-22 00:00:00 |  NA                 | 180                 | 150                 | \n",
       "| 9930                | FC Aarau            | 2014-09-19 00:00:00 | 156                 | 181                 | 145                 | \n",
       "| 9930                | FC Aarau            | 2015-09-10 00:00:00 | 142                 | 181                 | 145                 | \n",
       "| 8485                | Aberdeen            | 2010-02-22 00:00:00 |  NA                 | 210                 | 200                 | \n",
       "| 8485                | Aberdeen            | 2011-02-22 00:00:00 |  NA                 | 153                 | 146                 | \n",
       "| 8485                | Aberdeen            | 2012-02-22 00:00:00 |  NA                 | 170                 | 140                 | \n",
       "\n",
       "\n"
      ],
      "text/plain": [
       "  team_api_id team_long_name date                build_up_play chance_creation\n",
       "1 9930        FC Aarau       2010-02-22 00:00:00  NA           180            \n",
       "2 9930        FC Aarau       2014-09-19 00:00:00 156           181            \n",
       "3 9930        FC Aarau       2015-09-10 00:00:00 142           181            \n",
       "4 8485        Aberdeen       2010-02-22 00:00:00  NA           210            \n",
       "5 8485        Aberdeen       2011-02-22 00:00:00  NA           153            \n",
       "6 8485        Aberdeen       2012-02-22 00:00:00  NA           170            \n",
       "  defence\n",
       "1 150    \n",
       "2 145    \n",
       "3 145    \n",
       "4 200    \n",
       "5 146    \n",
       "6 140    "
      ]
     },
     "metadata": {},
     "output_type": "display_data"
    }
   ],
   "source": [
    "head(teamStats)"
   ]
  },
  {
   "cell_type": "code",
   "execution_count": 34,
   "metadata": {
    "collapsed": true
   },
   "outputs": [],
   "source": [
    "teamStats[is.na(teamStats)]<-0"
   ]
  },
  {
   "cell_type": "code",
   "execution_count": 35,
   "metadata": {
    "collapsed": false
   },
   "outputs": [
    {
     "data": {
      "text/html": [
       "<table>\n",
       "<thead><tr><th scope=col>team_api_id</th><th scope=col>team_long_name</th><th scope=col>date</th><th scope=col>build_up_play</th><th scope=col>chance_creation</th><th scope=col>defence</th></tr></thead>\n",
       "<tbody>\n",
       "\t<tr><td>9930               </td><td>FC Aarau           </td><td>2010-02-22 00:00:00</td><td>  0                </td><td>180                </td><td>150                </td></tr>\n",
       "\t<tr><td>9930               </td><td>FC Aarau           </td><td>2014-09-19 00:00:00</td><td>156                </td><td>181                </td><td>145                </td></tr>\n",
       "\t<tr><td>9930               </td><td>FC Aarau           </td><td>2015-09-10 00:00:00</td><td>142                </td><td>181                </td><td>145                </td></tr>\n",
       "\t<tr><td>8485               </td><td>Aberdeen           </td><td>2010-02-22 00:00:00</td><td>  0                </td><td>210                </td><td>200                </td></tr>\n",
       "\t<tr><td>8485               </td><td>Aberdeen           </td><td>2011-02-22 00:00:00</td><td>  0                </td><td>153                </td><td>146                </td></tr>\n",
       "\t<tr><td>8485               </td><td>Aberdeen           </td><td>2012-02-22 00:00:00</td><td>  0                </td><td>170                </td><td>140                </td></tr>\n",
       "</tbody>\n",
       "</table>\n"
      ],
      "text/latex": [
       "\\begin{tabular}{r|llllll}\n",
       " team\\_api\\_id & team\\_long\\_name & date & build\\_up\\_play & chance\\_creation & defence\\\\\n",
       "\\hline\n",
       "\t 9930                & FC Aarau            & 2010-02-22 00:00:00 &   0                 & 180                 & 150                \\\\\n",
       "\t 9930                & FC Aarau            & 2014-09-19 00:00:00 & 156                 & 181                 & 145                \\\\\n",
       "\t 9930                & FC Aarau            & 2015-09-10 00:00:00 & 142                 & 181                 & 145                \\\\\n",
       "\t 8485                & Aberdeen            & 2010-02-22 00:00:00 &   0                 & 210                 & 200                \\\\\n",
       "\t 8485                & Aberdeen            & 2011-02-22 00:00:00 &   0                 & 153                 & 146                \\\\\n",
       "\t 8485                & Aberdeen            & 2012-02-22 00:00:00 &   0                 & 170                 & 140                \\\\\n",
       "\\end{tabular}\n"
      ],
      "text/markdown": [
       "\n",
       "team_api_id | team_long_name | date | build_up_play | chance_creation | defence | \n",
       "|---|---|---|---|---|---|\n",
       "| 9930                | FC Aarau            | 2010-02-22 00:00:00 |   0                 | 180                 | 150                 | \n",
       "| 9930                | FC Aarau            | 2014-09-19 00:00:00 | 156                 | 181                 | 145                 | \n",
       "| 9930                | FC Aarau            | 2015-09-10 00:00:00 | 142                 | 181                 | 145                 | \n",
       "| 8485                | Aberdeen            | 2010-02-22 00:00:00 |   0                 | 210                 | 200                 | \n",
       "| 8485                | Aberdeen            | 2011-02-22 00:00:00 |   0                 | 153                 | 146                 | \n",
       "| 8485                | Aberdeen            | 2012-02-22 00:00:00 |   0                 | 170                 | 140                 | \n",
       "\n",
       "\n"
      ],
      "text/plain": [
       "  team_api_id team_long_name date                build_up_play chance_creation\n",
       "1 9930        FC Aarau       2010-02-22 00:00:00   0           180            \n",
       "2 9930        FC Aarau       2014-09-19 00:00:00 156           181            \n",
       "3 9930        FC Aarau       2015-09-10 00:00:00 142           181            \n",
       "4 8485        Aberdeen       2010-02-22 00:00:00   0           210            \n",
       "5 8485        Aberdeen       2011-02-22 00:00:00   0           153            \n",
       "6 8485        Aberdeen       2012-02-22 00:00:00   0           170            \n",
       "  defence\n",
       "1 150    \n",
       "2 145    \n",
       "3 145    \n",
       "4 200    \n",
       "5 146    \n",
       "6 140    "
      ]
     },
     "metadata": {},
     "output_type": "display_data"
    }
   ],
   "source": [
    "head(teamStats)"
   ]
  },
  {
   "cell_type": "code",
   "execution_count": 36,
   "metadata": {
    "collapsed": false
   },
   "outputs": [],
   "source": [
    "match.df<-dbGetQuery(dbcon, \"SELECT * FROM Match\")"
   ]
  },
  {
   "cell_type": "markdown",
   "metadata": {},
   "source": [
    "### obtain relevant rows from Match table, remove 'NA' values. \n",
    "### Compute count for each player in matches he has played using unlist and grep, counting across all colums and rows for the number of times a player appears."
   ]
  },
  {
   "cell_type": "code",
   "execution_count": 37,
   "metadata": {
    "collapsed": false
   },
   "outputs": [
    {
     "data": {
      "text/html": [
       "<table>\n",
       "<thead><tr><th scope=col>home_player_1</th><th scope=col>home_player_2</th><th scope=col>home_player_3</th><th scope=col>home_player_4</th><th scope=col>home_player_5</th><th scope=col>home_player_6</th><th scope=col>home_player_7</th><th scope=col>home_player_8</th><th scope=col>home_player_9</th><th scope=col>home_player_10</th><th scope=col>...</th><th scope=col>away_player_2</th><th scope=col>away_player_3</th><th scope=col>away_player_4</th><th scope=col>away_player_5</th><th scope=col>away_player_6</th><th scope=col>away_player_7</th><th scope=col>away_player_8</th><th scope=col>away_player_9</th><th scope=col>away_player_10</th><th scope=col>away_player_11</th></tr></thead>\n",
       "<tbody>\n",
       "\t<tr><td>NA </td><td>NA </td><td>NA </td><td>NA </td><td>NA </td><td>NA </td><td>NA </td><td>NA </td><td>NA </td><td>NA </td><td>...</td><td>NA </td><td>NA </td><td>NA </td><td>NA </td><td>NA </td><td>NA </td><td>NA </td><td>NA </td><td>NA </td><td>NA </td></tr>\n",
       "\t<tr><td>NA </td><td>NA </td><td>NA </td><td>NA </td><td>NA </td><td>NA </td><td>NA </td><td>NA </td><td>NA </td><td>NA </td><td>...</td><td>NA </td><td>NA </td><td>NA </td><td>NA </td><td>NA </td><td>NA </td><td>NA </td><td>NA </td><td>NA </td><td>NA </td></tr>\n",
       "\t<tr><td>NA </td><td>NA </td><td>NA </td><td>NA </td><td>NA </td><td>NA </td><td>NA </td><td>NA </td><td>NA </td><td>NA </td><td>...</td><td>NA </td><td>NA </td><td>NA </td><td>NA </td><td>NA </td><td>NA </td><td>NA </td><td>NA </td><td>NA </td><td>NA </td></tr>\n",
       "\t<tr><td>NA </td><td>NA </td><td>NA </td><td>NA </td><td>NA </td><td>NA </td><td>NA </td><td>NA </td><td>NA </td><td>NA </td><td>...</td><td>NA </td><td>NA </td><td>NA </td><td>NA </td><td>NA </td><td>NA </td><td>NA </td><td>NA </td><td>NA </td><td>NA </td></tr>\n",
       "\t<tr><td>NA </td><td>NA </td><td>NA </td><td>NA </td><td>NA </td><td>NA </td><td>NA </td><td>NA </td><td>NA </td><td>NA </td><td>...</td><td>NA </td><td>NA </td><td>NA </td><td>NA </td><td>NA </td><td>NA </td><td>NA </td><td>NA </td><td>NA </td><td>NA </td></tr>\n",
       "\t<tr><td>NA </td><td>NA </td><td>NA </td><td>NA </td><td>NA </td><td>NA </td><td>NA </td><td>NA </td><td>NA </td><td>NA </td><td>...</td><td>NA </td><td>NA </td><td>NA </td><td>NA </td><td>NA </td><td>NA </td><td>NA </td><td>NA </td><td>NA </td><td>NA </td></tr>\n",
       "</tbody>\n",
       "</table>\n"
      ],
      "text/latex": [
       "\\begin{tabular}{r|llllllllllllllllllllll}\n",
       " home\\_player\\_1 & home\\_player\\_2 & home\\_player\\_3 & home\\_player\\_4 & home\\_player\\_5 & home\\_player\\_6 & home\\_player\\_7 & home\\_player\\_8 & home\\_player\\_9 & home\\_player\\_10 & ... & away\\_player\\_2 & away\\_player\\_3 & away\\_player\\_4 & away\\_player\\_5 & away\\_player\\_6 & away\\_player\\_7 & away\\_player\\_8 & away\\_player\\_9 & away\\_player\\_10 & away\\_player\\_11\\\\\n",
       "\\hline\n",
       "\t NA  & NA  & NA  & NA  & NA  & NA  & NA  & NA  & NA  & NA  & ... & NA  & NA  & NA  & NA  & NA  & NA  & NA  & NA  & NA  & NA \\\\\n",
       "\t NA  & NA  & NA  & NA  & NA  & NA  & NA  & NA  & NA  & NA  & ... & NA  & NA  & NA  & NA  & NA  & NA  & NA  & NA  & NA  & NA \\\\\n",
       "\t NA  & NA  & NA  & NA  & NA  & NA  & NA  & NA  & NA  & NA  & ... & NA  & NA  & NA  & NA  & NA  & NA  & NA  & NA  & NA  & NA \\\\\n",
       "\t NA  & NA  & NA  & NA  & NA  & NA  & NA  & NA  & NA  & NA  & ... & NA  & NA  & NA  & NA  & NA  & NA  & NA  & NA  & NA  & NA \\\\\n",
       "\t NA  & NA  & NA  & NA  & NA  & NA  & NA  & NA  & NA  & NA  & ... & NA  & NA  & NA  & NA  & NA  & NA  & NA  & NA  & NA  & NA \\\\\n",
       "\t NA  & NA  & NA  & NA  & NA  & NA  & NA  & NA  & NA  & NA  & ... & NA  & NA  & NA  & NA  & NA  & NA  & NA  & NA  & NA  & NA \\\\\n",
       "\\end{tabular}\n"
      ],
      "text/markdown": [
       "\n",
       "home_player_1 | home_player_2 | home_player_3 | home_player_4 | home_player_5 | home_player_6 | home_player_7 | home_player_8 | home_player_9 | home_player_10 | ... | away_player_2 | away_player_3 | away_player_4 | away_player_5 | away_player_6 | away_player_7 | away_player_8 | away_player_9 | away_player_10 | away_player_11 | \n",
       "|---|---|---|---|---|---|\n",
       "| NA  | NA  | NA  | NA  | NA  | NA  | NA  | NA  | NA  | NA  | ... | NA  | NA  | NA  | NA  | NA  | NA  | NA  | NA  | NA  | NA  | \n",
       "| NA  | NA  | NA  | NA  | NA  | NA  | NA  | NA  | NA  | NA  | ... | NA  | NA  | NA  | NA  | NA  | NA  | NA  | NA  | NA  | NA  | \n",
       "| NA  | NA  | NA  | NA  | NA  | NA  | NA  | NA  | NA  | NA  | ... | NA  | NA  | NA  | NA  | NA  | NA  | NA  | NA  | NA  | NA  | \n",
       "| NA  | NA  | NA  | NA  | NA  | NA  | NA  | NA  | NA  | NA  | ... | NA  | NA  | NA  | NA  | NA  | NA  | NA  | NA  | NA  | NA  | \n",
       "| NA  | NA  | NA  | NA  | NA  | NA  | NA  | NA  | NA  | NA  | ... | NA  | NA  | NA  | NA  | NA  | NA  | NA  | NA  | NA  | NA  | \n",
       "| NA  | NA  | NA  | NA  | NA  | NA  | NA  | NA  | NA  | NA  | ... | NA  | NA  | NA  | NA  | NA  | NA  | NA  | NA  | NA  | NA  | \n",
       "\n",
       "\n"
      ],
      "text/plain": [
       "  home_player_1 home_player_2 home_player_3 home_player_4 home_player_5\n",
       "1 NA            NA            NA            NA            NA           \n",
       "2 NA            NA            NA            NA            NA           \n",
       "3 NA            NA            NA            NA            NA           \n",
       "4 NA            NA            NA            NA            NA           \n",
       "5 NA            NA            NA            NA            NA           \n",
       "6 NA            NA            NA            NA            NA           \n",
       "  home_player_6 home_player_7 home_player_8 home_player_9 home_player_10 ...\n",
       "1 NA            NA            NA            NA            NA             ...\n",
       "2 NA            NA            NA            NA            NA             ...\n",
       "3 NA            NA            NA            NA            NA             ...\n",
       "4 NA            NA            NA            NA            NA             ...\n",
       "5 NA            NA            NA            NA            NA             ...\n",
       "6 NA            NA            NA            NA            NA             ...\n",
       "  away_player_2 away_player_3 away_player_4 away_player_5 away_player_6\n",
       "1 NA            NA            NA            NA            NA           \n",
       "2 NA            NA            NA            NA            NA           \n",
       "3 NA            NA            NA            NA            NA           \n",
       "4 NA            NA            NA            NA            NA           \n",
       "5 NA            NA            NA            NA            NA           \n",
       "6 NA            NA            NA            NA            NA           \n",
       "  away_player_7 away_player_8 away_player_9 away_player_10 away_player_11\n",
       "1 NA            NA            NA            NA             NA            \n",
       "2 NA            NA            NA            NA             NA            \n",
       "3 NA            NA            NA            NA             NA            \n",
       "4 NA            NA            NA            NA             NA            \n",
       "5 NA            NA            NA            NA             NA            \n",
       "6 NA            NA            NA            NA             NA            "
      ]
     },
     "metadata": {},
     "output_type": "display_data"
    }
   ],
   "source": [
    "match.df<-match.df[, 56:77]\n",
    "head(match.df)"
   ]
  },
  {
   "cell_type": "code",
   "execution_count": 38,
   "metadata": {
    "collapsed": true
   },
   "outputs": [],
   "source": [
    "match.df<-na.omit(match.df)"
   ]
  },
  {
   "cell_type": "code",
   "execution_count": 39,
   "metadata": {
    "collapsed": false
   },
   "outputs": [
    {
     "data": {
      "text/html": [
       "<table>\n",
       "<thead><tr><th></th><th scope=col>home_player_1</th><th scope=col>home_player_2</th><th scope=col>home_player_3</th><th scope=col>home_player_4</th><th scope=col>home_player_5</th><th scope=col>home_player_6</th><th scope=col>home_player_7</th><th scope=col>home_player_8</th><th scope=col>home_player_9</th><th scope=col>home_player_10</th><th scope=col>...</th><th scope=col>away_player_2</th><th scope=col>away_player_3</th><th scope=col>away_player_4</th><th scope=col>away_player_5</th><th scope=col>away_player_6</th><th scope=col>away_player_7</th><th scope=col>away_player_8</th><th scope=col>away_player_9</th><th scope=col>away_player_10</th><th scope=col>away_player_11</th></tr></thead>\n",
       "<tbody>\n",
       "\t<tr><th scope=row>146</th><td> 38327</td><td>67950 </td><td>67958 </td><td>67959 </td><td> 37112</td><td>36393 </td><td>148286</td><td> 67898</td><td>164352</td><td>38801 </td><td>...   </td><td>38293 </td><td>148313</td><td>104411</td><td>148314</td><td>37202 </td><td> 43158</td><td>  9307</td><td> 42153</td><td>32690 </td><td> 38782</td></tr>\n",
       "\t<tr><th scope=row>154</th><td> 36835</td><td>37047 </td><td>37021 </td><td>37051 </td><td>104386</td><td>32863 </td><td> 37957</td><td> 37909</td><td> 38357</td><td>37065 </td><td>...   </td><td>21812 </td><td> 11736</td><td> 37858</td><td> 38366</td><td>37983 </td><td> 39578</td><td> 38336</td><td> 52280</td><td>27423 </td><td> 38440</td></tr>\n",
       "\t<tr><th scope=row>156</th><td> 34480</td><td>38388 </td><td>26458 </td><td>13423 </td><td> 38389</td><td>30949 </td><td> 38393</td><td> 38253</td><td> 38383</td><td>38778 </td><td>...   </td><td>37886 </td><td> 37903</td><td> 37889</td><td> 94030</td><td>37893 </td><td> 37981</td><td>131531</td><td>130027</td><td>38231 </td><td>131530</td></tr>\n",
       "\t<tr><th scope=row>163</th><td> 38327</td><td>67950 </td><td>67958 </td><td>38801 </td><td> 67898</td><td>37112 </td><td> 67959</td><td>148286</td><td>164352</td><td>33657 </td><td>...   </td><td>38388 </td><td> 38389</td><td> 31316</td><td>164694</td><td>30949 </td><td> 38378</td><td> 38383</td><td> 38393</td><td>38253 </td><td> 37069</td></tr>\n",
       "\t<tr><th scope=row>169</th><td> 37900</td><td>37886 </td><td>37100 </td><td>37903 </td><td> 37889</td><td>37893 </td><td> 37981</td><td>131531</td><td>131530</td><td>38231 </td><td>...   </td><td>38247 </td><td> 16387</td><td> 94288</td><td> 94284</td><td>45832 </td><td> 26669</td><td> 33671</td><td>163670</td><td>37945 </td><td> 33622</td></tr>\n",
       "\t<tr><th scope=row>174</th><td>104378</td><td>38248 </td><td>36841 </td><td>38255 </td><td>104382</td><td>33662 </td><td> 37044</td><td> 32760</td><td> 38229</td><td>39875 </td><td>...   </td><td>37887 </td><td> 37886</td><td> 37903</td><td> 94030</td><td>37981 </td><td>131531</td><td>131530</td><td>130027</td><td>38231 </td><td> 75500</td></tr>\n",
       "</tbody>\n",
       "</table>\n"
      ],
      "text/latex": [
       "\\begin{tabular}{r|llllllllllllllllllllll}\n",
       "  & home\\_player\\_1 & home\\_player\\_2 & home\\_player\\_3 & home\\_player\\_4 & home\\_player\\_5 & home\\_player\\_6 & home\\_player\\_7 & home\\_player\\_8 & home\\_player\\_9 & home\\_player\\_10 & ... & away\\_player\\_2 & away\\_player\\_3 & away\\_player\\_4 & away\\_player\\_5 & away\\_player\\_6 & away\\_player\\_7 & away\\_player\\_8 & away\\_player\\_9 & away\\_player\\_10 & away\\_player\\_11\\\\\n",
       "\\hline\n",
       "\t146 &  38327 & 67950  & 67958  & 67959  &  37112 & 36393  & 148286 &  67898 & 164352 & 38801  & ...    & 38293  & 148313 & 104411 & 148314 & 37202  &  43158 &   9307 &  42153 & 32690  &  38782\\\\\n",
       "\t154 &  36835 & 37047  & 37021  & 37051  & 104386 & 32863  &  37957 &  37909 &  38357 & 37065  & ...    & 21812  &  11736 &  37858 &  38366 & 37983  &  39578 &  38336 &  52280 & 27423  &  38440\\\\\n",
       "\t156 &  34480 & 38388  & 26458  & 13423  &  38389 & 30949  &  38393 &  38253 &  38383 & 38778  & ...    & 37886  &  37903 &  37889 &  94030 & 37893  &  37981 & 131531 & 130027 & 38231  & 131530\\\\\n",
       "\t163 &  38327 & 67950  & 67958  & 38801  &  67898 & 37112  &  67959 & 148286 & 164352 & 33657  & ...    & 38388  &  38389 &  31316 & 164694 & 30949  &  38378 &  38383 &  38393 & 38253  &  37069\\\\\n",
       "\t169 &  37900 & 37886  & 37100  & 37903  &  37889 & 37893  &  37981 & 131531 & 131530 & 38231  & ...    & 38247  &  16387 &  94288 &  94284 & 45832  &  26669 &  33671 & 163670 & 37945  &  33622\\\\\n",
       "\t174 & 104378 & 38248  & 36841  & 38255  & 104382 & 33662  &  37044 &  32760 &  38229 & 39875  & ...    & 37887  &  37886 &  37903 &  94030 & 37981  & 131531 & 131530 & 130027 & 38231  &  75500\\\\\n",
       "\\end{tabular}\n"
      ],
      "text/markdown": [
       "\n",
       "| <!--/--> | home_player_1 | home_player_2 | home_player_3 | home_player_4 | home_player_5 | home_player_6 | home_player_7 | home_player_8 | home_player_9 | home_player_10 | ... | away_player_2 | away_player_3 | away_player_4 | away_player_5 | away_player_6 | away_player_7 | away_player_8 | away_player_9 | away_player_10 | away_player_11 | \n",
       "|---|---|---|---|---|---|\n",
       "| 146 |  38327 | 67950  | 67958  | 67959  |  37112 | 36393  | 148286 |  67898 | 164352 | 38801  | ...    | 38293  | 148313 | 104411 | 148314 | 37202  |  43158 |   9307 |  42153 | 32690  |  38782 | \n",
       "| 154 |  36835 | 37047  | 37021  | 37051  | 104386 | 32863  |  37957 |  37909 |  38357 | 37065  | ...    | 21812  |  11736 |  37858 |  38366 | 37983  |  39578 |  38336 |  52280 | 27423  |  38440 | \n",
       "| 156 |  34480 | 38388  | 26458  | 13423  |  38389 | 30949  |  38393 |  38253 |  38383 | 38778  | ...    | 37886  |  37903 |  37889 |  94030 | 37893  |  37981 | 131531 | 130027 | 38231  | 131530 | \n",
       "| 163 |  38327 | 67950  | 67958  | 38801  |  67898 | 37112  |  67959 | 148286 | 164352 | 33657  | ...    | 38388  |  38389 |  31316 | 164694 | 30949  |  38378 |  38383 |  38393 | 38253  |  37069 | \n",
       "| 169 |  37900 | 37886  | 37100  | 37903  |  37889 | 37893  |  37981 | 131531 | 131530 | 38231  | ...    | 38247  |  16387 |  94288 |  94284 | 45832  |  26669 |  33671 | 163670 | 37945  |  33622 | \n",
       "| 174 | 104378 | 38248  | 36841  | 38255  | 104382 | 33662  |  37044 |  32760 |  38229 | 39875  | ...    | 37887  |  37886 |  37903 |  94030 | 37981  | 131531 | 131530 | 130027 | 38231  |  75500 | \n",
       "\n",
       "\n"
      ],
      "text/plain": [
       "    home_player_1 home_player_2 home_player_3 home_player_4 home_player_5\n",
       "146  38327        67950         67958         67959          37112       \n",
       "154  36835        37047         37021         37051         104386       \n",
       "156  34480        38388         26458         13423          38389       \n",
       "163  38327        67950         67958         38801          67898       \n",
       "169  37900        37886         37100         37903          37889       \n",
       "174 104378        38248         36841         38255         104382       \n",
       "    home_player_6 home_player_7 home_player_8 home_player_9 home_player_10 ...\n",
       "146 36393         148286         67898        164352        38801          ...\n",
       "154 32863          37957         37909         38357        37065          ...\n",
       "156 30949          38393         38253         38383        38778          ...\n",
       "163 37112          67959        148286        164352        33657          ...\n",
       "169 37893          37981        131531        131530        38231          ...\n",
       "174 33662          37044         32760         38229        39875          ...\n",
       "    away_player_2 away_player_3 away_player_4 away_player_5 away_player_6\n",
       "146 38293         148313        104411        148314        37202        \n",
       "154 21812          11736         37858         38366        37983        \n",
       "156 37886          37903         37889         94030        37893        \n",
       "163 38388          38389         31316        164694        30949        \n",
       "169 38247          16387         94288         94284        45832        \n",
       "174 37887          37886         37903         94030        37981        \n",
       "    away_player_7 away_player_8 away_player_9 away_player_10 away_player_11\n",
       "146  43158          9307         42153        32690           38782        \n",
       "154  39578         38336         52280        27423           38440        \n",
       "156  37981        131531        130027        38231          131530        \n",
       "163  38378         38383         38393        38253           37069        \n",
       "169  26669         33671        163670        37945           33622        \n",
       "174 131531        131530        130027        38231           75500        "
      ]
     },
     "metadata": {},
     "output_type": "display_data"
    }
   ],
   "source": [
    "head(match.df)"
   ]
  },
  {
   "cell_type": "code",
   "execution_count": 40,
   "metadata": {
    "collapsed": false
   },
   "outputs": [
    {
     "data": {
      "text/html": [
       "10787"
      ],
      "text/latex": [
       "10787"
      ],
      "text/markdown": [
       "10787"
      ],
      "text/plain": [
       "[1] 10787"
      ]
     },
     "metadata": {},
     "output_type": "display_data"
    },
    {
     "data": {
      "text/html": [
       "<table>\n",
       "<thead><tr><th scope=col>Var1</th><th scope=col>Freq</th></tr></thead>\n",
       "<tbody>\n",
       "\t<tr><td>2625</td><td> 4  </td></tr>\n",
       "\t<tr><td>2752</td><td>79  </td></tr>\n",
       "\t<tr><td>2768</td><td>69  </td></tr>\n",
       "\t<tr><td>2770</td><td>14  </td></tr>\n",
       "\t<tr><td>2790</td><td>40  </td></tr>\n",
       "\t<tr><td>2796</td><td> 1  </td></tr>\n",
       "</tbody>\n",
       "</table>\n"
      ],
      "text/latex": [
       "\\begin{tabular}{r|ll}\n",
       " Var1 & Freq\\\\\n",
       "\\hline\n",
       "\t 2625 &  4  \\\\\n",
       "\t 2752 & 79  \\\\\n",
       "\t 2768 & 69  \\\\\n",
       "\t 2770 & 14  \\\\\n",
       "\t 2790 & 40  \\\\\n",
       "\t 2796 &  1  \\\\\n",
       "\\end{tabular}\n"
      ],
      "text/markdown": [
       "\n",
       "Var1 | Freq | \n",
       "|---|---|---|---|---|---|\n",
       "| 2625 |  4   | \n",
       "| 2752 | 79   | \n",
       "| 2768 | 69   | \n",
       "| 2770 | 14   | \n",
       "| 2790 | 40   | \n",
       "| 2796 |  1   | \n",
       "\n",
       "\n"
      ],
      "text/plain": [
       "  Var1 Freq\n",
       "1 2625  4  \n",
       "2 2752 79  \n",
       "3 2768 69  \n",
       "4 2770 14  \n",
       "5 2790 40  \n",
       "6 2796  1  "
      ]
     },
     "metadata": {},
     "output_type": "display_data"
    }
   ],
   "source": [
    "matchStats<-as.data.frame(table(unlist(match.df[grep(\"\",names(match.df))])))\n",
    "nrow(matchStats)\n",
    "head(matchStats)"
   ]
  },
  {
   "cell_type": "markdown",
   "metadata": {},
   "source": [
    "### merge computed appearances with player table."
   ]
  },
  {
   "cell_type": "code",
   "execution_count": 41,
   "metadata": {
    "collapsed": false
   },
   "outputs": [],
   "source": [
    "playerStats<-merge(x=playerStats, y=matchStats, by.x=\"player_api_id\", by.y=\"Var1\")"
   ]
  },
  {
   "cell_type": "code",
   "execution_count": 42,
   "metadata": {
    "collapsed": false
   },
   "outputs": [
    {
     "data": {
      "text/html": [
       "<table>\n",
       "<thead><tr><th scope=col>player_api_id</th><th scope=col>player_name</th><th scope=col>date</th><th scope=col>overall_rating</th><th scope=col>gk_overall</th><th scope=col>Freq</th></tr></thead>\n",
       "<tbody>\n",
       "\t<tr><td>2625               </td><td>Patryk Rachwal,18  </td><td>2012-02-22 00:00:00</td><td>58                 </td><td>45                 </td><td>4                  </td></tr>\n",
       "\t<tr><td>2625               </td><td>Patryk Rachwal,18  </td><td>2013-03-08 00:00:00</td><td>61                 </td><td>45                 </td><td>4                  </td></tr>\n",
       "\t<tr><td>2625               </td><td>Patryk Rachwal,18  </td><td>2011-02-22 00:00:00</td><td>59                 </td><td>45                 </td><td>4                  </td></tr>\n",
       "\t<tr><td>2625               </td><td>Patryk Rachwal,18  </td><td>2014-09-18 00:00:00</td><td>61                 </td><td>45                 </td><td>4                  </td></tr>\n",
       "\t<tr><td>2625               </td><td>Patryk Rachwal,18  </td><td>2012-08-31 00:00:00</td><td>58                 </td><td>45                 </td><td>4                  </td></tr>\n",
       "\t<tr><td>2625               </td><td>Patryk Rachwal,18  </td><td>2014-11-07 00:00:00</td><td>61                 </td><td>45                 </td><td>4                  </td></tr>\n",
       "</tbody>\n",
       "</table>\n"
      ],
      "text/latex": [
       "\\begin{tabular}{r|llllll}\n",
       " player\\_api\\_id & player\\_name & date & overall\\_rating & gk\\_overall & Freq\\\\\n",
       "\\hline\n",
       "\t 2625                & Patryk Rachwal,18   & 2012-02-22 00:00:00 & 58                  & 45                  & 4                  \\\\\n",
       "\t 2625                & Patryk Rachwal,18   & 2013-03-08 00:00:00 & 61                  & 45                  & 4                  \\\\\n",
       "\t 2625                & Patryk Rachwal,18   & 2011-02-22 00:00:00 & 59                  & 45                  & 4                  \\\\\n",
       "\t 2625                & Patryk Rachwal,18   & 2014-09-18 00:00:00 & 61                  & 45                  & 4                  \\\\\n",
       "\t 2625                & Patryk Rachwal,18   & 2012-08-31 00:00:00 & 58                  & 45                  & 4                  \\\\\n",
       "\t 2625                & Patryk Rachwal,18   & 2014-11-07 00:00:00 & 61                  & 45                  & 4                  \\\\\n",
       "\\end{tabular}\n"
      ],
      "text/markdown": [
       "\n",
       "player_api_id | player_name | date | overall_rating | gk_overall | Freq | \n",
       "|---|---|---|---|---|---|\n",
       "| 2625                | Patryk Rachwal,18   | 2012-02-22 00:00:00 | 58                  | 45                  | 4                   | \n",
       "| 2625                | Patryk Rachwal,18   | 2013-03-08 00:00:00 | 61                  | 45                  | 4                   | \n",
       "| 2625                | Patryk Rachwal,18   | 2011-02-22 00:00:00 | 59                  | 45                  | 4                   | \n",
       "| 2625                | Patryk Rachwal,18   | 2014-09-18 00:00:00 | 61                  | 45                  | 4                   | \n",
       "| 2625                | Patryk Rachwal,18   | 2012-08-31 00:00:00 | 58                  | 45                  | 4                   | \n",
       "| 2625                | Patryk Rachwal,18   | 2014-11-07 00:00:00 | 61                  | 45                  | 4                   | \n",
       "\n",
       "\n"
      ],
      "text/plain": [
       "  player_api_id player_name       date                overall_rating gk_overall\n",
       "1 2625          Patryk Rachwal,18 2012-02-22 00:00:00 58             45        \n",
       "2 2625          Patryk Rachwal,18 2013-03-08 00:00:00 61             45        \n",
       "3 2625          Patryk Rachwal,18 2011-02-22 00:00:00 59             45        \n",
       "4 2625          Patryk Rachwal,18 2014-09-18 00:00:00 61             45        \n",
       "5 2625          Patryk Rachwal,18 2012-08-31 00:00:00 58             45        \n",
       "6 2625          Patryk Rachwal,18 2014-11-07 00:00:00 61             45        \n",
       "  Freq\n",
       "1 4   \n",
       "2 4   \n",
       "3 4   \n",
       "4 4   \n",
       "5 4   \n",
       "6 4   "
      ]
     },
     "metadata": {},
     "output_type": "display_data"
    }
   ],
   "source": [
    "head(playerStats)"
   ]
  },
  {
   "cell_type": "code",
   "execution_count": 43,
   "metadata": {
    "collapsed": false
   },
   "outputs": [
    {
     "data": {
      "text/html": [
       "<table>\n",
       "<thead><tr><th scope=col>player_api_id</th><th scope=col>player_name</th><th scope=col>date</th><th scope=col>overall_rating</th><th scope=col>gk_overall</th><th scope=col>number_of_appearances</th></tr></thead>\n",
       "<tbody>\n",
       "\t<tr><td>2625               </td><td>Patryk Rachwal,18  </td><td>2012-02-22 00:00:00</td><td>58                 </td><td>45                 </td><td>4                  </td></tr>\n",
       "\t<tr><td>2625               </td><td>Patryk Rachwal,18  </td><td>2013-03-08 00:00:00</td><td>61                 </td><td>45                 </td><td>4                  </td></tr>\n",
       "\t<tr><td>2625               </td><td>Patryk Rachwal,18  </td><td>2011-02-22 00:00:00</td><td>59                 </td><td>45                 </td><td>4                  </td></tr>\n",
       "\t<tr><td>2625               </td><td>Patryk Rachwal,18  </td><td>2014-09-18 00:00:00</td><td>61                 </td><td>45                 </td><td>4                  </td></tr>\n",
       "\t<tr><td>2625               </td><td>Patryk Rachwal,18  </td><td>2012-08-31 00:00:00</td><td>58                 </td><td>45                 </td><td>4                  </td></tr>\n",
       "\t<tr><td>2625               </td><td>Patryk Rachwal,18  </td><td>2014-11-07 00:00:00</td><td>61                 </td><td>45                 </td><td>4                  </td></tr>\n",
       "</tbody>\n",
       "</table>\n"
      ],
      "text/latex": [
       "\\begin{tabular}{r|llllll}\n",
       " player\\_api\\_id & player\\_name & date & overall\\_rating & gk\\_overall & number\\_of\\_appearances\\\\\n",
       "\\hline\n",
       "\t 2625                & Patryk Rachwal,18   & 2012-02-22 00:00:00 & 58                  & 45                  & 4                  \\\\\n",
       "\t 2625                & Patryk Rachwal,18   & 2013-03-08 00:00:00 & 61                  & 45                  & 4                  \\\\\n",
       "\t 2625                & Patryk Rachwal,18   & 2011-02-22 00:00:00 & 59                  & 45                  & 4                  \\\\\n",
       "\t 2625                & Patryk Rachwal,18   & 2014-09-18 00:00:00 & 61                  & 45                  & 4                  \\\\\n",
       "\t 2625                & Patryk Rachwal,18   & 2012-08-31 00:00:00 & 58                  & 45                  & 4                  \\\\\n",
       "\t 2625                & Patryk Rachwal,18   & 2014-11-07 00:00:00 & 61                  & 45                  & 4                  \\\\\n",
       "\\end{tabular}\n"
      ],
      "text/markdown": [
       "\n",
       "player_api_id | player_name | date | overall_rating | gk_overall | number_of_appearances | \n",
       "|---|---|---|---|---|---|\n",
       "| 2625                | Patryk Rachwal,18   | 2012-02-22 00:00:00 | 58                  | 45                  | 4                   | \n",
       "| 2625                | Patryk Rachwal,18   | 2013-03-08 00:00:00 | 61                  | 45                  | 4                   | \n",
       "| 2625                | Patryk Rachwal,18   | 2011-02-22 00:00:00 | 59                  | 45                  | 4                   | \n",
       "| 2625                | Patryk Rachwal,18   | 2014-09-18 00:00:00 | 61                  | 45                  | 4                   | \n",
       "| 2625                | Patryk Rachwal,18   | 2012-08-31 00:00:00 | 58                  | 45                  | 4                   | \n",
       "| 2625                | Patryk Rachwal,18   | 2014-11-07 00:00:00 | 61                  | 45                  | 4                   | \n",
       "\n",
       "\n"
      ],
      "text/plain": [
       "  player_api_id player_name       date                overall_rating gk_overall\n",
       "1 2625          Patryk Rachwal,18 2012-02-22 00:00:00 58             45        \n",
       "2 2625          Patryk Rachwal,18 2013-03-08 00:00:00 61             45        \n",
       "3 2625          Patryk Rachwal,18 2011-02-22 00:00:00 59             45        \n",
       "4 2625          Patryk Rachwal,18 2014-09-18 00:00:00 61             45        \n",
       "5 2625          Patryk Rachwal,18 2012-08-31 00:00:00 58             45        \n",
       "6 2625          Patryk Rachwal,18 2014-11-07 00:00:00 61             45        \n",
       "  number_of_appearances\n",
       "1 4                    \n",
       "2 4                    \n",
       "3 4                    \n",
       "4 4                    \n",
       "5 4                    \n",
       "6 4                    "
      ]
     },
     "metadata": {},
     "output_type": "display_data"
    }
   ],
   "source": [
    "names(playerStats)[names(playerStats) == 'Freq'] <- 'number_of_appearances'\n",
    "head(playerStats)"
   ]
  },
  {
   "cell_type": "markdown",
   "metadata": {},
   "source": [
    "### count number of league's a player has played in, using group by clause of sql "
   ]
  },
  {
   "cell_type": "code",
   "execution_count": 44,
   "metadata": {
    "collapsed": false
   },
   "outputs": [],
   "source": [
    "join<- dbGetQuery(dbcon, \"SELECT COUNT(DISTINCT(league_id)) AS number_of_leagues, player_api_id FROM Player INNER JOIN Match WHERE (player_api_id=home_player_1 OR player_api_id=home_player_2 OR player_api_id=home_player_3 OR player_api_id=home_player_4 OR player_api_id= home_player_5 OR player_api_id= home_player_6 OR player_api_id= home_player_7 OR player_api_id=home_player_8 OR player_api_id=home_player_9 OR player_api_id=home_player_10 OR player_api_id=home_player_11 OR player_api_id=away_player_1 OR player_api_id=away_player_2 OR player_api_id=away_player_3 OR player_api_id=away_player_4 OR player_api_id=away_player_5 OR player_api_id=away_player_6 OR player_api_id=away_player_7 OR player_api_id=away_player_8 OR player_api_id=away_player_9 OR player_api_id=away_player_10 OR player_api_id=away_player_11)  GROUP BY player_api_id\")"
   ]
  },
  {
   "cell_type": "code",
   "execution_count": 45,
   "metadata": {
    "collapsed": false
   },
   "outputs": [
    {
     "data": {
      "text/html": [
       "<table>\n",
       "<thead><tr><th scope=col>number_of_leagues</th><th scope=col>player_api_id</th></tr></thead>\n",
       "<tbody>\n",
       "\t<tr><td>1   </td><td>2625</td></tr>\n",
       "\t<tr><td>1   </td><td>2752</td></tr>\n",
       "\t<tr><td>1   </td><td>2768</td></tr>\n",
       "\t<tr><td>2   </td><td>2770</td></tr>\n",
       "\t<tr><td>1   </td><td>2790</td></tr>\n",
       "\t<tr><td>1   </td><td>2796</td></tr>\n",
       "</tbody>\n",
       "</table>\n"
      ],
      "text/latex": [
       "\\begin{tabular}{r|ll}\n",
       " number\\_of\\_leagues & player\\_api\\_id\\\\\n",
       "\\hline\n",
       "\t 1    & 2625\\\\\n",
       "\t 1    & 2752\\\\\n",
       "\t 1    & 2768\\\\\n",
       "\t 2    & 2770\\\\\n",
       "\t 1    & 2790\\\\\n",
       "\t 1    & 2796\\\\\n",
       "\\end{tabular}\n"
      ],
      "text/markdown": [
       "\n",
       "number_of_leagues | player_api_id | \n",
       "|---|---|---|---|---|---|\n",
       "| 1    | 2625 | \n",
       "| 1    | 2752 | \n",
       "| 1    | 2768 | \n",
       "| 2    | 2770 | \n",
       "| 1    | 2790 | \n",
       "| 1    | 2796 | \n",
       "\n",
       "\n"
      ],
      "text/plain": [
       "  number_of_leagues player_api_id\n",
       "1 1                 2625         \n",
       "2 1                 2752         \n",
       "3 1                 2768         \n",
       "4 2                 2770         \n",
       "5 1                 2790         \n",
       "6 1                 2796         "
      ]
     },
     "metadata": {},
     "output_type": "display_data"
    }
   ],
   "source": [
    "head(join)"
   ]
  },
  {
   "cell_type": "code",
   "execution_count": 46,
   "metadata": {
    "collapsed": true
   },
   "outputs": [],
   "source": [
    "playerStats<-merge(x=playerStats, y=join, by.x=\"player_api_id\", by.y=\"player_api_id\")"
   ]
  },
  {
   "cell_type": "code",
   "execution_count": 47,
   "metadata": {
    "collapsed": false
   },
   "outputs": [
    {
     "data": {
      "text/html": [
       "<table>\n",
       "<thead><tr><th scope=col>player_api_id</th><th scope=col>player_name</th><th scope=col>date</th><th scope=col>overall_rating</th><th scope=col>gk_overall</th><th scope=col>number_of_appearances</th><th scope=col>number_of_leagues</th></tr></thead>\n",
       "<tbody>\n",
       "\t<tr><td>2625               </td><td>Patryk Rachwal,18  </td><td>2012-02-22 00:00:00</td><td>58                 </td><td>45                 </td><td>4                  </td><td>1                  </td></tr>\n",
       "\t<tr><td>2625               </td><td>Patryk Rachwal,18  </td><td>2013-03-08 00:00:00</td><td>61                 </td><td>45                 </td><td>4                  </td><td>1                  </td></tr>\n",
       "\t<tr><td>2625               </td><td>Patryk Rachwal,18  </td><td>2011-02-22 00:00:00</td><td>59                 </td><td>45                 </td><td>4                  </td><td>1                  </td></tr>\n",
       "\t<tr><td>2625               </td><td>Patryk Rachwal,18  </td><td>2014-09-18 00:00:00</td><td>61                 </td><td>45                 </td><td>4                  </td><td>1                  </td></tr>\n",
       "\t<tr><td>2625               </td><td>Patryk Rachwal,18  </td><td>2012-08-31 00:00:00</td><td>58                 </td><td>45                 </td><td>4                  </td><td>1                  </td></tr>\n",
       "\t<tr><td>2625               </td><td>Patryk Rachwal,18  </td><td>2014-11-07 00:00:00</td><td>61                 </td><td>45                 </td><td>4                  </td><td>1                  </td></tr>\n",
       "</tbody>\n",
       "</table>\n"
      ],
      "text/latex": [
       "\\begin{tabular}{r|lllllll}\n",
       " player\\_api\\_id & player\\_name & date & overall\\_rating & gk\\_overall & number\\_of\\_appearances & number\\_of\\_leagues\\\\\n",
       "\\hline\n",
       "\t 2625                & Patryk Rachwal,18   & 2012-02-22 00:00:00 & 58                  & 45                  & 4                   & 1                  \\\\\n",
       "\t 2625                & Patryk Rachwal,18   & 2013-03-08 00:00:00 & 61                  & 45                  & 4                   & 1                  \\\\\n",
       "\t 2625                & Patryk Rachwal,18   & 2011-02-22 00:00:00 & 59                  & 45                  & 4                   & 1                  \\\\\n",
       "\t 2625                & Patryk Rachwal,18   & 2014-09-18 00:00:00 & 61                  & 45                  & 4                   & 1                  \\\\\n",
       "\t 2625                & Patryk Rachwal,18   & 2012-08-31 00:00:00 & 58                  & 45                  & 4                   & 1                  \\\\\n",
       "\t 2625                & Patryk Rachwal,18   & 2014-11-07 00:00:00 & 61                  & 45                  & 4                   & 1                  \\\\\n",
       "\\end{tabular}\n"
      ],
      "text/markdown": [
       "\n",
       "player_api_id | player_name | date | overall_rating | gk_overall | number_of_appearances | number_of_leagues | \n",
       "|---|---|---|---|---|---|\n",
       "| 2625                | Patryk Rachwal,18   | 2012-02-22 00:00:00 | 58                  | 45                  | 4                   | 1                   | \n",
       "| 2625                | Patryk Rachwal,18   | 2013-03-08 00:00:00 | 61                  | 45                  | 4                   | 1                   | \n",
       "| 2625                | Patryk Rachwal,18   | 2011-02-22 00:00:00 | 59                  | 45                  | 4                   | 1                   | \n",
       "| 2625                | Patryk Rachwal,18   | 2014-09-18 00:00:00 | 61                  | 45                  | 4                   | 1                   | \n",
       "| 2625                | Patryk Rachwal,18   | 2012-08-31 00:00:00 | 58                  | 45                  | 4                   | 1                   | \n",
       "| 2625                | Patryk Rachwal,18   | 2014-11-07 00:00:00 | 61                  | 45                  | 4                   | 1                   | \n",
       "\n",
       "\n"
      ],
      "text/plain": [
       "  player_api_id player_name       date                overall_rating gk_overall\n",
       "1 2625          Patryk Rachwal,18 2012-02-22 00:00:00 58             45        \n",
       "2 2625          Patryk Rachwal,18 2013-03-08 00:00:00 61             45        \n",
       "3 2625          Patryk Rachwal,18 2011-02-22 00:00:00 59             45        \n",
       "4 2625          Patryk Rachwal,18 2014-09-18 00:00:00 61             45        \n",
       "5 2625          Patryk Rachwal,18 2012-08-31 00:00:00 58             45        \n",
       "6 2625          Patryk Rachwal,18 2014-11-07 00:00:00 61             45        \n",
       "  number_of_appearances number_of_leagues\n",
       "1 4                     1                \n",
       "2 4                     1                \n",
       "3 4                     1                \n",
       "4 4                     1                \n",
       "5 4                     1                \n",
       "6 4                     1                "
      ]
     },
     "metadata": {},
     "output_type": "display_data"
    }
   ],
   "source": [
    "head(playerStats)"
   ]
  },
  {
   "cell_type": "markdown",
   "metadata": {},
   "source": [
    "### For number of goals map home goals and aways goals to respective teams seperately and then merge the two views using team_api_id value later."
   ]
  },
  {
   "cell_type": "code",
   "execution_count": 48,
   "metadata": {
    "collapsed": false
   },
   "outputs": [
    {
     "data": {
      "text/html": [
       "<table>\n",
       "<thead><tr><th scope=col>home_team_api_id</th><th scope=col>away_team_api_id</th><th scope=col>home_team_goal</th><th scope=col>away_team_goal</th></tr></thead>\n",
       "<tbody>\n",
       "\t<tr><td> 9987</td><td>9993 </td><td>1    </td><td>1    </td></tr>\n",
       "\t<tr><td>10000</td><td>9994 </td><td>0    </td><td>0    </td></tr>\n",
       "\t<tr><td> 9984</td><td>8635 </td><td>0    </td><td>3    </td></tr>\n",
       "\t<tr><td> 9991</td><td>9998 </td><td>5    </td><td>0    </td></tr>\n",
       "\t<tr><td> 7947</td><td>9985 </td><td>1    </td><td>3    </td></tr>\n",
       "\t<tr><td> 8203</td><td>8342 </td><td>1    </td><td>1    </td></tr>\n",
       "</tbody>\n",
       "</table>\n"
      ],
      "text/latex": [
       "\\begin{tabular}{r|llll}\n",
       " home\\_team\\_api\\_id & away\\_team\\_api\\_id & home\\_team\\_goal & away\\_team\\_goal\\\\\n",
       "\\hline\n",
       "\t  9987 & 9993  & 1     & 1    \\\\\n",
       "\t 10000 & 9994  & 0     & 0    \\\\\n",
       "\t  9984 & 8635  & 0     & 3    \\\\\n",
       "\t  9991 & 9998  & 5     & 0    \\\\\n",
       "\t  7947 & 9985  & 1     & 3    \\\\\n",
       "\t  8203 & 8342  & 1     & 1    \\\\\n",
       "\\end{tabular}\n"
      ],
      "text/markdown": [
       "\n",
       "home_team_api_id | away_team_api_id | home_team_goal | away_team_goal | \n",
       "|---|---|---|---|---|---|\n",
       "|  9987 | 9993  | 1     | 1     | \n",
       "| 10000 | 9994  | 0     | 0     | \n",
       "|  9984 | 8635  | 0     | 3     | \n",
       "|  9991 | 9998  | 5     | 0     | \n",
       "|  7947 | 9985  | 1     | 3     | \n",
       "|  8203 | 8342  | 1     | 1     | \n",
       "\n",
       "\n"
      ],
      "text/plain": [
       "  home_team_api_id away_team_api_id home_team_goal away_team_goal\n",
       "1  9987            9993             1              1             \n",
       "2 10000            9994             0              0             \n",
       "3  9984            8635             0              3             \n",
       "4  9991            9998             5              0             \n",
       "5  7947            9985             1              3             \n",
       "6  8203            8342             1              1             "
      ]
     },
     "metadata": {},
     "output_type": "display_data"
    }
   ],
   "source": [
    "goals<-dbGetQuery(dbcon, \"Select home_team_api_id, away_team_api_id,home_team_goal, away_team_goal from Match\")\n",
    "head(goals)"
   ]
  },
  {
   "cell_type": "code",
   "execution_count": 49,
   "metadata": {
    "collapsed": false
   },
   "outputs": [
    {
     "data": {
      "text/html": [
       "<table>\n",
       "<thead><tr><th scope=col>home</th><th scope=col>home_team_api_id</th></tr></thead>\n",
       "<tbody>\n",
       "\t<tr><td>148 </td><td>1601</td></tr>\n",
       "\t<tr><td> 74 </td><td>1773</td></tr>\n",
       "\t<tr><td>176 </td><td>1957</td></tr>\n",
       "\t<tr><td> 70 </td><td>2033</td></tr>\n",
       "\t<tr><td>215 </td><td>2182</td></tr>\n",
       "\t<tr><td> 96 </td><td>2183</td></tr>\n",
       "</tbody>\n",
       "</table>\n"
      ],
      "text/latex": [
       "\\begin{tabular}{r|ll}\n",
       " home & home\\_team\\_api\\_id\\\\\n",
       "\\hline\n",
       "\t 148  & 1601\\\\\n",
       "\t  74  & 1773\\\\\n",
       "\t 176  & 1957\\\\\n",
       "\t  70  & 2033\\\\\n",
       "\t 215  & 2182\\\\\n",
       "\t  96  & 2183\\\\\n",
       "\\end{tabular}\n"
      ],
      "text/markdown": [
       "\n",
       "home | home_team_api_id | \n",
       "|---|---|---|---|---|---|\n",
       "| 148  | 1601 | \n",
       "|  74  | 1773 | \n",
       "| 176  | 1957 | \n",
       "|  70  | 2033 | \n",
       "| 215  | 2182 | \n",
       "|  96  | 2183 | \n",
       "\n",
       "\n"
      ],
      "text/plain": [
       "  home home_team_api_id\n",
       "1 148  1601            \n",
       "2  74  1773            \n",
       "3 176  1957            \n",
       "4  70  2033            \n",
       "5 215  2182            \n",
       "6  96  2183            "
      ]
     },
     "metadata": {},
     "output_type": "display_data"
    },
    {
     "data": {
      "text/html": [
       "<table>\n",
       "<thead><tr><th scope=col>away</th><th scope=col>away_team_api_id</th></tr></thead>\n",
       "<tbody>\n",
       "\t<tr><td>132 </td><td>1601</td></tr>\n",
       "\t<tr><td> 52 </td><td>1773</td></tr>\n",
       "\t<tr><td>111 </td><td>1957</td></tr>\n",
       "\t<tr><td> 68 </td><td>2033</td></tr>\n",
       "\t<tr><td>157 </td><td>2182</td></tr>\n",
       "\t<tr><td> 88 </td><td>2183</td></tr>\n",
       "</tbody>\n",
       "</table>\n"
      ],
      "text/latex": [
       "\\begin{tabular}{r|ll}\n",
       " away & away\\_team\\_api\\_id\\\\\n",
       "\\hline\n",
       "\t 132  & 1601\\\\\n",
       "\t  52  & 1773\\\\\n",
       "\t 111  & 1957\\\\\n",
       "\t  68  & 2033\\\\\n",
       "\t 157  & 2182\\\\\n",
       "\t  88  & 2183\\\\\n",
       "\\end{tabular}\n"
      ],
      "text/markdown": [
       "\n",
       "away | away_team_api_id | \n",
       "|---|---|---|---|---|---|\n",
       "| 132  | 1601 | \n",
       "|  52  | 1773 | \n",
       "| 111  | 1957 | \n",
       "|  68  | 2033 | \n",
       "| 157  | 2182 | \n",
       "|  88  | 2183 | \n",
       "\n",
       "\n"
      ],
      "text/plain": [
       "  away away_team_api_id\n",
       "1 132  1601            \n",
       "2  52  1773            \n",
       "3 111  1957            \n",
       "4  68  2033            \n",
       "5 157  2182            \n",
       "6  88  2183            "
      ]
     },
     "metadata": {},
     "output_type": "display_data"
    }
   ],
   "source": [
    "homeGoals<-sqldf(\"Select sum(home_team_goal) as home, home_team_api_id from goals group by home_team_api_id\") \n",
    "awayGoals<-sqldf(\"Select sum(away_team_goal) as away, away_team_api_id from goals group by away_team_api_id\")\n",
    "head(homeGoals)\n",
    "head(awayGoals)"
   ]
  },
  {
   "cell_type": "code",
   "execution_count": 50,
   "metadata": {
    "collapsed": true
   },
   "outputs": [],
   "source": [
    "totalGoals<-sqldf(\"select home_team_api_id as team_id, (home+away) as total_goals from homeGoals inner join awayGoals where home_team_api_id=away_team_api_id\")"
   ]
  },
  {
   "cell_type": "code",
   "execution_count": 51,
   "metadata": {
    "collapsed": false
   },
   "outputs": [
    {
     "data": {
      "text/html": [
       "<table>\n",
       "<thead><tr><th scope=col>team_id</th><th scope=col>total_goals</th></tr></thead>\n",
       "<tbody>\n",
       "\t<tr><td>1601</td><td>280 </td></tr>\n",
       "\t<tr><td>1773</td><td>126 </td></tr>\n",
       "\t<tr><td>1957</td><td>287 </td></tr>\n",
       "\t<tr><td>2033</td><td>138 </td></tr>\n",
       "\t<tr><td>2182</td><td>372 </td></tr>\n",
       "\t<tr><td>2183</td><td>184 </td></tr>\n",
       "</tbody>\n",
       "</table>\n"
      ],
      "text/latex": [
       "\\begin{tabular}{r|ll}\n",
       " team\\_id & total\\_goals\\\\\n",
       "\\hline\n",
       "\t 1601 & 280 \\\\\n",
       "\t 1773 & 126 \\\\\n",
       "\t 1957 & 287 \\\\\n",
       "\t 2033 & 138 \\\\\n",
       "\t 2182 & 372 \\\\\n",
       "\t 2183 & 184 \\\\\n",
       "\\end{tabular}\n"
      ],
      "text/markdown": [
       "\n",
       "team_id | total_goals | \n",
       "|---|---|---|---|---|---|\n",
       "| 1601 | 280  | \n",
       "| 1773 | 126  | \n",
       "| 1957 | 287  | \n",
       "| 2033 | 138  | \n",
       "| 2182 | 372  | \n",
       "| 2183 | 184  | \n",
       "\n",
       "\n"
      ],
      "text/plain": [
       "  team_id total_goals\n",
       "1 1601    280        \n",
       "2 1773    126        \n",
       "3 1957    287        \n",
       "4 2033    138        \n",
       "5 2182    372        \n",
       "6 2183    184        "
      ]
     },
     "metadata": {},
     "output_type": "display_data"
    }
   ],
   "source": [
    "head(totalGoals)"
   ]
  },
  {
   "cell_type": "code",
   "execution_count": 52,
   "metadata": {
    "collapsed": false
   },
   "outputs": [],
   "source": [
    "teamStats<-merge(x=teamStats, y=totalGoals, by.x=\"team_api_id\", by.y=\"team_id\")"
   ]
  },
  {
   "cell_type": "code",
   "execution_count": 54,
   "metadata": {
    "collapsed": false
   },
   "outputs": [
    {
     "data": {
      "text/html": [
       "<table>\n",
       "<thead><tr><th scope=col>team_api_id</th><th scope=col>team_long_name</th><th scope=col>date</th><th scope=col>build_up_play</th><th scope=col>chance_creation</th><th scope=col>defence</th><th scope=col>total_goals</th></tr></thead>\n",
       "<tbody>\n",
       "\t<tr><td>1601               </td><td>Ruch Chorzów       </td><td>2010-02-22 00:00:00</td><td>  0                </td><td>155                </td><td>175                </td><td>280                </td></tr>\n",
       "\t<tr><td>1601               </td><td>Ruch Chorzów       </td><td>2011-02-22 00:00:00</td><td>  0                </td><td>186                </td><td>144                </td><td>280                </td></tr>\n",
       "\t<tr><td>1601               </td><td>Ruch Chorzów       </td><td>2012-02-22 00:00:00</td><td>  0                </td><td>159                </td><td>136                </td><td>280                </td></tr>\n",
       "\t<tr><td>1601               </td><td>Ruch Chorzów       </td><td>2013-09-20 00:00:00</td><td>  0                </td><td>159                </td><td>136                </td><td>280                </td></tr>\n",
       "\t<tr><td>1601               </td><td>Ruch Chorzów       </td><td>2014-09-19 00:00:00</td><td>139                </td><td>181                </td><td>136                </td><td>280                </td></tr>\n",
       "\t<tr><td>1601               </td><td>Ruch Chorzów       </td><td>2015-09-10 00:00:00</td><td>133                </td><td>176                </td><td>136                </td><td>280                </td></tr>\n",
       "</tbody>\n",
       "</table>\n"
      ],
      "text/latex": [
       "\\begin{tabular}{r|lllllll}\n",
       " team\\_api\\_id & team\\_long\\_name & date & build\\_up\\_play & chance\\_creation & defence & total\\_goals\\\\\n",
       "\\hline\n",
       "\t 1601                & Ruch Chorzów        & 2010-02-22 00:00:00 &   0                 & 155                 & 175                 & 280                \\\\\n",
       "\t 1601                & Ruch Chorzów        & 2011-02-22 00:00:00 &   0                 & 186                 & 144                 & 280                \\\\\n",
       "\t 1601                & Ruch Chorzów        & 2012-02-22 00:00:00 &   0                 & 159                 & 136                 & 280                \\\\\n",
       "\t 1601                & Ruch Chorzów        & 2013-09-20 00:00:00 &   0                 & 159                 & 136                 & 280                \\\\\n",
       "\t 1601                & Ruch Chorzów        & 2014-09-19 00:00:00 & 139                 & 181                 & 136                 & 280                \\\\\n",
       "\t 1601                & Ruch Chorzów        & 2015-09-10 00:00:00 & 133                 & 176                 & 136                 & 280                \\\\\n",
       "\\end{tabular}\n"
      ],
      "text/markdown": [
       "\n",
       "team_api_id | team_long_name | date | build_up_play | chance_creation | defence | total_goals | \n",
       "|---|---|---|---|---|---|\n",
       "| 1601                | Ruch Chorzów        | 2010-02-22 00:00:00 |   0                 | 155                 | 175                 | 280                 | \n",
       "| 1601                | Ruch Chorzów        | 2011-02-22 00:00:00 |   0                 | 186                 | 144                 | 280                 | \n",
       "| 1601                | Ruch Chorzów        | 2012-02-22 00:00:00 |   0                 | 159                 | 136                 | 280                 | \n",
       "| 1601                | Ruch Chorzów        | 2013-09-20 00:00:00 |   0                 | 159                 | 136                 | 280                 | \n",
       "| 1601                | Ruch Chorzów        | 2014-09-19 00:00:00 | 139                 | 181                 | 136                 | 280                 | \n",
       "| 1601                | Ruch Chorzów        | 2015-09-10 00:00:00 | 133                 | 176                 | 136                 | 280                 | \n",
       "\n",
       "\n"
      ],
      "text/plain": [
       "  team_api_id team_long_name date                build_up_play chance_creation\n",
       "1 1601        Ruch Chorzów   2010-02-22 00:00:00   0           155            \n",
       "2 1601        Ruch Chorzów   2011-02-22 00:00:00   0           186            \n",
       "3 1601        Ruch Chorzów   2012-02-22 00:00:00   0           159            \n",
       "4 1601        Ruch Chorzów   2013-09-20 00:00:00   0           159            \n",
       "5 1601        Ruch Chorzów   2014-09-19 00:00:00 139           181            \n",
       "6 1601        Ruch Chorzów   2015-09-10 00:00:00 133           176            \n",
       "  defence total_goals\n",
       "1 175     280        \n",
       "2 144     280        \n",
       "3 136     280        \n",
       "4 136     280        \n",
       "5 136     280        \n",
       "6 136     280        "
      ]
     },
     "metadata": {},
     "output_type": "display_data"
    },
    {
     "data": {
      "text/html": [
       "<table>\n",
       "<thead><tr><th scope=col>player_api_id</th><th scope=col>player_name</th><th scope=col>date</th><th scope=col>overall_rating</th><th scope=col>gk_overall</th><th scope=col>number_of_appearances</th><th scope=col>number_of_leagues</th></tr></thead>\n",
       "<tbody>\n",
       "\t<tr><td>2625               </td><td>Patryk Rachwal,18  </td><td>2012-02-22 00:00:00</td><td>58                 </td><td>45                 </td><td>4                  </td><td>1                  </td></tr>\n",
       "\t<tr><td>2625               </td><td>Patryk Rachwal,18  </td><td>2013-03-08 00:00:00</td><td>61                 </td><td>45                 </td><td>4                  </td><td>1                  </td></tr>\n",
       "\t<tr><td>2625               </td><td>Patryk Rachwal,18  </td><td>2011-02-22 00:00:00</td><td>59                 </td><td>45                 </td><td>4                  </td><td>1                  </td></tr>\n",
       "\t<tr><td>2625               </td><td>Patryk Rachwal,18  </td><td>2014-09-18 00:00:00</td><td>61                 </td><td>45                 </td><td>4                  </td><td>1                  </td></tr>\n",
       "\t<tr><td>2625               </td><td>Patryk Rachwal,18  </td><td>2012-08-31 00:00:00</td><td>58                 </td><td>45                 </td><td>4                  </td><td>1                  </td></tr>\n",
       "\t<tr><td>2625               </td><td>Patryk Rachwal,18  </td><td>2014-11-07 00:00:00</td><td>61                 </td><td>45                 </td><td>4                  </td><td>1                  </td></tr>\n",
       "</tbody>\n",
       "</table>\n"
      ],
      "text/latex": [
       "\\begin{tabular}{r|lllllll}\n",
       " player\\_api\\_id & player\\_name & date & overall\\_rating & gk\\_overall & number\\_of\\_appearances & number\\_of\\_leagues\\\\\n",
       "\\hline\n",
       "\t 2625                & Patryk Rachwal,18   & 2012-02-22 00:00:00 & 58                  & 45                  & 4                   & 1                  \\\\\n",
       "\t 2625                & Patryk Rachwal,18   & 2013-03-08 00:00:00 & 61                  & 45                  & 4                   & 1                  \\\\\n",
       "\t 2625                & Patryk Rachwal,18   & 2011-02-22 00:00:00 & 59                  & 45                  & 4                   & 1                  \\\\\n",
       "\t 2625                & Patryk Rachwal,18   & 2014-09-18 00:00:00 & 61                  & 45                  & 4                   & 1                  \\\\\n",
       "\t 2625                & Patryk Rachwal,18   & 2012-08-31 00:00:00 & 58                  & 45                  & 4                   & 1                  \\\\\n",
       "\t 2625                & Patryk Rachwal,18   & 2014-11-07 00:00:00 & 61                  & 45                  & 4                   & 1                  \\\\\n",
       "\\end{tabular}\n"
      ],
      "text/markdown": [
       "\n",
       "player_api_id | player_name | date | overall_rating | gk_overall | number_of_appearances | number_of_leagues | \n",
       "|---|---|---|---|---|---|\n",
       "| 2625                | Patryk Rachwal,18   | 2012-02-22 00:00:00 | 58                  | 45                  | 4                   | 1                   | \n",
       "| 2625                | Patryk Rachwal,18   | 2013-03-08 00:00:00 | 61                  | 45                  | 4                   | 1                   | \n",
       "| 2625                | Patryk Rachwal,18   | 2011-02-22 00:00:00 | 59                  | 45                  | 4                   | 1                   | \n",
       "| 2625                | Patryk Rachwal,18   | 2014-09-18 00:00:00 | 61                  | 45                  | 4                   | 1                   | \n",
       "| 2625                | Patryk Rachwal,18   | 2012-08-31 00:00:00 | 58                  | 45                  | 4                   | 1                   | \n",
       "| 2625                | Patryk Rachwal,18   | 2014-11-07 00:00:00 | 61                  | 45                  | 4                   | 1                   | \n",
       "\n",
       "\n"
      ],
      "text/plain": [
       "  player_api_id player_name       date                overall_rating gk_overall\n",
       "1 2625          Patryk Rachwal,18 2012-02-22 00:00:00 58             45        \n",
       "2 2625          Patryk Rachwal,18 2013-03-08 00:00:00 61             45        \n",
       "3 2625          Patryk Rachwal,18 2011-02-22 00:00:00 59             45        \n",
       "4 2625          Patryk Rachwal,18 2014-09-18 00:00:00 61             45        \n",
       "5 2625          Patryk Rachwal,18 2012-08-31 00:00:00 58             45        \n",
       "6 2625          Patryk Rachwal,18 2014-11-07 00:00:00 61             45        \n",
       "  number_of_appearances number_of_leagues\n",
       "1 4                     1                \n",
       "2 4                     1                \n",
       "3 4                     1                \n",
       "4 4                     1                \n",
       "5 4                     1                \n",
       "6 4                     1                "
      ]
     },
     "metadata": {},
     "output_type": "display_data"
    }
   ],
   "source": [
    "head(teamStats)\n",
    "head(playerStats)"
   ]
  },
  {
   "cell_type": "markdown",
   "metadata": {},
   "source": [
    "### write the dataFrames to csv files."
   ]
  },
  {
   "cell_type": "code",
   "execution_count": 56,
   "metadata": {
    "collapsed": true
   },
   "outputs": [],
   "source": [
    "write.csv(file=\"Players.csv\", playerStats)\n",
    "write.csv(file=\"Teams.csv\", teamStats)"
   ]
  },
  {
   "cell_type": "markdown",
   "metadata": {},
   "source": [
    "### References\n",
    "\n",
    "#### https://www.w3schools.com/sql/\n",
    "#### https://cran.r-project.org/web/packages/RSQLite/RSQLite.pdf\n",
    "#### https://stat.ethz.ch/R-manual/R-devel/library/base/html/merge.html\n",
    "#### https://stat.ethz.ch/R-manual/R-devel/library/base/html/grep.html\n",
    "#### https://stat.ethz.ch/R-manual/R-devel/library/base/html/unlist.html\n",
    "#### https://www.tutorialspoint.com/sqlite/\n"
   ]
  }
 ],
 "metadata": {
  "kernelspec": {
   "display_name": "R",
   "language": "R",
   "name": "ir"
  },
  "language_info": {
   "codemirror_mode": "r",
   "file_extension": ".r",
   "mimetype": "text/x-r-source",
   "name": "R",
   "pygments_lexer": "r",
   "version": "3.3.2"
  }
 },
 "nbformat": 4,
 "nbformat_minor": 2
}
